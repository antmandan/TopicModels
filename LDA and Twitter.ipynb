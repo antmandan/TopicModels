{
  "nbformat": 4,
  "nbformat_minor": 0,
  "metadata": {
    "kernelspec": {
      "display_name": "Python 3",
      "language": "python",
      "name": "python3"
    },
    "language_info": {
      "codemirror_mode": {
        "name": "ipython",
        "version": 3
      },
      "file_extension": ".py",
      "mimetype": "text/x-python",
      "name": "python",
      "nbconvert_exporter": "python",
      "pygments_lexer": "ipython3",
      "version": "3.7.3"
    },
    "colab": {
      "name": "Copy of LDA and Twitter.ipynb",
      "provenance": []
    }
  },
  "cells": [
    {
      "cell_type": "markdown",
      "metadata": {
        "id": "SEJWYJF-mAH-",
        "colab_type": "text"
      },
      "source": [
        "# Running LDA on a sample of Twitter Data\n",
        "\n",
        "In this workbook we will run a Latent Dirichlet Allocation Topic Model on a sample of Tweets. The workbook takes us through the basic steps involved in importing, cleaning, pre-processing, loading and analysing data using the LDA model. "
      ]
    },
    {
      "cell_type": "markdown",
      "metadata": {
        "id": "uh6xd_jMmAIA",
        "colab_type": "text"
      },
      "source": [
        "Import essential packages"
      ]
    },
    {
      "cell_type": "code",
      "metadata": {
        "id": "ZByh933pmAIB",
        "colab_type": "code",
        "outputId": "53af552b-ad3d-421a-c130-e9386596f9e3",
        "colab": {
          "base_uri": "https://localhost:8080/",
          "height": 578
        }
      },
      "source": [
        "import nltk; nltk.download('stopwords')\n",
        "\n",
        "import re\n",
        "import numpy as np\n",
        "import pandas as pd\n",
        "from pprint import pprint\n",
        "\n",
        "# Gensim\n",
        "import gensim\n",
        "import gensim.corpora as corpora\n",
        "from gensim.utils import simple_preprocess\n",
        "from gensim.models import CoherenceModel\n",
        "\n",
        "# spacy for lemmatization\n",
        "import spacy\n",
        "\n",
        "# Plotting tools\n",
        "import sys\n",
        "!{sys.executable} -m pip install pyLDAvis\n",
        "import pyLDAvis\n",
        "import pyLDAvis.gensim  # don't skip this\n",
        "import matplotlib.pyplot as plt\n",
        "%matplotlib inline\n",
        "\n",
        "# Enable logging for gensim - optional\n",
        "import logging\n",
        "logging.basicConfig(format='%(asctime)s : %(levelname)s : %(message)s', level=logging.ERROR)\n",
        "\n",
        "import warnings\n",
        "warnings.filterwarnings(\"ignore\",category=DeprecationWarning)"
      ],
      "execution_count": 0,
      "outputs": [
        {
          "output_type": "stream",
          "text": [
            "[nltk_data] Downloading package stopwords to /root/nltk_data...\n",
            "[nltk_data]   Unzipping corpora/stopwords.zip.\n",
            "Collecting pyLDAvis\n",
            "\u001b[?25l  Downloading https://files.pythonhosted.org/packages/a5/3a/af82e070a8a96e13217c8f362f9a73e82d61ac8fff3a2561946a97f96266/pyLDAvis-2.1.2.tar.gz (1.6MB)\n",
            "\u001b[K     |████████████████████████████████| 1.6MB 2.8MB/s \n",
            "\u001b[?25hRequirement already satisfied: wheel>=0.23.0 in /usr/local/lib/python3.6/dist-packages (from pyLDAvis) (0.33.6)\n",
            "Requirement already satisfied: numpy>=1.9.2 in /usr/local/lib/python3.6/dist-packages (from pyLDAvis) (1.17.3)\n",
            "Requirement already satisfied: scipy>=0.18.0 in /usr/local/lib/python3.6/dist-packages (from pyLDAvis) (1.3.1)\n",
            "Requirement already satisfied: pandas>=0.17.0 in /usr/local/lib/python3.6/dist-packages (from pyLDAvis) (0.25.3)\n",
            "Requirement already satisfied: joblib>=0.8.4 in /usr/local/lib/python3.6/dist-packages (from pyLDAvis) (0.14.0)\n",
            "Requirement already satisfied: jinja2>=2.7.2 in /usr/local/lib/python3.6/dist-packages (from pyLDAvis) (2.10.3)\n",
            "Requirement already satisfied: numexpr in /usr/local/lib/python3.6/dist-packages (from pyLDAvis) (2.7.0)\n",
            "Requirement already satisfied: pytest in /usr/local/lib/python3.6/dist-packages (from pyLDAvis) (3.6.4)\n",
            "Requirement already satisfied: future in /usr/local/lib/python3.6/dist-packages (from pyLDAvis) (0.16.0)\n",
            "Collecting funcy\n",
            "  Downloading https://files.pythonhosted.org/packages/eb/3a/fc8323f913e8a9c6f33f7203547f8a2171223da5ed965f2541dafb10aa09/funcy-1.13-py2.py3-none-any.whl\n",
            "Requirement already satisfied: python-dateutil>=2.6.1 in /usr/local/lib/python3.6/dist-packages (from pandas>=0.17.0->pyLDAvis) (2.6.1)\n",
            "Requirement already satisfied: pytz>=2017.2 in /usr/local/lib/python3.6/dist-packages (from pandas>=0.17.0->pyLDAvis) (2018.9)\n",
            "Requirement already satisfied: MarkupSafe>=0.23 in /usr/local/lib/python3.6/dist-packages (from jinja2>=2.7.2->pyLDAvis) (1.1.1)\n",
            "Requirement already satisfied: atomicwrites>=1.0 in /usr/local/lib/python3.6/dist-packages (from pytest->pyLDAvis) (1.3.0)\n",
            "Requirement already satisfied: attrs>=17.4.0 in /usr/local/lib/python3.6/dist-packages (from pytest->pyLDAvis) (19.3.0)\n",
            "Requirement already satisfied: pluggy<0.8,>=0.5 in /usr/local/lib/python3.6/dist-packages (from pytest->pyLDAvis) (0.7.1)\n",
            "Requirement already satisfied: setuptools in /usr/local/lib/python3.6/dist-packages (from pytest->pyLDAvis) (41.4.0)\n",
            "Requirement already satisfied: six>=1.10.0 in /usr/local/lib/python3.6/dist-packages (from pytest->pyLDAvis) (1.12.0)\n",
            "Requirement already satisfied: py>=1.5.0 in /usr/local/lib/python3.6/dist-packages (from pytest->pyLDAvis) (1.8.0)\n",
            "Requirement already satisfied: more-itertools>=4.0.0 in /usr/local/lib/python3.6/dist-packages (from pytest->pyLDAvis) (7.2.0)\n",
            "Building wheels for collected packages: pyLDAvis\n",
            "  Building wheel for pyLDAvis (setup.py) ... \u001b[?25l\u001b[?25hdone\n",
            "  Created wheel for pyLDAvis: filename=pyLDAvis-2.1.2-py2.py3-none-any.whl size=97711 sha256=d99f80aeac843c2c4f8d935e9f033f6b7341f6e44fe6abc2dfae09fd296fa52c\n",
            "  Stored in directory: /root/.cache/pip/wheels/98/71/24/513a99e58bb6b8465bae4d2d5e9dba8f0bef8179e3051ac414\n",
            "Successfully built pyLDAvis\n",
            "Installing collected packages: funcy, pyLDAvis\n",
            "Successfully installed funcy-1.13 pyLDAvis-2.1.2\n"
          ],
          "name": "stdout"
        }
      ]
    },
    {
      "cell_type": "markdown",
      "metadata": {
        "id": "QsXdq5JpmAIE",
        "colab_type": "text"
      },
      "source": [
        "Assign stopwords (common high frequency words that need to be removed) and edit the standard list to add any specific stopwrods for the input corpus."
      ]
    },
    {
      "cell_type": "code",
      "metadata": {
        "id": "3atdLZtnmAIF",
        "colab_type": "code",
        "colab": {}
      },
      "source": [
        "# NLTK Stop words\n",
        "from nltk.corpus import stopwords\n",
        "stop_words = stopwords.words('english')\n",
        "stop_words.extend(['from', 'subject', 're', 'edu', 'use'])"
      ],
      "execution_count": 0,
      "outputs": []
    },
    {
      "cell_type": "markdown",
      "metadata": {
        "id": "grmuX7qtmAII",
        "colab_type": "text"
      },
      "source": [
        "Load UseNet newsgroup forum dataset"
      ]
    },
    {
      "cell_type": "code",
      "metadata": {
        "id": "at9Fc9xRmAII",
        "colab_type": "code",
        "outputId": "2ec233d6-14f0-4f2d-ffd3-ec2f72d5ce95",
        "colab": {
          "base_uri": "https://localhost:8080/",
          "height": 306
        }
      },
      "source": [
        "# Import Dataset\n",
        "df = pd.read_json('https://raw.githubusercontent.com/selva86/datasets/master/newsgroups.json')\n",
        "print(df.target_names.unique())\n",
        "df.head()"
      ],
      "execution_count": 0,
      "outputs": [
        {
          "output_type": "stream",
          "text": [
            "['rec.autos' 'comp.sys.mac.hardware' 'comp.graphics' 'sci.space'\n",
            " 'talk.politics.guns' 'sci.med' 'comp.sys.ibm.pc.hardware'\n",
            " 'comp.os.ms-windows.misc' 'rec.motorcycles' 'talk.religion.misc'\n",
            " 'misc.forsale' 'alt.atheism' 'sci.electronics' 'comp.windows.x'\n",
            " 'rec.sport.hockey' 'rec.sport.baseball' 'soc.religion.christian'\n",
            " 'talk.politics.mideast' 'talk.politics.misc' 'sci.crypt']\n"
          ],
          "name": "stdout"
        },
        {
          "output_type": "execute_result",
          "data": {
            "text/html": [
              "<div>\n",
              "<style scoped>\n",
              "    .dataframe tbody tr th:only-of-type {\n",
              "        vertical-align: middle;\n",
              "    }\n",
              "\n",
              "    .dataframe tbody tr th {\n",
              "        vertical-align: top;\n",
              "    }\n",
              "\n",
              "    .dataframe thead th {\n",
              "        text-align: right;\n",
              "    }\n",
              "</style>\n",
              "<table border=\"1\" class=\"dataframe\">\n",
              "  <thead>\n",
              "    <tr style=\"text-align: right;\">\n",
              "      <th></th>\n",
              "      <th>content</th>\n",
              "      <th>target</th>\n",
              "      <th>target_names</th>\n",
              "    </tr>\n",
              "  </thead>\n",
              "  <tbody>\n",
              "    <tr>\n",
              "      <th>0</th>\n",
              "      <td>From: lerxst@wam.umd.edu (where's my thing)\\nS...</td>\n",
              "      <td>7</td>\n",
              "      <td>rec.autos</td>\n",
              "    </tr>\n",
              "    <tr>\n",
              "      <th>1</th>\n",
              "      <td>From: guykuo@carson.u.washington.edu (Guy Kuo)...</td>\n",
              "      <td>4</td>\n",
              "      <td>comp.sys.mac.hardware</td>\n",
              "    </tr>\n",
              "    <tr>\n",
              "      <th>2</th>\n",
              "      <td>From: twillis@ec.ecn.purdue.edu (Thomas E Will...</td>\n",
              "      <td>4</td>\n",
              "      <td>comp.sys.mac.hardware</td>\n",
              "    </tr>\n",
              "    <tr>\n",
              "      <th>3</th>\n",
              "      <td>From: jgreen@amber (Joe Green)\\nSubject: Re: W...</td>\n",
              "      <td>1</td>\n",
              "      <td>comp.graphics</td>\n",
              "    </tr>\n",
              "    <tr>\n",
              "      <th>4</th>\n",
              "      <td>From: jcm@head-cfa.harvard.edu (Jonathan McDow...</td>\n",
              "      <td>14</td>\n",
              "      <td>sci.space</td>\n",
              "    </tr>\n",
              "  </tbody>\n",
              "</table>\n",
              "</div>"
            ],
            "text/plain": [
              "                                             content  ...           target_names\n",
              "0  From: lerxst@wam.umd.edu (where's my thing)\\nS...  ...              rec.autos\n",
              "1  From: guykuo@carson.u.washington.edu (Guy Kuo)...  ...  comp.sys.mac.hardware\n",
              "2  From: twillis@ec.ecn.purdue.edu (Thomas E Will...  ...  comp.sys.mac.hardware\n",
              "3  From: jgreen@amber (Joe Green)\\nSubject: Re: W...  ...          comp.graphics\n",
              "4  From: jcm@head-cfa.harvard.edu (Jonathan McDow...  ...              sci.space\n",
              "\n",
              "[5 rows x 3 columns]"
            ]
          },
          "metadata": {
            "tags": []
          },
          "execution_count": 4
        }
      ]
    },
    {
      "cell_type": "markdown",
      "metadata": {
        "id": "usqZZhOgmAIM",
        "colab_type": "text"
      },
      "source": [
        "Convert data to list, remove emails, new lines, and quotes."
      ]
    },
    {
      "cell_type": "code",
      "metadata": {
        "id": "Fk6iF8uXmAIN",
        "colab_type": "code",
        "outputId": "ac291200-9ae3-4a23-83c4-b0e64a2f2d2e",
        "colab": {
          "base_uri": "https://localhost:8080/",
          "height": 187
        }
      },
      "source": [
        "# Convert to list\n",
        "data = df.content.values.tolist()\n",
        "\n",
        "# Remove Emails\n",
        "data = [re.sub('\\S*@\\S*\\s?', '', sent) for sent in data]\n",
        "\n",
        "# Remove new line characters\n",
        "data = [re.sub('\\s+', ' ', sent) for sent in data]\n",
        "\n",
        "# Remove distracting single quotes\n",
        "data = [re.sub(\"\\'\", \"\", sent) for sent in data]\n",
        "\n",
        "pprint(data[:1])"
      ],
      "execution_count": 0,
      "outputs": [
        {
          "output_type": "stream",
          "text": [
            "['From: (wheres my thing) Subject: WHAT car is this!? Nntp-Posting-Host: '\n",
            " 'rac3.wam.umd.edu Organization: University of Maryland, College Park Lines: '\n",
            " '15 I was wondering if anyone out there could enlighten me on this car I saw '\n",
            " 'the other day. It was a 2-door sports car, looked to be from the late 60s/ '\n",
            " 'early 70s. It was called a Bricklin. The doors were really small. In '\n",
            " 'addition, the front bumper was separate from the rest of the body. This is '\n",
            " 'all I know. If anyone can tellme a model name, engine specs, years of '\n",
            " 'production, where this car is made, history, or whatever info you have on '\n",
            " 'this funky looking car, please e-mail. Thanks, - IL ---- brought to you by '\n",
            " 'your neighborhood Lerxst ---- ']\n"
          ],
          "name": "stdout"
        }
      ]
    },
    {
      "cell_type": "markdown",
      "metadata": {
        "id": "S_rC_002mAIP",
        "colab_type": "text"
      },
      "source": [
        "Tokenize the sentences (i.e. break them up into single words)"
      ]
    },
    {
      "cell_type": "code",
      "metadata": {
        "id": "-vqLL7lWmAIQ",
        "colab_type": "code",
        "outputId": "e6797f4f-890d-40f4-85ff-cac495b2d17e",
        "colab": {
          "base_uri": "https://localhost:8080/",
          "height": 54
        }
      },
      "source": [
        "def sent_to_words(sentences):\n",
        "    for sentence in sentences:\n",
        "        yield(gensim.utils.simple_preprocess(str(sentence), deacc=True))  # deacc=True removes punctuations\n",
        "\n",
        "data_words = list(sent_to_words(data))\n",
        "\n",
        "print(data_words[:1])"
      ],
      "execution_count": 0,
      "outputs": [
        {
          "output_type": "stream",
          "text": [
            "[['from', 'wheres', 'my', 'thing', 'subject', 'what', 'car', 'is', 'this', 'nntp', 'posting', 'host', 'rac', 'wam', 'umd', 'edu', 'organization', 'university', 'of', 'maryland', 'college', 'park', 'lines', 'was', 'wondering', 'if', 'anyone', 'out', 'there', 'could', 'enlighten', 'me', 'on', 'this', 'car', 'saw', 'the', 'other', 'day', 'it', 'was', 'door', 'sports', 'car', 'looked', 'to', 'be', 'from', 'the', 'late', 'early', 'it', 'was', 'called', 'bricklin', 'the', 'doors', 'were', 'really', 'small', 'in', 'addition', 'the', 'front', 'bumper', 'was', 'separate', 'from', 'the', 'rest', 'of', 'the', 'body', 'this', 'is', 'all', 'know', 'if', 'anyone', 'can', 'tellme', 'model', 'name', 'engine', 'specs', 'years', 'of', 'production', 'where', 'this', 'car', 'is', 'made', 'history', 'or', 'whatever', 'info', 'you', 'have', 'on', 'this', 'funky', 'looking', 'car', 'please', 'mail', 'thanks', 'il', 'brought', 'to', 'you', 'by', 'your', 'neighborhood', 'lerxst']]\n"
          ],
          "name": "stdout"
        }
      ]
    },
    {
      "cell_type": "markdown",
      "metadata": {
        "id": "v8H52Aw5mAIS",
        "colab_type": "text"
      },
      "source": [
        "Build the bigram and trigram models from the data"
      ]
    },
    {
      "cell_type": "code",
      "metadata": {
        "id": "X65jHQJbmAIT",
        "colab_type": "code",
        "outputId": "1affe525-b00f-49cf-d0b0-55350597246d",
        "colab": {
          "base_uri": "https://localhost:8080/",
          "height": 88
        }
      },
      "source": [
        "# Build the bigram and trigram models\n",
        "bigram = gensim.models.Phrases(data_words, min_count=5, threshold=100) # higher threshold fewer phrases.\n",
        "trigram = gensim.models.Phrases(bigram[data_words], threshold=100)  \n",
        "\n",
        "# Faster way to get a sentence clubbed as a trigram/bigram\n",
        "bigram_mod = gensim.models.phrases.Phraser(bigram)\n",
        "trigram_mod = gensim.models.phrases.Phraser(trigram)\n",
        "\n",
        "# See trigram example\n",
        "print(trigram_mod[bigram_mod[data_words[0]]])"
      ],
      "execution_count": 0,
      "outputs": [
        {
          "output_type": "stream",
          "text": [
            "/usr/local/lib/python3.6/dist-packages/gensim/models/phrases.py:598: UserWarning: For a faster implementation, use the gensim.models.phrases.Phraser class\n",
            "  warnings.warn(\"For a faster implementation, use the gensim.models.phrases.Phraser class\")\n"
          ],
          "name": "stderr"
        },
        {
          "output_type": "stream",
          "text": [
            "['from', 'wheres', 'my', 'thing', 'subject', 'what', 'car', 'is', 'this', 'nntp_posting_host', 'rac_wam_umd_edu', 'organization', 'university', 'of', 'maryland_college_park', 'lines', 'was', 'wondering', 'if', 'anyone', 'out', 'there', 'could', 'enlighten', 'me', 'on', 'this', 'car', 'saw', 'the', 'other', 'day', 'it', 'was', 'door', 'sports', 'car', 'looked', 'to', 'be', 'from', 'the', 'late', 'early', 'it', 'was', 'called', 'bricklin', 'the', 'doors', 'were', 'really', 'small', 'in', 'addition', 'the', 'front_bumper', 'was', 'separate', 'from', 'the', 'rest', 'of', 'the', 'body', 'this', 'is', 'all', 'know', 'if', 'anyone', 'can', 'tellme', 'model', 'name', 'engine', 'specs', 'years', 'of', 'production', 'where', 'this', 'car', 'is', 'made', 'history', 'or', 'whatever', 'info', 'you', 'have', 'on', 'this', 'funky', 'looking', 'car', 'please', 'mail', 'thanks', 'il', 'brought', 'to', 'you', 'by', 'your', 'neighborhood', 'lerxst']\n"
          ],
          "name": "stdout"
        }
      ]
    },
    {
      "cell_type": "markdown",
      "metadata": {
        "id": "Si-VeHQLmAIV",
        "colab_type": "text"
      },
      "source": [
        "Define functions, and then process the data to remove stop words, form bigrams and lemmatize the data."
      ]
    },
    {
      "cell_type": "code",
      "metadata": {
        "id": "3jv_rKwHmAIW",
        "colab_type": "code",
        "colab": {}
      },
      "source": [
        "# Define functions for stopwords, bigrams, trigrams and lemmatization\n",
        "def remove_stopwords(texts):\n",
        "    return [[word for word in simple_preprocess(str(doc)) if word not in stop_words] for doc in texts]\n",
        "\n",
        "def make_bigrams(texts):\n",
        "    return [bigram_mod[doc] for doc in texts]\n",
        "\n",
        "def make_trigrams(texts):\n",
        "    return [trigram_mod[bigram_mod[doc]] for doc in texts]\n",
        "\n",
        "def lemmatization(texts, allowed_postags=['NOUN', 'ADJ', 'VERB', 'ADV']):\n",
        "    \"\"\"https://spacy.io/api/annotation\"\"\"\n",
        "    texts_out = []\n",
        "    for sent in texts:\n",
        "        doc = nlp(\" \".join(sent)) \n",
        "        texts_out.append([token.lemma_ for token in doc if token.pos_ in allowed_postags])\n",
        "    return texts_out"
      ],
      "execution_count": 0,
      "outputs": []
    },
    {
      "cell_type": "code",
      "metadata": {
        "id": "CXOF6oMJmAIY",
        "colab_type": "code",
        "outputId": "76fc0deb-f961-4294-bbcc-b16deb1d1e0c",
        "colab": {
          "base_uri": "https://localhost:8080/",
          "height": 54
        }
      },
      "source": [
        "# Remove Stop Words\n",
        "data_words_nostops = remove_stopwords(data_words)\n",
        "\n",
        "# Form Bigrams\n",
        "data_words_bigrams = make_bigrams(data_words_nostops)\n",
        "\n",
        "# Initialize spacy 'en' model, keeping only tagger component (for efficiency)\n",
        "# python3 -m spacy download en\n",
        "nlp = spacy.load('en', disable=['parser', 'ner'])\n",
        "\n",
        "# Do lemmatization keeping only noun, adj, vb, adv\n",
        "data_lemmatized = lemmatization(data_words_bigrams, allowed_postags=['NOUN', 'ADJ', 'VERB', 'ADV'])\n",
        "\n",
        "print(data_lemmatized[:1])"
      ],
      "execution_count": 0,
      "outputs": [
        {
          "output_type": "stream",
          "text": [
            "[['where', 's', 'thing', 'car', 'nntp_poste', 'host', 'umd', 'organization', 'university', 'maryland_college', 'park', 'line', 'wonder', 'anyone', 'could', 'enlighten', 'car', 'see', 'day', 'door', 'sport', 'car', 'look', 'late', 'early', 'call', 'bricklin', 'door', 'really', 'small', 'addition', 'front_bumper', 'separate', 'rest', 'body', 'know', 'anyone', 'tellme', 'model', 'name', 'engine', 'specs', 'year', 'production', 'car', 'make', 'history', 'info', 'funky', 'look', 'car', 'mail', 'thank', 'bring', 'neighborhood', 'lerxst']]\n"
          ],
          "name": "stdout"
        }
      ]
    },
    {
      "cell_type": "markdown",
      "metadata": {
        "id": "Gp2jgvoGmAId",
        "colab_type": "text"
      },
      "source": [
        "Now convert the lemmatized data into codes (integers) for processing via the model"
      ]
    },
    {
      "cell_type": "code",
      "metadata": {
        "id": "9Y_bxAnAmAIf",
        "colab_type": "code",
        "outputId": "e2ac921b-86ab-4af2-e436-4531490d6abd",
        "colab": {
          "base_uri": "https://localhost:8080/",
          "height": 54
        }
      },
      "source": [
        "# Create Dictionary\n",
        "id2word = corpora.Dictionary(data_lemmatized)\n",
        "\n",
        "# Create Corpus\n",
        "texts = data_lemmatized\n",
        "\n",
        "# Term Document Frequency\n",
        "corpus = [id2word.doc2bow(text) for text in texts]\n",
        "\n",
        "# View\n",
        "print(corpus[:1])"
      ],
      "execution_count": 0,
      "outputs": [
        {
          "output_type": "stream",
          "text": [
            "[[(0, 1), (1, 2), (2, 1), (3, 1), (4, 1), (5, 1), (6, 5), (7, 1), (8, 1), (9, 2), (10, 1), (11, 1), (12, 1), (13, 1), (14, 1), (15, 1), (16, 1), (17, 1), (18, 1), (19, 1), (20, 1), (21, 1), (22, 2), (23, 1), (24, 1), (25, 1), (26, 1), (27, 1), (28, 1), (29, 1), (30, 1), (31, 1), (32, 1), (33, 1), (34, 1), (35, 1), (36, 1), (37, 1), (38, 1), (39, 1), (40, 1), (41, 1), (42, 1), (43, 1), (44, 1), (45, 1), (46, 1), (47, 1), (48, 1)]]\n"
          ],
          "name": "stdout"
        }
      ]
    },
    {
      "cell_type": "markdown",
      "metadata": {
        "id": "xOUIkNMFmAIi",
        "colab_type": "text"
      },
      "source": [
        "This function can be used to show you any ID to word mapping"
      ]
    },
    {
      "cell_type": "code",
      "metadata": {
        "id": "BDbPxogEmAIj",
        "colab_type": "code",
        "outputId": "a106a617-0b52-4b23-ef8a-7faf4e37fa7e",
        "colab": {
          "base_uri": "https://localhost:8080/",
          "height": 34
        }
      },
      "source": [
        "id2word[0]"
      ],
      "execution_count": 0,
      "outputs": [
        {
          "output_type": "execute_result",
          "data": {
            "text/plain": [
              "'addition'"
            ]
          },
          "metadata": {
            "tags": []
          },
          "execution_count": 11
        }
      ]
    },
    {
      "cell_type": "code",
      "metadata": {
        "id": "mX9XtJRPmAIl",
        "colab_type": "code",
        "outputId": "5919fde6-3db1-4ec9-ac0c-ceec46c0aecb",
        "colab": {
          "base_uri": "https://localhost:8080/",
          "height": 850
        }
      },
      "source": [
        "# Human readable format of corpus (term-frequency)\n",
        "[[(id2word[id], freq) for id, freq in cp] for cp in corpus[:1]]"
      ],
      "execution_count": 0,
      "outputs": [
        {
          "output_type": "execute_result",
          "data": {
            "text/plain": [
              "[[('addition', 1),\n",
              "  ('anyone', 2),\n",
              "  ('body', 1),\n",
              "  ('bricklin', 1),\n",
              "  ('bring', 1),\n",
              "  ('call', 1),\n",
              "  ('car', 5),\n",
              "  ('could', 1),\n",
              "  ('day', 1),\n",
              "  ('door', 2),\n",
              "  ('early', 1),\n",
              "  ('engine', 1),\n",
              "  ('enlighten', 1),\n",
              "  ('front_bumper', 1),\n",
              "  ('funky', 1),\n",
              "  ('history', 1),\n",
              "  ('host', 1),\n",
              "  ('info', 1),\n",
              "  ('know', 1),\n",
              "  ('late', 1),\n",
              "  ('lerxst', 1),\n",
              "  ('line', 1),\n",
              "  ('look', 2),\n",
              "  ('mail', 1),\n",
              "  ('make', 1),\n",
              "  ('maryland_college', 1),\n",
              "  ('model', 1),\n",
              "  ('name', 1),\n",
              "  ('neighborhood', 1),\n",
              "  ('nntp_poste', 1),\n",
              "  ('organization', 1),\n",
              "  ('park', 1),\n",
              "  ('production', 1),\n",
              "  ('really', 1),\n",
              "  ('rest', 1),\n",
              "  ('s', 1),\n",
              "  ('see', 1),\n",
              "  ('separate', 1),\n",
              "  ('small', 1),\n",
              "  ('specs', 1),\n",
              "  ('sport', 1),\n",
              "  ('tellme', 1),\n",
              "  ('thank', 1),\n",
              "  ('thing', 1),\n",
              "  ('umd', 1),\n",
              "  ('university', 1),\n",
              "  ('where', 1),\n",
              "  ('wonder', 1),\n",
              "  ('year', 1)]]"
            ]
          },
          "metadata": {
            "tags": []
          },
          "execution_count": 12
        }
      ]
    },
    {
      "cell_type": "markdown",
      "metadata": {
        "id": "RBbuUbMGmAIn",
        "colab_type": "text"
      },
      "source": [
        "Now we can build our first LDA model using the formatted data."
      ]
    },
    {
      "cell_type": "code",
      "metadata": {
        "id": "NkxT31pomAIo",
        "colab_type": "code",
        "colab": {}
      },
      "source": [
        "# Build LDA model\n",
        "lda_model = gensim.models.ldamodel.LdaModel(corpus=corpus,\n",
        "                                           id2word=id2word,\n",
        "                                           num_topics=20, \n",
        "                                           random_state=100,\n",
        "                                           update_every=1,\n",
        "                                           chunksize=100,\n",
        "                                           passes=10,\n",
        "                                           alpha='auto',\n",
        "                                           per_word_topics=True)"
      ],
      "execution_count": 0,
      "outputs": []
    },
    {
      "cell_type": "markdown",
      "metadata": {
        "id": "_mpQuS75mAIq",
        "colab_type": "text"
      },
      "source": [
        "This shows the topic IDs from the model alongside terms and their weights."
      ]
    },
    {
      "cell_type": "code",
      "metadata": {
        "id": "qtjCz_1LmAIr",
        "colab_type": "code",
        "outputId": "dc8b9f94-8f89-40f8-cc3d-98c2cfe3052d",
        "colab": {
          "base_uri": "https://localhost:8080/",
          "height": 1000
        }
      },
      "source": [
        "# Print the Keywords in the topics\n",
        "pprint(lda_model.print_topics())\n",
        "doc_lda = lda_model[corpus]"
      ],
      "execution_count": 0,
      "outputs": [
        {
          "output_type": "stream",
          "text": [
            "[(0,\n",
            "  '0.036*\"team\" + 0.036*\"game\" + 0.020*\"sale\" + 0.019*\"play\" + 0.015*\"hockey\" '\n",
            "  '+ 0.012*\"year\" + 0.008*\"nhl\" + 0.008*\"trade\" + 0.008*\"wing\" + '\n",
            "  '0.007*\"steven\"'),\n",
            " (1,\n",
            "  '0.040*\"book\" + 0.020*\"belief\" + 0.020*\"atheist\" + 0.018*\"church\" + '\n",
            "  '0.015*\"pin\" + 0.015*\"slave\" + 0.014*\"sphere\" + 0.012*\"character\" + '\n",
            "  '0.010*\"lord\" + 0.009*\"headache\"'),\n",
            " (2,\n",
            "  '0.015*\"choose\" + 0.012*\"input\" + 0.011*\"sin\" + 0.010*\"notice\" + 0.009*\"eat\" '\n",
            "  '+ 0.009*\"cd\" + 0.009*\"food\" + 0.009*\"material\" + 0.008*\"signal\" + '\n",
            "  '0.008*\"external\"'),\n",
            " (3,\n",
            "  '0.035*\"not\" + 0.022*\"write\" + 0.022*\"do\" + 0.020*\"would\" + 0.020*\"line\" + '\n",
            "  '0.019*\"organization\" + 0.017*\"be\" + 0.017*\"article\" + 0.014*\"get\" + '\n",
            "  '0.014*\"know\"'),\n",
            " (4,\n",
            "  '0.533*\"ax\" + 0.008*\"rlk\" + 0.006*\"cub\" + 0.005*\"echo\" + '\n",
            "  '0.004*\"tufts_university\" + 0.004*\"stl\" + 0.004*\"pitcher\" + 0.004*\"pit\" + '\n",
            "  '0.004*\"lk\" + 0.003*\"differential\"'),\n",
            " (5,\n",
            "  '0.027*\"israel\" + 0.015*\"israeli\" + 0.011*\"jew\" + 0.009*\"lebanese\" + '\n",
            "  '0.009*\"arab\" + 0.009*\"jewish\" + 0.009*\"war\" + 0.008*\"death\" + 0.008*\"kill\" '\n",
            "  '+ 0.007*\"attack\"'),\n",
            " (6,\n",
            "  '0.030*\"drive\" + 0.018*\"card\" + 0.014*\"mac\" + 0.013*\"driver\" + '\n",
            "  '0.012*\"system\" + 0.011*\"cpu\" + 0.009*\"memory\" + 0.009*\"computer\" + '\n",
            "  '0.009*\"chip\" + 0.009*\"use\"'),\n",
            " (7,\n",
            "  '0.053*\"_\" + 0.045*\"max\" + 0.012*\"dn\" + 0.010*\"eeg\" + 0.009*\"cx\" + 0.007*\"c\" '\n",
            "  '+ 0.007*\"mv\" + 0.005*\"mk\" + 0.005*\"sw\" + 0.004*\"mj\"'),\n",
            " (8,\n",
            "  '0.015*\"library\" + 0.015*\"section\" + 0.013*\"st\" + 0.011*\"ed\" + 0.009*\"title\" '\n",
            "  '+ 0.009*\"art\" + 0.009*\"author\" + 0.009*\"pa\" + 0.009*\"translation\" + '\n",
            "  '0.009*\"page\"'),\n",
            " (9,\n",
            "  '0.017*\"car\" + 0.011*\"new\" + 0.009*\"buy\" + 0.009*\"physical\" + 0.008*\"power\" '\n",
            "  '+ 0.008*\"type\" + 0.007*\"old\" + 0.007*\"graphic\" + 0.007*\"screen\" + '\n",
            "  '0.007*\"good\"'),\n",
            " (10,\n",
            "  '0.035*\"god\" + 0.021*\"evidence\" + 0.017*\"christian\" + 0.015*\"reason\" + '\n",
            "  '0.015*\"believe\" + 0.012*\"say\" + 0.011*\"faith\" + 0.010*\"claim\" + '\n",
            "  '0.010*\"exist\" + 0.010*\"sense\"'),\n",
            " (11,\n",
            "  '0.019*\"university\" + 0.017*\"organization\" + 0.015*\"line\" + 0.014*\"instal\" + '\n",
            "  '0.011*\"michael\" + 0.010*\"format\" + 0.010*\"package\" + 0.010*\"problem\" + '\n",
            "  '0.009*\"distribution\" + 0.009*\"robert\"'),\n",
            " (12,\n",
            "  '0.018*\"pay\" + 0.015*\"item\" + 0.014*\"service\" + 0.012*\"cover\" + 0.012*\"cost\" '\n",
            "  '+ 0.011*\"sell\" + 0.010*\"recommend\" + 0.010*\"replace\" + 0.009*\"gateway\" + '\n",
            "  '0.009*\"air\"'),\n",
            " (13,\n",
            "  '0.019*\"line\" + 0.017*\"window\" + 0.016*\"mail\" + 0.016*\"file\" + 0.016*\"thank\" '\n",
            "  '+ 0.015*\"program\" + 0.013*\"use\" + 0.011*\"organization\" + 0.011*\"system\" + '\n",
            "  '0.009*\"email\"'),\n",
            " (14,\n",
            "  '0.019*\"state\" + 0.012*\"law\" + 0.012*\"issue\" + 0.011*\"right\" + 0.010*\"case\" '\n",
            "  '+ 0.008*\"group\" + 0.006*\"new\" + 0.005*\"people\" + 0.005*\"national\" + '\n",
            "  '0.005*\"support\"'),\n",
            " (15,\n",
            "  '0.025*\"internet\" + 0.020*\"bike\" + 0.017*\"server\" + 0.014*\"md\" + 0.013*\"com\" '\n",
            "  '+ 0.012*\"engine\" + 0.011*\"ride\" + 0.011*\"steve\" + 0.011*\"pain\" + '\n",
            "  '0.010*\"route\"'),\n",
            " (16,\n",
            "  '0.019*\"gun\" + 0.010*\"kill\" + 0.010*\"people\" + 0.009*\"armenian\" + '\n",
            "  '0.008*\"say\" + 0.008*\"fire\" + 0.008*\"child\" + 0.007*\"greek\" + '\n",
            "  '0.006*\"government\" + 0.006*\"american\"'),\n",
            " (17,\n",
            "  '0.020*\"win\" + 0.016*\"year\" + 0.014*\"player\" + 0.013*\"university\" + '\n",
            "  '0.012*\"patient\" + 0.009*\"fan\" + 0.008*\"run\" + 0.008*\"drug\" + 0.007*\"score\" '\n",
            "  '+ 0.007*\"mouse\"'),\n",
            " (18,\n",
            "  '0.027*\"space\" + 0.012*\"research\" + 0.009*\"faq\" + 0.008*\"earth\" + '\n",
            "  '0.008*\"mount\" + 0.007*\"science\" + 0.007*\"launch\" + 0.006*\"project\" + '\n",
            "  '0.006*\"moon\" + 0.006*\"datum\"'),\n",
            " (19,\n",
            "  '0.041*\"key\" + 0.014*\"system\" + 0.014*\"ripem\" + 0.013*\"government\" + '\n",
            "  '0.013*\"public\" + 0.012*\"security\" + 0.012*\"encryption\" + 0.010*\"tape\" + '\n",
            "  '0.009*\"chip\" + 0.009*\"clipper\"')]\n"
          ],
          "name": "stdout"
        }
      ]
    },
    {
      "cell_type": "markdown",
      "metadata": {
        "id": "9Fr0aMT4mAIt",
        "colab_type": "text"
      },
      "source": [
        "Perplexity and Coherence can be used to assess the model."
      ]
    },
    {
      "cell_type": "code",
      "metadata": {
        "id": "CdUkXYKAmAIt",
        "colab_type": "code",
        "outputId": "fc2bcb78-41b8-41fb-d151-350a84e7eaee",
        "colab": {
          "base_uri": "https://localhost:8080/",
          "height": 85
        }
      },
      "source": [
        "# Compute Perplexity\n",
        "print('\\nPerplexity: ', lda_model.log_perplexity(corpus))  # a measure of how good the model is. lower the better.\n",
        "\n",
        "# Compute Coherence Score\n",
        "coherence_model_lda = CoherenceModel(model=lda_model, texts=data_lemmatized, dictionary=id2word, coherence='c_v')\n",
        "coherence_lda = coherence_model_lda.get_coherence()\n",
        "print('\\nCoherence Score: ', coherence_lda)"
      ],
      "execution_count": 0,
      "outputs": [
        {
          "output_type": "stream",
          "text": [
            "\n",
            "Perplexity:  -8.732797516655772\n",
            "\n",
            "Coherence Score:  0.5017680246997409\n"
          ],
          "name": "stdout"
        }
      ]
    },
    {
      "cell_type": "code",
      "metadata": {
        "id": "AEPb7_KcmAIw",
        "colab_type": "code",
        "outputId": "ae2ae82a-dabd-4bd1-b7dc-be1511c82686",
        "colab": {
          "base_uri": "https://localhost:8080/",
          "height": 997
        }
      },
      "source": [
        "# Visualize the topics\n",
        "pyLDAvis.enable_notebook()\n",
        "vis = pyLDAvis.gensim.prepare(lda_model, corpus, id2word)\n",
        "vis"
      ],
      "execution_count": 0,
      "outputs": [
        {
          "output_type": "stream",
          "text": [
            "/usr/local/lib/python3.6/dist-packages/pyLDAvis/_prepare.py:257: FutureWarning: Sorting because non-concatenation axis is not aligned. A future version\n",
            "of pandas will change to not sort by default.\n",
            "\n",
            "To accept the future behavior, pass 'sort=False'.\n",
            "\n",
            "To retain the current behavior and silence the warning, pass 'sort=True'.\n",
            "\n",
            "  return pd.concat([default_term_info] + list(topic_dfs))\n"
          ],
          "name": "stderr"
        },
        {
          "output_type": "execute_result",
          "data": {
            "text/html": [
              "\n",
              "<link rel=\"stylesheet\" type=\"text/css\" href=\"https://cdn.rawgit.com/bmabey/pyLDAvis/files/ldavis.v1.0.0.css\">\n",
              "\n",
              "\n",
              "<div id=\"ldavis_el1271402344151689928031115488\"></div>\n",
              "<script type=\"text/javascript\">\n",
              "\n",
              "var ldavis_el1271402344151689928031115488_data = {\"mdsDat\": {\"x\": [-0.3020039450640247, -0.1723039230402106, -0.17161405592596307, -0.1877768009946318, -0.10618095436801141, -0.07058303538877256, 0.18030066167360248, -0.09035606478752009, 0.021597773529127572, -0.03358746227494872, -0.03282790485642624, 0.05717506991487735, -0.00017077532272362443, 0.09847451300536297, 0.07017353000010189, 0.09436906114010311, 0.1374396595792177, 0.13875417772223853, 0.15989387666252974, 0.20922659879607033], \"y\": [-0.004834097066438586, 0.11974984721625963, -0.18678110214875235, 0.19585354715913714, -0.14249454981190393, 0.18761212029971655, 0.03864157041553942, -0.23233934211919677, -0.05845908886276728, -0.052878831495852256, 0.01998165746790884, -0.013807235223625073, 0.235546707782779, -0.06542676548384588, -0.12161881981036225, 0.08120876517674491, -0.039800150102380694, -0.005688461641634541, 0.018935282297431476, 0.026598945951242185], \"topics\": [1, 2, 3, 4, 5, 6, 7, 8, 9, 10, 11, 12, 13, 14, 15, 16, 17, 18, 19, 20], \"cluster\": [1, 1, 1, 1, 1, 1, 1, 1, 1, 1, 1, 1, 1, 1, 1, 1, 1, 1, 1, 1], \"Freq\": [28.12238311767578, 7.815710544586182, 7.792872905731201, 6.017331600189209, 5.953558921813965, 5.1764326095581055, 4.7154459953308105, 4.442490577697754, 3.7206802368164062, 3.6480062007904053, 3.1278178691864014, 3.003819704055786, 2.563961982727051, 2.4210307598114014, 2.3296499252319336, 2.0523390769958496, 2.002168893814087, 1.766239881515503, 1.7626397609710693, 1.5654107332229614]}, \"tinfo\": {\"Category\": [\"Default\", \"Default\", \"Default\", \"Default\", \"Default\", \"Default\", \"Default\", \"Default\", \"Default\", \"Default\", \"Default\", \"Default\", \"Default\", \"Default\", \"Default\", \"Default\", \"Default\", \"Default\", \"Default\", \"Default\", \"Default\", \"Default\", \"Default\", \"Default\", \"Default\", \"Default\", \"Default\", \"Default\", \"Default\", \"Default\", \"Topic1\", \"Topic1\", \"Topic1\", \"Topic1\", \"Topic1\", \"Topic1\", \"Topic1\", \"Topic1\", \"Topic1\", \"Topic1\", \"Topic1\", \"Topic1\", \"Topic1\", \"Topic1\", \"Topic1\", \"Topic1\", \"Topic1\", \"Topic1\", \"Topic1\", \"Topic1\", \"Topic1\", \"Topic1\", \"Topic1\", \"Topic1\", \"Topic1\", \"Topic1\", \"Topic1\", \"Topic1\", \"Topic1\", \"Topic1\", \"Topic1\", \"Topic1\", \"Topic1\", \"Topic1\", \"Topic1\", \"Topic1\", \"Topic1\", \"Topic1\", \"Topic1\", \"Topic1\", \"Topic1\", \"Topic1\", \"Topic1\", \"Topic1\", \"Topic1\", \"Topic1\", \"Topic1\", \"Topic1\", \"Topic1\", \"Topic1\", \"Topic1\", \"Topic1\", \"Topic1\", \"Topic1\", \"Topic1\", \"Topic1\", \"Topic1\", \"Topic1\", \"Topic1\", \"Topic1\", \"Topic1\", \"Topic1\", \"Topic1\", \"Topic1\", \"Topic1\", \"Topic2\", \"Topic2\", \"Topic2\", \"Topic2\", \"Topic2\", \"Topic2\", \"Topic2\", \"Topic2\", \"Topic2\", \"Topic2\", \"Topic2\", \"Topic2\", \"Topic2\", \"Topic2\", \"Topic2\", \"Topic2\", \"Topic2\", \"Topic2\", \"Topic2\", \"Topic2\", \"Topic2\", \"Topic2\", \"Topic2\", \"Topic2\", \"Topic2\", \"Topic2\", \"Topic2\", \"Topic2\", \"Topic2\", \"Topic2\", \"Topic2\", \"Topic2\", \"Topic2\", \"Topic2\", \"Topic2\", \"Topic2\", \"Topic2\", \"Topic2\", \"Topic2\", \"Topic2\", \"Topic2\", \"Topic2\", \"Topic2\", \"Topic2\", \"Topic2\", \"Topic2\", \"Topic2\", \"Topic2\", \"Topic2\", \"Topic2\", \"Topic2\", \"Topic2\", \"Topic2\", \"Topic2\", \"Topic2\", \"Topic2\", \"Topic2\", \"Topic2\", \"Topic2\", \"Topic2\", \"Topic2\", \"Topic2\", \"Topic2\", \"Topic2\", \"Topic2\", \"Topic3\", \"Topic3\", \"Topic3\", \"Topic3\", \"Topic3\", \"Topic3\", \"Topic3\", \"Topic3\", \"Topic3\", \"Topic3\", \"Topic3\", \"Topic3\", \"Topic3\", \"Topic3\", \"Topic3\", \"Topic3\", \"Topic3\", \"Topic3\", \"Topic3\", \"Topic3\", \"Topic3\", \"Topic3\", \"Topic3\", \"Topic3\", \"Topic3\", \"Topic3\", \"Topic3\", \"Topic3\", \"Topic3\", \"Topic3\", \"Topic3\", \"Topic3\", \"Topic3\", \"Topic3\", \"Topic3\", \"Topic3\", \"Topic3\", \"Topic3\", \"Topic3\", \"Topic3\", \"Topic3\", \"Topic3\", \"Topic3\", \"Topic3\", \"Topic3\", \"Topic3\", \"Topic3\", \"Topic3\", \"Topic3\", \"Topic3\", \"Topic3\", \"Topic3\", \"Topic3\", \"Topic3\", \"Topic3\", \"Topic3\", \"Topic3\", \"Topic3\", \"Topic3\", \"Topic3\", \"Topic3\", \"Topic3\", \"Topic3\", \"Topic3\", \"Topic4\", \"Topic4\", \"Topic4\", \"Topic4\", \"Topic4\", \"Topic4\", \"Topic4\", \"Topic4\", \"Topic4\", \"Topic4\", \"Topic4\", \"Topic4\", \"Topic4\", \"Topic4\", \"Topic4\", \"Topic4\", \"Topic4\", \"Topic4\", \"Topic4\", \"Topic4\", \"Topic4\", \"Topic4\", \"Topic4\", \"Topic4\", \"Topic4\", \"Topic4\", \"Topic4\", \"Topic4\", \"Topic4\", \"Topic4\", \"Topic4\", \"Topic4\", \"Topic4\", \"Topic4\", \"Topic4\", \"Topic4\", \"Topic4\", \"Topic4\", \"Topic4\", \"Topic4\", \"Topic4\", \"Topic4\", \"Topic4\", \"Topic4\", \"Topic4\", \"Topic4\", \"Topic4\", \"Topic4\", \"Topic4\", \"Topic4\", \"Topic4\", \"Topic4\", \"Topic4\", \"Topic4\", \"Topic4\", \"Topic4\", \"Topic4\", \"Topic4\", \"Topic5\", \"Topic5\", \"Topic5\", \"Topic5\", \"Topic5\", \"Topic5\", \"Topic5\", \"Topic5\", \"Topic5\", \"Topic5\", \"Topic5\", \"Topic5\", \"Topic5\", \"Topic5\", \"Topic5\", \"Topic5\", \"Topic5\", \"Topic5\", \"Topic5\", \"Topic5\", \"Topic5\", \"Topic5\", \"Topic5\", \"Topic5\", \"Topic5\", \"Topic5\", \"Topic5\", \"Topic5\", \"Topic5\", \"Topic5\", \"Topic5\", \"Topic5\", \"Topic5\", \"Topic5\", \"Topic5\", \"Topic5\", \"Topic5\", \"Topic5\", \"Topic5\", \"Topic5\", \"Topic5\", \"Topic5\", \"Topic5\", \"Topic5\", \"Topic5\", \"Topic5\", \"Topic5\", \"Topic5\", \"Topic5\", \"Topic5\", \"Topic5\", \"Topic5\", \"Topic5\", \"Topic5\", \"Topic5\", \"Topic5\", \"Topic5\", \"Topic5\", \"Topic5\", \"Topic5\", \"Topic6\", \"Topic6\", \"Topic6\", \"Topic6\", \"Topic6\", \"Topic6\", \"Topic6\", \"Topic6\", \"Topic6\", \"Topic6\", \"Topic6\", \"Topic6\", \"Topic6\", \"Topic6\", \"Topic6\", \"Topic6\", \"Topic6\", \"Topic6\", \"Topic6\", \"Topic6\", \"Topic6\", \"Topic6\", \"Topic6\", \"Topic6\", \"Topic6\", \"Topic6\", \"Topic6\", \"Topic6\", \"Topic6\", \"Topic6\", \"Topic6\", \"Topic6\", \"Topic6\", \"Topic6\", \"Topic6\", \"Topic6\", \"Topic6\", \"Topic6\", \"Topic6\", \"Topic6\", \"Topic6\", \"Topic6\", \"Topic6\", \"Topic6\", \"Topic6\", \"Topic6\", \"Topic6\", \"Topic6\", \"Topic6\", \"Topic7\", \"Topic7\", \"Topic7\", \"Topic7\", \"Topic7\", \"Topic7\", \"Topic7\", \"Topic7\", \"Topic7\", \"Topic7\", \"Topic7\", \"Topic7\", \"Topic7\", \"Topic7\", \"Topic7\", \"Topic7\", \"Topic7\", \"Topic7\", \"Topic7\", \"Topic7\", \"Topic7\", \"Topic7\", \"Topic7\", \"Topic7\", \"Topic7\", \"Topic7\", \"Topic7\", \"Topic7\", \"Topic7\", \"Topic7\", \"Topic8\", \"Topic8\", \"Topic8\", \"Topic8\", \"Topic8\", \"Topic8\", \"Topic8\", \"Topic8\", \"Topic8\", \"Topic8\", \"Topic8\", \"Topic8\", \"Topic8\", \"Topic8\", \"Topic8\", \"Topic8\", \"Topic8\", \"Topic8\", \"Topic8\", \"Topic8\", \"Topic8\", \"Topic8\", \"Topic8\", \"Topic8\", \"Topic8\", \"Topic8\", \"Topic8\", \"Topic8\", \"Topic8\", \"Topic8\", \"Topic8\", \"Topic8\", \"Topic8\", \"Topic8\", \"Topic8\", \"Topic8\", \"Topic8\", \"Topic8\", \"Topic8\", \"Topic8\", \"Topic8\", \"Topic8\", \"Topic8\", \"Topic8\", \"Topic8\", \"Topic8\", \"Topic8\", \"Topic8\", \"Topic8\", \"Topic9\", \"Topic9\", \"Topic9\", \"Topic9\", \"Topic9\", \"Topic9\", \"Topic9\", \"Topic9\", \"Topic9\", \"Topic9\", \"Topic9\", \"Topic9\", \"Topic9\", \"Topic9\", \"Topic9\", \"Topic9\", \"Topic9\", \"Topic9\", \"Topic9\", \"Topic9\", \"Topic9\", \"Topic9\", \"Topic9\", \"Topic9\", \"Topic9\", \"Topic9\", \"Topic9\", \"Topic9\", \"Topic9\", \"Topic9\", \"Topic9\", \"Topic9\", \"Topic9\", \"Topic9\", \"Topic9\", \"Topic9\", \"Topic9\", \"Topic9\", \"Topic9\", \"Topic9\", \"Topic9\", \"Topic9\", \"Topic9\", \"Topic9\", \"Topic9\", \"Topic9\", \"Topic9\", \"Topic10\", \"Topic10\", \"Topic10\", \"Topic10\", \"Topic10\", \"Topic10\", \"Topic10\", \"Topic10\", \"Topic10\", \"Topic10\", \"Topic10\", \"Topic10\", \"Topic10\", \"Topic10\", \"Topic10\", \"Topic10\", \"Topic10\", \"Topic10\", \"Topic10\", \"Topic10\", \"Topic10\", \"Topic10\", \"Topic10\", \"Topic10\", \"Topic10\", \"Topic10\", \"Topic10\", \"Topic10\", \"Topic10\", \"Topic10\", \"Topic10\", \"Topic10\", \"Topic10\", \"Topic10\", \"Topic10\", \"Topic10\", \"Topic10\", \"Topic10\", \"Topic10\", \"Topic10\", \"Topic10\", \"Topic10\", \"Topic10\", \"Topic10\", \"Topic10\", \"Topic10\", \"Topic11\", \"Topic11\", \"Topic11\", \"Topic11\", \"Topic11\", \"Topic11\", \"Topic11\", \"Topic11\", \"Topic11\", \"Topic11\", \"Topic11\", \"Topic11\", \"Topic11\", \"Topic11\", \"Topic11\", \"Topic11\", \"Topic11\", \"Topic11\", \"Topic11\", \"Topic11\", \"Topic11\", \"Topic11\", \"Topic11\", \"Topic11\", \"Topic11\", \"Topic11\", \"Topic11\", \"Topic11\", \"Topic11\", \"Topic11\", \"Topic11\", \"Topic11\", \"Topic11\", \"Topic11\", \"Topic11\", \"Topic11\", \"Topic11\", \"Topic11\", \"Topic11\", \"Topic11\", \"Topic11\", \"Topic11\", \"Topic11\", \"Topic11\", \"Topic11\", \"Topic12\", \"Topic12\", \"Topic12\", \"Topic12\", \"Topic12\", \"Topic12\", \"Topic12\", \"Topic12\", \"Topic12\", \"Topic12\", \"Topic12\", \"Topic12\", \"Topic12\", \"Topic12\", \"Topic12\", \"Topic12\", \"Topic12\", \"Topic12\", \"Topic12\", \"Topic12\", \"Topic12\", \"Topic12\", \"Topic12\", \"Topic12\", \"Topic12\", \"Topic12\", \"Topic12\", \"Topic12\", \"Topic12\", \"Topic12\", \"Topic12\", \"Topic12\", \"Topic12\", \"Topic12\", \"Topic12\", \"Topic12\", \"Topic12\", \"Topic12\", \"Topic12\", \"Topic12\", \"Topic12\", \"Topic12\", \"Topic12\", \"Topic13\", \"Topic13\", \"Topic13\", \"Topic13\", \"Topic13\", \"Topic13\", \"Topic13\", \"Topic13\", \"Topic13\", \"Topic13\", \"Topic13\", \"Topic13\", \"Topic13\", \"Topic13\", \"Topic13\", \"Topic13\", \"Topic13\", \"Topic13\", \"Topic13\", \"Topic13\", \"Topic13\", \"Topic13\", \"Topic13\", \"Topic13\", \"Topic13\", \"Topic13\", \"Topic13\", \"Topic13\", \"Topic13\", \"Topic13\", \"Topic13\", \"Topic13\", \"Topic13\", \"Topic13\", \"Topic13\", \"Topic13\", \"Topic13\", \"Topic13\", \"Topic13\", \"Topic13\", \"Topic13\", \"Topic13\", \"Topic13\", \"Topic13\", \"Topic13\", \"Topic13\", \"Topic13\", \"Topic13\", \"Topic14\", \"Topic14\", \"Topic14\", \"Topic14\", \"Topic14\", \"Topic14\", \"Topic14\", \"Topic14\", \"Topic14\", \"Topic14\", \"Topic14\", \"Topic14\", \"Topic14\", \"Topic14\", \"Topic14\", \"Topic14\", \"Topic14\", \"Topic14\", \"Topic14\", \"Topic14\", \"Topic14\", \"Topic14\", \"Topic14\", \"Topic14\", \"Topic14\", \"Topic14\", \"Topic14\", \"Topic14\", \"Topic14\", \"Topic14\", \"Topic14\", \"Topic14\", \"Topic14\", \"Topic14\", \"Topic14\", \"Topic14\", \"Topic14\", \"Topic14\", \"Topic14\", \"Topic14\", \"Topic15\", \"Topic15\", \"Topic15\", \"Topic15\", \"Topic15\", \"Topic15\", \"Topic15\", \"Topic15\", \"Topic15\", \"Topic15\", \"Topic15\", \"Topic15\", \"Topic15\", \"Topic15\", \"Topic15\", \"Topic15\", \"Topic15\", \"Topic15\", \"Topic15\", \"Topic15\", \"Topic15\", \"Topic15\", \"Topic15\", \"Topic15\", \"Topic15\", \"Topic15\", \"Topic15\", \"Topic15\", \"Topic15\", \"Topic15\", \"Topic15\", \"Topic15\", \"Topic15\", \"Topic15\", \"Topic15\", \"Topic15\", \"Topic15\", \"Topic15\", \"Topic15\", \"Topic15\", \"Topic15\", \"Topic15\", \"Topic15\", \"Topic15\", \"Topic15\", \"Topic15\", \"Topic15\", \"Topic15\", \"Topic16\", \"Topic16\", \"Topic16\", \"Topic16\", \"Topic16\", \"Topic16\", \"Topic16\", \"Topic16\", \"Topic16\", \"Topic16\", \"Topic16\", \"Topic16\", \"Topic16\", \"Topic16\", \"Topic16\", \"Topic16\", \"Topic16\", \"Topic16\", \"Topic16\", \"Topic16\", \"Topic16\", \"Topic16\", \"Topic16\", \"Topic16\", \"Topic16\", \"Topic16\", \"Topic16\", \"Topic16\", \"Topic16\", \"Topic16\", \"Topic16\", \"Topic16\", \"Topic16\", \"Topic16\", \"Topic16\", \"Topic16\", \"Topic16\", \"Topic16\", \"Topic16\", \"Topic16\", \"Topic16\", \"Topic16\", \"Topic17\", \"Topic17\", \"Topic17\", \"Topic17\", \"Topic17\", \"Topic17\", \"Topic17\", \"Topic17\", \"Topic17\", \"Topic17\", \"Topic17\", \"Topic17\", \"Topic17\", \"Topic17\", \"Topic17\", \"Topic17\", \"Topic17\", \"Topic17\", \"Topic17\", \"Topic17\", \"Topic17\", \"Topic17\", \"Topic17\", \"Topic17\", \"Topic17\", \"Topic17\", \"Topic17\", \"Topic17\", \"Topic17\", \"Topic17\", \"Topic17\", \"Topic17\", \"Topic17\", \"Topic17\", \"Topic17\", \"Topic17\", \"Topic17\", \"Topic17\", \"Topic17\", \"Topic17\", \"Topic17\", \"Topic17\", \"Topic18\", \"Topic18\", \"Topic18\", \"Topic18\", \"Topic18\", \"Topic18\", \"Topic18\", \"Topic18\", \"Topic18\", \"Topic18\", \"Topic18\", \"Topic18\", \"Topic18\", \"Topic18\", \"Topic18\", \"Topic18\", \"Topic18\", \"Topic18\", \"Topic18\", \"Topic18\", \"Topic18\", \"Topic18\", \"Topic18\", \"Topic18\", \"Topic18\", \"Topic18\", \"Topic18\", \"Topic18\", \"Topic18\", \"Topic18\", \"Topic18\", \"Topic18\", \"Topic18\", \"Topic18\", \"Topic18\", \"Topic18\", \"Topic18\", \"Topic18\", \"Topic18\", \"Topic18\", \"Topic18\", \"Topic18\", \"Topic18\", \"Topic19\", \"Topic19\", \"Topic19\", \"Topic19\", \"Topic19\", \"Topic19\", \"Topic19\", \"Topic19\", \"Topic19\", \"Topic19\", \"Topic19\", \"Topic19\", \"Topic19\", \"Topic19\", \"Topic19\", \"Topic19\", \"Topic19\", \"Topic19\", \"Topic19\", \"Topic19\", \"Topic19\", \"Topic19\", \"Topic19\", \"Topic19\", \"Topic19\", \"Topic19\", \"Topic19\", \"Topic19\", \"Topic19\", \"Topic19\", \"Topic19\", \"Topic19\", \"Topic19\", \"Topic19\", \"Topic19\", \"Topic19\", \"Topic19\", \"Topic19\", \"Topic19\", \"Topic19\", \"Topic19\", \"Topic20\", \"Topic20\", \"Topic20\", \"Topic20\", \"Topic20\", \"Topic20\", \"Topic20\", \"Topic20\", \"Topic20\", \"Topic20\", \"Topic20\", \"Topic20\", \"Topic20\", \"Topic20\", \"Topic20\", \"Topic20\", \"Topic20\", \"Topic20\", \"Topic20\", \"Topic20\", \"Topic20\", \"Topic20\", \"Topic20\", \"Topic20\", \"Topic20\", \"Topic20\", \"Topic20\", \"Topic20\", \"Topic20\", \"Topic20\", \"Topic20\", \"Topic20\", \"Topic20\"], \"Freq\": [39848.0, 15779.0, 9910.0, 10080.0, 9033.0, 13251.0, 12090.0, 7706.0, 7672.0, 3297.0, 6588.0, 4849.0, 6405.0, 2022.0, 2486.0, 5636.0, 5689.0, 3847.0, 1710.0, 1694.0, 7583.0, 5912.0, 3592.0, 4556.0, 2582.0, 2513.0, 2063.0, 2502.0, 2148.0, 1307.0, 15778.89453125, 9032.3525390625, 7705.3857421875, 3482.501953125, 3176.98681640625, 9907.2783203125, 2227.978759765625, 1572.0926513671875, 1553.510986328125, 1120.010009765625, 1064.3968505859375, 1034.0833740234375, 1005.3964233398438, 970.5834350585938, 7663.68359375, 734.8837280273438, 719.6505126953125, 717.4485473632812, 624.343505859375, 535.7478637695312, 384.997314453125, 384.52545166015625, 379.6419372558594, 376.5829772949219, 364.9399108886719, 324.0212707519531, 297.9638977050781, 297.4243469238281, 286.83935546875, 280.80316162109375, 9971.45703125, 2706.845458984375, 6311.57421875, 2244.44482421875, 5583.56884765625, 2445.008056640625, 1403.9267578125, 1600.696044921875, 1884.7357177734375, 3909.36865234375, 1651.721435546875, 1224.0870361328125, 5356.54052734375, 2191.812744140625, 4266.79833984375, 5479.1142578125, 3256.708740234375, 3206.706298828125, 1427.1849365234375, 3093.267333984375, 1880.57373046875, 6441.935546875, 2763.24462890625, 4284.65966796875, 2948.649658203125, 8684.0517578125, 3963.228515625, 8883.84765625, 2688.465576171875, 4727.8779296875, 2703.325927734375, 2452.7080078125, 3559.8740234375, 3373.38916015625, 2752.1767578125, 1535.5946044921875, 557.8505859375, 480.5619812011719, 456.91064453125, 442.5657653808594, 421.4122314453125, 330.61541748046875, 323.3987121582031, 320.720947265625, 315.2179870605469, 305.4494323730469, 293.63922119140625, 282.6139221191406, 277.0248718261719, 276.2956237792969, 275.6051330566406, 272.59869384765625, 268.14813232421875, 265.904541015625, 253.52005004882812, 249.17176818847656, 248.74383544921875, 239.97222900390625, 236.2960205078125, 232.7418670654297, 216.75485229492188, 206.19639587402344, 201.67062377929688, 198.97412109375, 196.55201721191406, 1445.1561279296875, 2327.547607421875, 280.93865966796875, 337.0093078613281, 380.0165710449219, 463.0267639160156, 560.6847534179688, 399.83245849609375, 392.6852111816406, 574.6340942382812, 632.5394287109375, 1267.2998046875, 384.1310729980469, 1319.058349609375, 948.7589111328125, 542.9628295898438, 535.0517578125, 557.9712524414062, 626.120849609375, 596.857666015625, 631.8475952148438, 551.5284423828125, 409.01873779296875, 474.1076354980469, 583.9564819335938, 776.8765258789062, 575.5543212890625, 579.504638671875, 570.986572265625, 560.10791015625, 553.8532104492188, 641.9443969726562, 611.4039306640625, 460.9753723144531, 468.0672302246094, 2147.43701171875, 1147.777587890625, 963.6552734375, 863.388916015625, 757.3773193359375, 635.24169921875, 493.8270568847656, 472.2209777832031, 444.4436950683594, 389.658203125, 383.6065368652344, 382.26666259765625, 374.3182373046875, 357.61932373046875, 346.1366271972656, 281.6424865722656, 245.85177612304688, 232.85826110839844, 214.2647705078125, 211.58126831054688, 206.35546875, 204.32505798339844, 201.39266967773438, 197.16229248046875, 190.50921630859375, 186.35128784179688, 186.26666259765625, 185.33644104003906, 184.34999084472656, 183.7205047607422, 1988.5191650390625, 1998.270263671875, 692.0411376953125, 896.2052001953125, 705.386474609375, 932.6273193359375, 928.460205078125, 687.6205444335938, 1795.1571044921875, 736.252685546875, 601.8853149414062, 1009.2883911132812, 1029.962890625, 1923.1431884765625, 801.8991088867188, 1069.88134765625, 755.6004028320312, 1041.3321533203125, 882.3568725585938, 521.3719482421875, 493.4704895019531, 1647.20703125, 758.2911987304688, 1345.053466796875, 868.46826171875, 2325.912109375, 970.9384155273438, 820.3220825195312, 854.5579223632812, 1048.5614013671875, 1363.0057373046875, 1009.0524291992188, 838.0758056640625, 762.2335205078125, 3296.82861328125, 1634.3236083984375, 1004.8533325195312, 830.1458740234375, 640.4767456054688, 462.5058288574219, 425.66766357421875, 395.7959899902344, 390.0461730957031, 368.1155700683594, 363.106201171875, 346.5165710449219, 276.6858215332031, 263.3222351074219, 252.08094787597656, 249.02488708496094, 243.442626953125, 225.19992065429688, 216.1951446533203, 209.1321563720703, 206.41946411132812, 206.3845977783203, 193.70384216308594, 193.27175903320312, 177.45948791503906, 169.39451599121094, 159.6404571533203, 159.4855194091797, 153.10543823242188, 150.946044921875, 2028.50341796875, 473.92950439453125, 697.0994873046875, 593.7144165039062, 327.6945495605469, 661.0159912109375, 987.3908081054688, 989.3554077148438, 295.5461120605469, 429.1313781738281, 995.47021484375, 462.8652648925781, 1464.3707275390625, 1432.6875, 494.6986999511719, 628.0177612304688, 869.2538452148438, 493.9919128417969, 659.8336181640625, 489.36614990234375, 508.5308532714844, 1169.6868896484375, 532.7200317382812, 777.2061157226562, 783.2926635742188, 521.0811767578125, 457.74310302734375, 472.1643981933594, 1622.2960205078125, 875.4060668945312, 664.3857421875, 649.5468139648438, 630.467529296875, 525.5930786132812, 411.2356872558594, 407.2738342285156, 381.39654541015625, 372.62109375, 353.9857482910156, 345.7178039550781, 295.01171875, 283.6421813964844, 278.2337951660156, 271.39111328125, 248.3076934814453, 228.60728454589844, 227.60098266601562, 224.9549102783203, 221.02684020996094, 219.73524475097656, 212.8188934326172, 208.71124267578125, 207.1871795654297, 206.62350463867188, 203.09727478027344, 199.8986053466797, 198.63650512695312, 193.8966827392578, 641.34375, 304.801025390625, 288.3202819824219, 329.979248046875, 258.636962890625, 482.2979431152344, 883.9461059570312, 765.891357421875, 624.1170043945312, 333.1710205078125, 351.677001953125, 783.4121704101562, 601.5488891601562, 517.1151123046875, 378.2107849121094, 1049.0987548828125, 695.1973876953125, 524.7677612304688, 471.2265930175781, 529.0416870117188, 608.2206420898438, 436.0646667480469, 637.89013671875, 643.9218139648438, 448.4703674316406, 565.749755859375, 401.3800048828125, 425.418701171875, 455.602783203125, 407.84002685546875, 1526.2628173828125, 725.23681640625, 666.2614135742188, 470.6512756347656, 445.64019775390625, 382.847412109375, 369.5716857910156, 318.35003662109375, 309.62811279296875, 289.2497863769531, 281.4816589355469, 272.2588195800781, 246.7704315185547, 232.73162841796875, 222.6384735107422, 222.1111297607422, 207.83746337890625, 200.74884033203125, 197.96316528320312, 196.40786743164062, 192.93502807617188, 192.85769653320312, 190.67141723632812, 189.34713745117188, 186.8852996826172, 181.8940887451172, 179.28729248046875, 175.06948852539062, 174.76629638671875, 172.2555389404297, 460.12384033203125, 558.6902465820312, 820.3306884765625, 287.6488342285156, 360.591064453125, 411.2807312011719, 653.696533203125, 274.0262756347656, 397.6038513183594, 320.1634521484375, 418.51727294921875, 470.6634216308594, 257.1506652832031, 479.7234191894531, 803.4297485351562, 690.204833984375, 374.4078674316406, 320.6756896972656, 350.4361877441406, 39847.22265625, 565.0828247070312, 447.2720031738281, 339.7640075683594, 333.38427734375, 306.7306213378906, 304.151611328125, 302.2859802246094, 293.7109069824219, 256.9532775878906, 256.2926330566406, 254.4953155517578, 253.70651245117188, 243.856689453125, 241.52198791503906, 241.47129821777344, 236.26058959960938, 234.42893981933594, 231.04055786132812, 220.3513946533203, 212.88229370117188, 210.40652465820312, 207.100341796875, 200.57350158691406, 198.71060180664062, 197.32357788085938, 194.49636840820312, 183.29747009277344, 183.04429626464844, 179.65716552734375, 1288.7310791015625, 1012.804931640625, 749.3822631835938, 659.904052734375, 567.591552734375, 558.5845336914062, 544.991455078125, 525.027587890625, 514.7240600585938, 495.0317077636719, 478.623046875, 409.3963928222656, 396.1939392089844, 373.0245361328125, 343.3836975097656, 342.2843017578125, 333.6600646972656, 323.47802734375, 285.5002136230469, 283.5617980957031, 282.034423828125, 281.2895812988281, 270.7455749511719, 252.2228546142578, 245.90289306640625, 221.87559509277344, 215.53065490722656, 206.08465576171875, 202.87083435058594, 194.77162170410156, 505.2044372558594, 944.3460083007812, 2116.31005859375, 356.9309387207031, 345.9443359375, 435.63983154296875, 614.1937255859375, 423.6904602050781, 553.7471313476562, 432.7752990722656, 638.8465576171875, 861.6340942382812, 547.6827392578125, 608.950927734375, 513.878662109375, 515.6926879882812, 441.3773498535156, 466.6744689941406, 402.0431213378906, 1204.4949951171875, 813.3138427734375, 706.6394653320312, 523.9724731445312, 425.0184326171875, 415.4997253417969, 383.68994140625, 369.99114990234375, 353.3482666015625, 338.9747009277344, 306.6177978515625, 287.82220458984375, 287.1592712402344, 278.443115234375, 270.775146484375, 267.8505859375, 261.58404541015625, 247.7307586669922, 247.26036071777344, 247.01004028320312, 242.1746826171875, 234.80133056640625, 229.9384002685547, 227.13134765625, 207.60177612304688, 190.8325653076172, 188.71524047851562, 178.225341796875, 174.64968872070312, 171.05282592773438, 243.0328369140625, 462.9495544433594, 235.35853576660156, 376.929931640625, 405.8732604980469, 375.3692932128906, 920.7462158203125, 274.6793212890625, 264.2157287597656, 751.2374267578125, 386.9361572265625, 486.2866516113281, 290.5508117675781, 270.9457092285156, 267.1784973144531, 298.2218017578125, 276.0147705078125, 1566.98193359375, 505.087646484375, 434.2910461425781, 388.45550537109375, 374.29132080078125, 359.3847961425781, 343.971435546875, 331.1412658691406, 321.9603576660156, 281.5692138671875, 270.130859375, 246.84947204589844, 242.73822021484375, 226.01559448242188, 221.33714294433594, 208.37945556640625, 203.97186279296875, 193.32513427734375, 186.07180786132812, 182.8906707763672, 180.1529083251953, 179.34666442871094, 177.60562133789062, 175.61611938476562, 172.37188720703125, 165.1294403076172, 164.69332885742188, 161.739501953125, 156.13558959960938, 152.0842742919922, 295.3959045410156, 239.386962890625, 712.8258666992188, 483.92486572265625, 251.77272033691406, 416.9208068847656, 281.0580139160156, 351.08966064453125, 331.8500671386719, 242.72003173828125, 344.87548828125, 259.7919921875, 302.1617736816406, 265.3743591308594, 254.4729461669922, 227.44395446777344, 2021.642578125, 672.6705322265625, 593.1251220703125, 578.2264404296875, 517.7972412109375, 454.34942626953125, 410.9081115722656, 336.52294921875, 321.3909606933594, 312.1543884277344, 306.6635437011719, 298.2457275390625, 287.371337890625, 244.301513671875, 243.45054626464844, 237.97378540039062, 237.18980407714844, 199.85311889648438, 196.85414123535156, 182.92030334472656, 180.90127563476562, 170.056396484375, 160.8796844482422, 160.0477752685547, 143.99232482910156, 139.32638549804688, 138.9322052001953, 131.3904266357422, 125.769775390625, 125.73538970947266, 278.890869140625, 275.3894958496094, 625.4689331054688, 306.60089111328125, 306.6041564941406, 663.9669189453125, 467.9654541015625, 322.5050048828125, 693.9663696289062, 400.39801025390625, 412.9162292480469, 377.0047912597656, 374.65106201171875, 433.12054443359375, 269.07891845703125, 1709.6563720703125, 1693.5369873046875, 974.490478515625, 718.6279296875, 401.99725341796875, 390.4944763183594, 355.8014221191406, 334.8835144042969, 264.1533203125, 234.6366729736328, 213.11508178710938, 202.73330688476562, 197.2439422607422, 194.53399658203125, 191.4698486328125, 177.3604736328125, 175.25257873535156, 174.0380859375, 167.9974365234375, 160.92063903808594, 158.0624542236328, 150.81431579589844, 148.27847290039062, 143.11575317382812, 136.40805053710938, 133.18707275390625, 133.1080780029297, 129.5048065185547, 128.7264404296875, 123.48713684082031, 391.14508056640625, 918.4663696289062, 255.62173461914062, 339.68994140625, 213.947998046875, 560.5186157226562, 236.3143310546875, 186.3051300048828, 190.37188720703125, 216.1713104248047, 211.56874084472656, 189.83920288085938, 174.29376220703125, 1101.34326171875, 604.8251953125, 445.5331726074219, 379.95062255859375, 375.1417236328125, 364.0929260253906, 262.4034423828125, 234.75125122070312, 230.65614318847656, 218.2998046875, 204.6492156982422, 174.2961883544922, 160.36651611328125, 149.95303344726562, 147.40719604492188, 144.39529418945312, 142.58251953125, 139.0791015625, 137.67544555664062, 132.14247131347656, 131.96170043945312, 130.6012420654297, 118.41661834716797, 105.63922119140625, 104.43183135986328, 102.4474105834961, 101.6693344116211, 97.38896179199219, 95.7839584350586, 92.64913940429688, 240.21453857421875, 240.3848419189453, 296.2987976074219, 184.13693237304688, 360.7214660644531, 162.36911010742188, 182.34576416015625, 270.73052978515625, 302.8186950683594, 231.30540466308594, 176.1386260986328, 319.7917785644531, 310.3882751464844, 162.30332946777344, 203.03285217285156, 189.09727478027344, 178.82034301757812, 164.67071533203125, 425.8561706542969, 399.6178283691406, 360.837890625, 353.9632568359375, 333.7432556152344, 329.329345703125, 310.6703796386719, 304.3871765136719, 252.66683959960938, 222.6024169921875, 201.6027374267578, 197.20230102539062, 184.15036010742188, 182.00399780273438, 181.20977783203125, 176.12164306640625, 171.36976623535156, 165.41664123535156, 160.8998260498047, 152.5055389404297, 149.612548828125, 144.57540893554688, 140.38768005371094, 137.07391357421875, 135.8339080810547, 132.7366485595703, 130.4689483642578, 124.1203842163086, 123.64823150634766, 118.24443817138672, 591.053466796875, 450.46697998046875, 195.73077392578125, 198.92779541015625, 217.75360107421875, 227.68023681640625, 159.90451049804688, 145.89100646972656, 159.71139526367188, 150.06866455078125, 533.99658203125, 297.8979797363281, 292.8232727050781, 286.62506103515625, 246.96759033203125, 240.71218872070312, 232.69168090820312, 223.66043090820312, 220.4078826904297, 214.13925170898438, 213.86090087890625, 201.3175048828125, 184.55039978027344, 169.8478546142578, 169.21572875976562, 167.3962860107422, 167.02464294433594, 166.70909118652344, 162.44696044921875, 153.41355895996094, 152.2306365966797, 140.17578125, 137.70970153808594, 126.4751968383789, 122.03850555419922, 121.93301391601562, 118.23284912109375, 116.47871398925781, 111.30194854736328, 109.70744323730469, 404.16259765625, 331.2756042480469, 386.97625732421875, 244.2987518310547, 245.93702697753906, 286.7480163574219, 243.6932373046875, 360.00146484375, 339.5206298828125, 684.5341796875, 629.2052001953125, 543.650634765625, 351.79388427734375, 318.4258117675781, 179.16592407226562, 184.91195678710938, 171.81082153320312, 172.12628173828125, 1297.2100830078125, 642.3681640625, 640.7136840820312, 587.7796020507812, 474.6755676269531, 472.6017150878906, 455.1091003417969, 392.908203125, 315.6777038574219, 304.3853759765625, 259.54656982421875, 244.14361572265625, 220.7038116455078, 205.27984619140625, 194.57884216308594, 191.45407104492188, 190.3655548095703, 187.98863220214844, 186.04054260253906, 141.87326049804688, 140.2721405029297, 132.44766235351562, 129.7739715576172, 127.87487030029297, 125.08228302001953, 113.29708099365234, 103.41706848144531, 103.3180160522461, 101.29334259033203, 100.98657989501953, 133.87362670898438, 222.92919921875, 163.87258911132812, 216.26060485839844, 217.22265625, 202.19244384765625, 226.63124084472656, 170.1111297607422, 169.65980529785156, 145.35147094726562, 150.88426208496094, 143.4776611328125, 793.1248779296875, 646.4475708007812, 549.0352172851562, 435.1191711425781, 341.2824401855469, 336.7229919433594, 322.3680419921875, 283.7895202636719, 264.0882568359375, 226.0918426513672, 221.1533203125, 218.8876953125, 204.56927490234375, 203.38829040527344, 191.13800048828125, 180.010986328125, 159.726318359375, 158.11175537109375, 154.90890502929688, 153.89186096191406, 140.2100372314453, 130.3218994140625, 118.30886840820312, 116.79521179199219, 113.29329681396484, 106.2508544921875, 105.6187515258789, 105.1827621459961, 93.00021362304688, 91.4286880493164, 213.8233642578125, 382.8941955566406, 340.1251525878906, 223.02732849121094, 287.40899658203125, 131.78587341308594, 421.5775146484375, 175.37159729003906, 320.0301208496094, 147.26376342773438, 168.7672576904297, 163.24176025390625, 406.7986145019531, 290.5962219238281, 256.270263671875, 242.40896606445312, 241.2334747314453, 224.69796752929688, 205.66673278808594, 165.05352783203125, 164.42295837402344, 155.5527801513672, 155.433349609375, 149.9037628173828, 147.77122497558594, 145.52403259277344, 144.26907348632812, 138.365966796875, 137.29934692382812, 127.0828628540039, 125.34944152832031, 124.09806060791016, 117.88929748535156, 115.02213287353516, 112.84813690185547, 109.43949890136719, 104.49353790283203, 99.39652252197266, 95.45346069335938, 95.27212524414062, 94.03852081298828, 93.55357360839844, 158.86172485351562, 256.2393798828125, 123.84365844726562, 501.8355712890625, 287.1610107421875, 338.1297302246094, 381.1649475097656, 325.5673828125, 310.66387939453125, 236.6187286376953, 137.63531494140625, 140.35806274414062, 138.49368286132812, 420.2112731933594, 261.6525573730469, 255.8377227783203, 250.0936737060547, 249.19004821777344, 232.24948120117188, 218.15016174316406, 202.03195190429688, 199.70225524902344, 190.33238220214844, 178.02293395996094, 174.24191284179688, 166.95309448242188, 157.64215087890625, 156.8485107421875, 142.19790649414062, 141.23048400878906, 132.783935546875, 129.7490234375, 129.7261962890625, 129.0185089111328, 115.75171661376953, 113.36062622070312, 112.27345275878906, 105.69752502441406, 104.24716186523438, 102.66590881347656, 96.67606353759766, 93.48558044433594, 86.90106964111328, 204.34906005859375, 302.50933837890625, 371.0019226074219, 410.24066162109375, 255.60092163085938, 239.56472778320312, 178.1353759765625, 191.42710876464844, 185.31394958496094, 147.48098754882812, 136.69558715820312, 1306.271240234375, 1106.5517578125, 292.89849853515625, 241.40577697753906, 213.87493896484375, 170.26609802246094, 168.4779052734375, 117.20355224609375, 116.52674865722656, 108.458740234375, 99.05192565917969, 85.68012237548828, 83.31140899658203, 82.27606201171875, 80.6163101196289, 79.35553741455078, 75.95367431640625, 71.93780517578125, 71.80223083496094, 69.6382827758789, 68.3824234008789, 67.72470092773438, 66.91905212402344, 65.24473571777344, 65.11614227294922, 64.0006103515625, 63.069400787353516, 61.07851028442383, 60.85075378417969, 60.57918167114258, 66.59906768798828, 70.81644439697266, 65.23920440673828], \"Term\": [\"ax\", \"not\", \"do\", \"write\", \"would\", \"line\", \"organization\", \"be\", \"article\", \"god\", \"say\", \"university\", \"know\", \"key\", \"drive\", \"go\", \"think\", \"system\", \"team\", \"game\", \"get\", \"people\", \"year\", \"host\", \"state\", \"reason\", \"evidence\", \"believe\", \"window\", \"_\", \"not\", \"would\", \"be\", \"could\", \"s\", \"do\", \"really\", \"someone\", \"hear\", \"actually\", \"maybe\", \"kind\", \"money\", \"ill\", \"article\", \"everything\", \"there\", \"guess\", \"sort\", \"better\", \"choice\", \"obviously\", \"realize\", \"possibility\", \"happy\", \"raise\", \"somebody\", \"laugh\", \"lack\", \"folk\", \"write\", \"have\", \"know\", \"something\", \"think\", \"tell\", \"probably\", \"bad\", \"sure\", \"well\", \"anything\", \"enough\", \"go\", \"seem\", \"see\", \"make\", \"take\", \"want\", \"far\", \"thing\", \"still\", \"get\", \"even\", \"time\", \"way\", \"organization\", \"good\", \"line\", \"give\", \"say\", \"try\", \"much\", \"people\", \"may\", \"come\", \"law\", \"master\", \"grant\", \"individual\", \"community\", \"shall\", \"possibly\", \"trial\", \"father\", \"blank\", \"aid\", \"defense\", \"march\", \"vote\", \"generally\", \"step\", \"doctrine\", \"letter\", \"examine\", \"minor\", \"industry\", \"resource\", \"immediately\", \"debate\", \"congress\", \"militia\", \"ensure\", \"blind\", \"constitution\", \"economic\", \"issue\", \"state\", \"league\", \"meet\", \"associate\", \"bill\", \"member\", \"serious\", \"sign\", \"purpose\", \"national\", \"case\", \"involve\", \"right\", \"group\", \"rule\", \"control\", \"receive\", \"person\", \"public\", \"support\", \"report\", \"apply\", \"general\", \"provide\", \"new\", \"order\", \"follow\", \"must\", \"include\", \"number\", \"people\", \"may\", \"free\", \"make\", \"window\", \"email\", \"code\", \"entry\", \"fax\", \"display\", \"algorithm\", \"print\", \"unix\", \"serial_number\", \"telnet\", \"clipper_chip\", \"rsa\", \"seller\", \"printer\", \"directory\", \"crypto\", \"nec\", \"hd\", \"hi\", \"hint\", \"zip\", \"serial\", \"intergraph\", \"ftp\", \"comp\", \"properly\", \"multi\", \"microsoft\", \"ms\", \"file\", \"mail\", \"hardware\", \"version\", \"application\", \"copy\", \"info\", \"user\", \"program\", \"advance\", \"network\", \"available\", \"software\", \"thank\", \"image\", \"send\", \"address\", \"information\", \"source\", \"access\", \"scan\", \"use\", \"list\", \"system\", \"computer\", \"line\", \"run\", \"set\", \"include\", \"need\", \"organization\", \"host\", \"help\", \"also\", \"god\", \"christian\", \"faith\", \"bible\", \"color\", \"conclusion\", \"christianity\", \"christ\", \"jesus\", \"gm\", \"logic\", \"revelation\", \"convince\", \"universe\", \"interpretation\", \"animal\", \"evil\", \"reject\", \"context\", \"scripture\", \"teach\", \"definition\", \"worship\", \"prayer\", \"doug\", \"spirit\", \"blindly\", \"morality\", \"matthew\", \"ron\", \"evidence\", \"existence\", \"argument\", \"truth\", \"nature\", \"religion\", \"sense\", \"exist\", \"moral\", \"valid\", \"claim\", \"human\", \"reason\", \"believe\", \"discussion\", \"word\", \"man\", \"accept\", \"life\", \"explain\", \"love\", \"say\", \"true\", \"may\", \"people\", \"many\", \"child\", \"mean\", \"car\", \"physical\", \"graphic\", \"screen\", \"disk\", \"wire\", \"worth\", \"family\", \"unit\", \"quality\", \"cool\", \"corp\", \"motorcycle\", \"edge\", \"convert\", \"foot\", \"chris\", \"drum\", \"procedure\", \"saturn\", \"fun\", \"cycle\", \"intel\", \"helmet\", \"though\", \"award\", \"auto\", \"slip\", \"fairly\", \"wave\", \"light\", \"tool\", \"weight\", \"direct\", \"absolutely\", \"box\", \"buy\", \"type\", \"test\", \"fit\", \"amount\", \"power\", \"small\", \"move\", \"size\", \"new\", \"old\", \"price\", \"low\", \"large\", \"high\", \"mark\", \"look\", \"good\", \"leave\", \"line\", \"sell\", \"back\", \"organization\", \"time\", \"gun\", \"armenian\", \"fire\", \"firearm\", \"turk\", \"pen\", \"turkish\", \"town\", \"fbi\", \"turkey\", \"pro\", \"greece\", \"govt\", \"canadian\", \"girl\", \"husband\", \"devil\", \"koresh\", \"russia\", \"tank\", \"gang\", \"violence\", \"glock\", \"captain\", \"daughter\", \"serdar_argic\", \"aunt\", \"armenia\", \"penguin\", \"escape\", \"shoot\", \"greek\", \"kill\", \"population\", \"weapon\", \"woman\", \"child\", \"criminal\", \"young\", \"police\", \"city\", \"american\", \"arm\", \"government\", \"people\", \"say\", \"live\", \"death\", \"man\", \"ax\", \"rlk\", \"cub\", \"echo\", \"tufts_university\", \"stl\", \"pitcher\", \"pit\", \"lk\", \"differential\", \"vesa\", \"chz\", \"ds\", \"mi\", \"ey\", \"weekly\", \"index\", \"fij\", \"rent\", \"clark\", \"m\", \"consulting\", \"tyre\", \"ei\", \"mon\", \"eq\", \"bs\", \"ahl\", \"tb\", \"houston\", \"card\", \"mac\", \"cpu\", \"memory\", \"video\", \"board\", \"scsi\", \"mb\", \"season\", \"jumper\", \"monitor\", \"apple\", \"controller\", \"scott\", \"internal\", \"performance\", \"motif\", \"port\", \"ethernet\", \"upgrade\", \"motherboard\", \"vlb\", \"ram\", \"byte\", \"cable\", \"localtalk\", \"cache\", \"busmastere\", \"maria\", \"socket\", \"device\", \"driver\", \"drive\", \"bus\", \"connect\", \"mode\", \"chip\", \"pc\", \"machine\", \"speed\", \"computer\", \"system\", \"bit\", \"use\", \"problem\", \"line\", \"work\", \"organization\", \"run\", \"win\", \"player\", \"patient\", \"fan\", \"score\", \"mouse\", \"chicago\", \"disease\", \"health\", \"boston\", \"mhz\", \"baseball\", \"texas\", \"boy\", \"doctor\", \"diagnosis\", \"insurance\", \"pittsburgh\", \"george\", \"medical\", \"tumor\", \"ball\", \"brian\", \"stat\", \"migraine\", \"winner\", \"accelerator\", \"plate\", \"jason\", \"josh\", \"frank\", \"drug\", \"smith\", \"brain\", \"dept\", \"hit\", \"year\", \"period\", \"univ\", \"university\", \"lose\", \"run\", \"goal\", \"series\", \"computer_science\", \"last\", \"home\", \"space\", \"faq\", \"mount\", \"launch\", \"project\", \"moon\", \"mission\", \"orbit\", \"nasa\", \"satellite\", \"vehicle\", \"mar\", \"plane\", \"surface\", \"flight\", \"status\", \"vertical\", \"pub\", \"facility\", \"energy\", \"astronomy\", \"edition\", \"ltd\", \"shuttle\", \"sci\", \"fuel\", \"comet\", \"hitachi\", \"sky\", \"probe\", \"environment\", \"generate\", \"research\", \"earth\", \"scientific\", \"science\", \"field\", \"datum\", \"center\", \"development\", \"program\", \"technology\", \"system\", \"first\", \"may\", \"base\", \"key\", \"ripem\", \"security\", \"encryption\", \"tape\", \"clipper\", \"encrypt\", \"secure\", \"tap\", \"secret\", \"mark_baker\", \"atheism\", \"pgp\", \"sex\", \"nsa\", \"rational\", \"gay\", \"homosexual\", \"implement\", \"thi\", \"proposal\", \"positive\", \"privacy\", \"patent\", \"pem\", \"anywhere\", \"default\", \"decrypt\", \"warrant\", \"methodology\", \"trust\", \"agency\", \"public\", \"private\", \"block\", \"government\", \"chip\", \"protect\", \"system\", \"provide\", \"bit\", \"message\", \"information\", \"use\", \"standard\", \"team\", \"game\", \"sale\", \"hockey\", \"nhl\", \"wing\", \"steven\", \"playoff\", \"keyboard\", \"det\", \"ice\", \"coach\", \"tor\", \"dollar\", \"bos\", \"ticket\", \"hawk\", \"detroit\", \"tie\", \"super\", \"egg\", \"roger\", \"duo\", \"trap\", \"ranger\", \"cup\", \"vancouver\", \"sink\", \"last_night\", \"plenty\", \"trade\", \"play\", \"star\", \"division\", \"final\", \"year\", \"pick\", \"european\", \"king\", \"canada\", \"first\", \"go\", \"last\", \"israel\", \"israeli\", \"jew\", \"lebanese\", \"arab\", \"jewish\", \"peace\", \"bomb\", \"iran\", \"occupy\", \"palestinian\", \"justice\", \"thinking_machine\", \"lebanon\", \"syrian\", \"sea\", \"satan\", \"liar\", \"lebanese_resistance\", \"patrol\", \"hizbollah\", \"islamic\", \"advocate\", \"arrest\", \"progress\", \"guilty\", \"youth\", \"shai_guday\", \"policy_research\", \"software_engineer\", \"terrorist\", \"muslim\", \"village\", \"islam\", \"war\", \"civilian\", \"withdraw\", \"soldier\", \"attack\", \"murder\", \"freedom\", \"death\", \"kill\", \"blood\", \"religious\", \"land\", \"force\", \"state\", \"sin\", \"notice\", \"eat\", \"cd\", \"food\", \"material\", \"signal\", \"external\", \"circuit\", \"pat\", \"msg\", \"xterm\", \"case_western\", \"reserve_university\", \"tube\", \"map\", \"oil\", \"specify\", \"alan\", \"ohio_state\", \"charle\", \"audio\", \"receiver\", \"william\", \"uunet\", \"leg\", \"nj\", \"berkeley\", \"resistance\", \"frequency\", \"choose\", \"input\", \"circle\", \"suggestion\", \"ground\", \"sometimes\", \"jam\", \"feed\", \"object\", \"steve\", \"instal\", \"fix\", \"jeff\", \"client\", \"andrew\", \"illinoi\", \"channel\", \"crash\", \"toronto\", \"statistic\", \"joseph\", \"rob\", \"bios\", \"expansion\", \"indiana\", \"uk\", \"button\", \"frame\", \"espn\", \"legitimate\", \"icon\", \"bruce\", \"utility\", \"urbana\", \"caviar\", \"compression\", \"binary\", \"eric\", \"backup\", \"window_manager\", \"michael\", \"robert\", \"format\", \"tom\", \"hole\", \"bob\", \"manager\", \"package\", \"distribution\", \"university\", \"organization\", \"line\", \"problem\", \"host\", \"command\", \"option\", \"link\", \"error\", \"book\", \"belief\", \"atheist\", \"church\", \"pin\", \"slave\", \"sphere\", \"character\", \"lord\", \"headache\", \"syndrome\", \"processor\", \"font\", \"lewis\", \"catholic\", \"believer\", \"male\", \"mirror\", \"holy\", \"prize\", \"pegasus\", \"spring\", \"widget\", \"origin\", \"birth\", \"writer\", \"trivial\", \"reward\", \"radius\", \"optional\", \"culture\", \"peter\", \"van\", \"religious\", \"event\", \"reference\", \"point\", \"woman\", \"science\", \"reality\", \"group\", \"value\", \"internet\", \"bike\", \"server\", \"md\", \"ride\", \"pain\", \"route\", \"dod\", \"announcement\", \"phil\", \"dog\", \"rider\", \"cap\", \"sensitive\", \"zone\", \"modem\", \"honda\", \"bug\", \"taste\", \"metal\", \"travel\", \"eng\", \"transmission\", \"beast\", \"chi\", \"bmw\", \"mri\", \"mid\", \"brand\", \"biker\", \"thomas\", \"engine\", \"steve\", \"mile\", \"originator\", \"noise\", \"com\", \"club\", \"host\", \"street\", \"nntp_posting\", \"nntp_poste\", \"item\", \"recommend\", \"gateway\", \"usenet\", \"michigan\", \"warranty\", \"benefit\", \"visible\", \"ship\", \"centre\", \"bank\", \"shipping\", \"guarantee\", \"meg\", \"unlikely\", \"murray\", \"plug\", \"logo\", \"primary\", \"advertising\", \"truck\", \"philosophy\", \"rochester\", \"speaker\", \"sony\", \"stereo\", \"david_veal\", \"correspond\", \"el\", \"health_care\", \"damage\", \"air\", \"friday\", \"pay\", \"replace\", \"cover\", \"service\", \"cost\", \"sell\", \"price\", \"together\", \"month\", \"offer\", \"library\", \"title\", \"art\", \"pa\", \"translation\", \"brown\", \"description\", \"dual\", \"draft\", \"archive\", \"database\", \"conference\", \"transmit\", \"forum\", \"sj\", \"buf\", \"publication\", \"miller\", \"arizona\", \"rt\", \"cdc\", \"copyright\", \"cluster\", \"libxmu\", \"hill\", \"magellan\", \"amiga\", \"annual\", \"gerald\", \"ri\", \"language\", \"ed\", \"st\", \"section\", \"author\", \"page\", \"te\", \"contact\", \"april\", \"special\", \"information\", \"_\", \"max\", \"dn\", \"eeg\", \"cx\", \"c\", \"mv\", \"mk\", \"sw\", \"mj\", \"mu\", \"film\", \"ld\", \"mc\", \"dl\", \"ai\", \"fb\", \"xv\", \"r\", \"devguide\", \"mil\", \"jh\", \"sl\", \"bhi\", \"jpl\", \"bf\", \"medford\", \"regional\", \"ecs\", \"jl\", \"l\", \"sld\", \"umu\"], \"Total\": [39848.0, 15779.0, 9910.0, 10080.0, 9033.0, 13251.0, 12090.0, 7706.0, 7672.0, 3297.0, 6588.0, 4849.0, 6405.0, 2022.0, 2486.0, 5636.0, 5689.0, 3847.0, 1710.0, 1694.0, 7583.0, 5912.0, 3592.0, 4556.0, 2582.0, 2513.0, 2063.0, 2502.0, 2148.0, 1307.0, 15779.890625, 9033.3486328125, 7706.3837890625, 3483.49853515625, 3177.9833984375, 9910.505859375, 2228.975341796875, 1573.0894775390625, 1554.5078125, 1121.0068359375, 1065.3936767578125, 1035.0802001953125, 1006.393310546875, 971.580322265625, 7672.53466796875, 735.880615234375, 720.6473999023438, 718.4454345703125, 625.3403930664062, 536.7447509765625, 385.994140625, 385.52227783203125, 380.6387634277344, 377.5798034667969, 365.9367370605469, 325.0180969238281, 298.9607238769531, 298.4211730957031, 287.836181640625, 281.79998779296875, 10080.4365234375, 2718.902099609375, 6405.720703125, 2258.6884765625, 5689.72607421875, 2474.55908203125, 1422.738037109375, 1627.0308837890625, 1919.2425537109375, 4039.816650390625, 1681.26220703125, 1242.899169921875, 5636.2041015625, 2264.385498046875, 4506.48583984375, 6012.06494140625, 3483.493408203125, 3442.32666015625, 1461.287841796875, 3364.80126953125, 1971.6600341796875, 7583.69189453125, 3007.810546875, 4932.2587890625, 3282.82861328125, 12090.0966796875, 4810.50830078125, 13251.6513671875, 3049.526611328125, 6588.6611328125, 3124.2626953125, 2715.7158203125, 5912.68896484375, 5550.06884765625, 3490.443359375, 1536.5914306640625, 558.8474731445312, 481.5588073730469, 457.907470703125, 443.5625915527344, 422.4090576171875, 331.61224365234375, 324.3955383300781, 321.7177734375, 316.2148132324219, 306.4462585449219, 294.63604736328125, 283.6107482910156, 278.0216979980469, 277.2924499511719, 276.6019592285156, 273.59552001953125, 269.14495849609375, 266.9013671875, 254.5169219970703, 250.16864013671875, 249.74070739746094, 240.96910095214844, 237.2928924560547, 233.73873901367188, 217.75172424316406, 207.19326782226562, 202.66749572753906, 199.9709930419922, 197.54888916015625, 1466.5191650390625, 2582.53466796875, 286.05975341796875, 347.68438720703125, 395.42095947265625, 495.5559387207031, 632.1240234375, 432.3161926269531, 426.03338623046875, 683.2254638671875, 814.4454956054688, 2244.312744140625, 443.12078857421875, 2908.068115234375, 2114.935302734375, 873.209716796875, 883.035400390625, 958.937744140625, 1230.3394775390625, 1234.5496826171875, 1432.301025390625, 1091.9862060546875, 577.608154296875, 828.9329833984375, 1429.7412109375, 3047.694580078125, 1499.748046875, 1682.647705078125, 1707.2496337890625, 1777.300537109375, 2295.931884765625, 5912.68896484375, 5550.06884765625, 994.4304809570312, 6012.06494140625, 2148.4287109375, 1148.769287109375, 964.6470947265625, 864.3807373046875, 758.369140625, 636.2335205078125, 494.8188781738281, 473.2127990722656, 445.4355163574219, 390.6500244140625, 384.5983581542969, 383.25848388671875, 375.31005859375, 358.61114501953125, 347.1284484863281, 282.6343078613281, 246.84359741210938, 233.85008239746094, 215.256591796875, 212.57308959960938, 207.3472900390625, 205.31687927246094, 202.38449096679688, 198.15411376953125, 191.50103759765625, 187.34310913085938, 187.25848388671875, 186.32826232910156, 185.34181213378906, 184.7123260498047, 2000.822998046875, 2114.337646484375, 715.7576904296875, 935.4789428710938, 733.3988037109375, 983.480712890625, 1028.9310302734375, 757.1063232421875, 2140.97314453125, 818.1218872070312, 658.2066650390625, 1218.4881591796875, 1259.0966796875, 2569.761962890625, 1013.7510986328125, 1644.1614990234375, 1062.3697509765625, 1752.6290283203125, 1386.5899658203125, 628.84521484375, 576.1131591796875, 4433.79052734375, 1245.345947265625, 3847.30322265625, 1650.34130859375, 13251.6513671875, 2365.263427734375, 1568.8887939453125, 1777.300537109375, 3404.14990234375, 12090.0966796875, 4556.3193359375, 2187.204345703125, 4295.5712890625, 3297.832275390625, 1635.3272705078125, 1005.8571166992188, 831.149658203125, 641.4805297851562, 463.5095520019531, 426.67138671875, 396.7997131347656, 391.0498962402344, 369.1192932128906, 364.10992431640625, 347.5202941894531, 277.6895446777344, 264.3259582519531, 253.08470153808594, 250.0286407470703, 244.44638061523438, 226.20367431640625, 217.1988983154297, 210.1359100341797, 207.4232177734375, 207.3883514404297, 194.7075958251953, 194.2755126953125, 178.46324157714844, 170.3982696533203, 160.6442108154297, 160.48927307128906, 154.10919189453125, 151.94979858398438, 2063.27294921875, 480.2040100097656, 726.92138671875, 647.39453125, 347.3454284667969, 746.7423095703125, 1179.334716796875, 1219.079833984375, 313.4244384765625, 495.9118347167969, 1474.4111328125, 571.2559204101562, 2513.39208984375, 2502.595703125, 683.4119873046875, 993.5996704101562, 1668.0406494140625, 708.5150146484375, 1160.7498779296875, 734.5365600585938, 809.6998901367188, 6588.6611328125, 1200.9295654296875, 5550.06884765625, 5912.68896484375, 2907.14599609375, 1210.6357421875, 2253.632568359375, 1623.293212890625, 876.4034423828125, 665.3831176757812, 650.544189453125, 631.4649047851562, 526.5904541015625, 412.2330017089844, 408.2711486816406, 382.39385986328125, 373.618408203125, 354.9830627441406, 346.7151184082031, 296.009033203125, 284.6394958496094, 279.2311096191406, 272.388427734375, 249.30503845214844, 229.60462951660156, 228.59832763671875, 225.95225524902344, 222.02418518066406, 220.7325897216797, 213.8162384033203, 209.70858764648438, 208.1845245361328, 207.620849609375, 204.09461975097656, 200.8959503173828, 199.63385009765625, 194.89402770996094, 653.4719848632812, 314.61627197265625, 299.3223571777344, 358.0935363769531, 270.71466064453125, 577.04296875, 1212.8221435546875, 1051.6295166015625, 819.7936401367188, 372.5323181152344, 413.42620849609375, 1371.4444580078125, 937.1149291992188, 777.570068359375, 511.6724548339844, 3047.694580078125, 1550.4200439453125, 1002.8389282226562, 822.2876586914062, 1056.4495849609375, 1542.4407958984375, 764.2125854492188, 3061.742431640625, 4810.50830078125, 1196.652587890625, 13251.6513671875, 933.2239990234375, 2107.905029296875, 12090.0966796875, 4932.2587890625, 1527.25048828125, 726.2246704101562, 667.249267578125, 471.6390075683594, 446.6279296875, 383.83514404296875, 370.5594177246094, 319.3377685546875, 310.6158447265625, 290.2375183105469, 282.4693908691406, 273.2465515136719, 247.75820922851562, 233.7194061279297, 223.62625122070312, 223.09890747070312, 208.8252410888672, 201.7366180419922, 198.95094299316406, 197.39564514160156, 193.9228057861328, 193.84547424316406, 191.65919494628906, 190.3349151611328, 187.87307739257812, 182.88186645507812, 180.2750701904297, 176.05726623535156, 175.7540740966797, 173.24331665039062, 465.3353271484375, 608.2730712890625, 1131.6646728515625, 323.2766418457031, 467.81439208984375, 582.3349609375, 1210.6357421875, 346.13909912109375, 638.2982177734375, 459.8076171875, 736.1883544921875, 916.0360107421875, 322.726806640625, 1608.8861083984375, 5912.68896484375, 6588.6611328125, 1346.166015625, 927.8882446289062, 1668.0406494140625, 39848.1640625, 566.0244140625, 448.2134704589844, 340.7054748535156, 334.32574462890625, 307.6720886230469, 305.09307861328125, 303.2274475097656, 294.6523742675781, 257.8947448730469, 257.2341003417969, 255.43682861328125, 254.6480255126953, 244.79820251464844, 242.4635009765625, 242.41281127929688, 237.2021026611328, 235.37045288085938, 231.98207092285156, 221.29290771484375, 213.8238067626953, 211.34803771972656, 208.04185485839844, 201.5150146484375, 199.65211486816406, 198.2650909423828, 195.43788146972656, 184.23898315429688, 183.98580932617188, 180.5986785888672, 1289.733642578125, 1013.8076171875, 750.3849487304688, 660.90673828125, 568.59423828125, 559.5872192382812, 545.994140625, 526.0302734375, 515.7267456054688, 496.0343017578125, 479.6256408691406, 410.39898681640625, 397.196533203125, 374.0271301269531, 344.38629150390625, 343.2868957519531, 334.66265869140625, 324.4806213378906, 286.5028076171875, 284.56439208984375, 283.0370178222656, 282.29217529296875, 271.7481689453125, 253.22549438476562, 246.90553283691406, 222.87823486328125, 216.53329467773438, 207.08729553222656, 203.87347412109375, 195.77426147460938, 510.89569091796875, 1039.2987060546875, 2486.22412109375, 402.7251892089844, 408.2528991699219, 567.6436767578125, 1083.113037109375, 606.0973510742188, 1012.7168579101562, 638.9229125976562, 1650.34130859375, 3847.30322265625, 1557.0047607421875, 4433.79052734375, 2974.338134765625, 13251.6513671875, 3469.56298828125, 12090.0966796875, 2365.263427734375, 1205.494384765625, 814.3133544921875, 707.6389770507812, 524.9719848632812, 426.017822265625, 416.4991149902344, 384.6893310546875, 370.99053955078125, 354.34765625, 339.9740905761719, 307.6171875, 288.82159423828125, 288.1586608886719, 279.4425048828125, 271.7745361328125, 268.8499755859375, 262.58343505859375, 248.73020935058594, 248.2598114013672, 248.00949096679688, 243.17413330078125, 235.80078125, 230.93785095214844, 228.13079833984375, 208.60122680664062, 191.83201599121094, 189.71469116210938, 179.22479248046875, 175.64913940429688, 172.05227661132812, 252.0946044921875, 526.0443725585938, 245.66925048828125, 419.9859313964844, 460.3606262207031, 487.8319396972656, 3592.534912109375, 346.3357238769531, 324.3121643066406, 4849.1123046875, 937.1006469726562, 2365.263427734375, 479.8359680175781, 440.92669677734375, 523.4965209960938, 1648.867431640625, 937.3875732421875, 1567.979736328125, 506.08544921875, 435.2888488769531, 389.45330810546875, 375.28912353515625, 360.3825988769531, 344.96923828125, 332.1390686035156, 322.9581604003906, 282.5670166015625, 271.128662109375, 247.8473663330078, 243.73611450195312, 227.01348876953125, 222.3350372314453, 209.37734985351562, 204.96975708007812, 194.32302856445312, 187.0697021484375, 183.88856506347656, 181.1508026123047, 180.3445587158203, 178.603515625, 176.614013671875, 173.36978149414062, 166.12733459472656, 165.69122314453125, 162.7418212890625, 157.13348388671875, 153.08216857910156, 307.5682678222656, 265.2423400878906, 1169.919921875, 764.070556640625, 344.2779541015625, 959.6744384765625, 512.516845703125, 1021.5606079101562, 980.2396240234375, 419.239990234375, 2140.97314453125, 1200.578369140625, 3847.30322265625, 2914.967529296875, 5550.06884765625, 1203.257568359375, 2022.6427001953125, 673.6708374023438, 594.1254272460938, 579.2267456054688, 518.7975463867188, 455.349609375, 411.9082946777344, 337.52313232421875, 322.3911437988281, 313.1545715332031, 307.6637268066406, 299.24591064453125, 288.37152099609375, 245.30177307128906, 244.4508056640625, 238.9740447998047, 238.1900634765625, 200.85337829589844, 197.85440063476562, 183.92056274414062, 181.9015350341797, 171.05665588378906, 161.87994384765625, 161.04803466796875, 144.99258422851562, 140.32664489746094, 139.93246459960938, 132.39068603515625, 126.77001953125, 126.73563385009766, 304.6532287597656, 308.4739074707031, 1234.5496826171875, 468.72125244140625, 471.858154296875, 1608.8861083984375, 1083.113037109375, 558.6459350585938, 3847.30322265625, 1429.7412109375, 1557.0047607421875, 1364.43408203125, 1752.6290283203125, 4433.79052734375, 800.2549438476562, 1710.6568603515625, 1694.5374755859375, 975.4911499023438, 719.6286010742188, 402.997802734375, 391.4950256347656, 356.8019714355469, 335.8840637207031, 265.15386962890625, 235.6372833251953, 214.11569213867188, 203.73391723632812, 198.2445526123047, 195.53460693359375, 192.470458984375, 178.361083984375, 176.25318908691406, 175.0386962890625, 168.998046875, 161.92124938964844, 159.0630645751953, 151.81492614746094, 149.27908325195312, 144.11636352539062, 137.40866088867188, 134.18768310546875, 134.1086883544922, 130.5054168701172, 129.72705078125, 124.48773956298828, 432.6506042480469, 1122.885009765625, 342.92724609375, 526.1142578125, 360.7270812988281, 3592.534912109375, 502.2736511230469, 287.655517578125, 307.6521911621094, 478.835693359375, 2914.967529296875, 5636.2041015625, 1648.867431640625, 1102.35009765625, 605.8322143554688, 446.54010009765625, 380.9575500488281, 376.1486511230469, 365.099853515625, 263.4103698730469, 235.75823974609375, 231.6631317138672, 219.30679321289062, 205.6562042236328, 175.3031768798828, 161.37350463867188, 150.96002197265625, 148.4141845703125, 145.40228271484375, 143.58950805664062, 140.08609008789062, 138.68243408203125, 133.1494598388672, 132.96868896484375, 131.6082305908203, 119.42359924316406, 106.64620208740234, 105.43881225585938, 103.45439147949219, 102.67631530761719, 98.39594268798828, 96.79093933105469, 93.65612030029297, 258.0392761230469, 295.7674255371094, 392.31982421875, 234.2113800048828, 618.7120971679688, 201.51519775390625, 241.43646240234375, 489.9428405761719, 679.9473266601562, 422.1573181152344, 240.1505126953125, 927.8882446289062, 1131.6646728515625, 211.02273559570312, 420.2557678222656, 364.8596496582031, 789.9649047851562, 2582.53466796875, 426.85565185546875, 400.6173095703125, 361.8373718261719, 354.9627380371094, 334.74273681640625, 330.3288269042969, 311.66986083984375, 305.38665771484375, 253.66635131835938, 223.6019287109375, 202.6022491455078, 198.20181274414062, 185.14987182617188, 183.00350952148438, 182.20928955078125, 177.12115478515625, 172.36927795410156, 166.41615295410156, 161.8993377685547, 153.5050506591797, 150.612060546875, 145.57492065429688, 141.38719177246094, 138.07342529296875, 136.8334197998047, 133.7361602783203, 131.4684600830078, 125.11988830566406, 124.64773559570312, 119.24394226074219, 601.8163452148438, 479.08697509765625, 204.8717803955078, 319.7265319824219, 407.8905029296875, 615.0694580078125, 239.37176513671875, 187.7231903076172, 381.5472412109375, 493.1540832519531, 534.9934692382812, 298.89483642578125, 293.82012939453125, 287.6219177246094, 247.9644775390625, 241.70907592773438, 233.68856811523438, 224.65731811523438, 221.40476989746094, 215.13613891601562, 214.8577880859375, 202.31439208984375, 185.5472869873047, 170.84474182128906, 170.21261596679688, 168.39317321777344, 168.0215301513672, 167.7059783935547, 163.44384765625, 154.4104461669922, 153.22752380371094, 141.17266845703125, 138.7065887451172, 127.47207641601562, 123.03538513183594, 122.92989349365234, 119.22972869873047, 117.47559356689453, 112.298828125, 110.7043228149414, 413.376220703125, 355.4012145996094, 439.83978271484375, 267.75555419921875, 271.7940979003906, 327.349853515625, 290.7164306640625, 496.1947326660156, 498.3818664550781, 4849.1123046875, 12090.0966796875, 13251.6513671875, 2974.338134765625, 4556.3193359375, 267.6581726074219, 415.5303039550781, 232.89854431152344, 607.719970703125, 1298.2142333984375, 643.3724365234375, 641.7179565429688, 588.7838745117188, 475.6798095703125, 473.60595703125, 456.11334228515625, 393.9124450683594, 316.6998596191406, 305.3896179199219, 260.5508117675781, 245.14784240722656, 221.70803833007812, 206.28407287597656, 195.58306884765625, 192.4582977294922, 191.36978149414062, 188.99285888671875, 187.04476928710938, 142.8774871826172, 141.2763671875, 133.45188903808594, 130.7781982421875, 128.8791046142578, 126.0865249633789, 114.30132293701172, 104.42131042480469, 104.32225799560547, 102.2975845336914, 101.9908218383789, 139.9489288330078, 265.6282043457031, 187.37103271484375, 420.2557678222656, 538.121826171875, 701.0379638671875, 2865.31689453125, 582.3349609375, 959.6744384765625, 445.2765197753906, 2114.935302734375, 617.1331787109375, 794.1238403320312, 647.446533203125, 550.0341796875, 436.11810302734375, 342.2813720703125, 337.721923828125, 323.3669738769531, 284.7884521484375, 265.0871887207031, 227.0907745361328, 222.15225219726562, 219.88662719726562, 205.56820678710938, 204.38722229003906, 192.13693237304688, 181.00991821289062, 160.72525024414062, 159.11068725585938, 155.9078369140625, 154.8907928466797, 141.20896911621094, 131.32083129882812, 119.30780792236328, 117.79415130615234, 114.292236328125, 107.24979400634766, 106.61769104003906, 106.18170166015625, 93.99915313720703, 92.42762756347656, 218.2928009033203, 420.59722900390625, 493.1540832519531, 294.71307373046875, 437.3901672363281, 147.97833251953125, 1170.689453125, 265.3515930175781, 4556.3193359375, 325.1326904296875, 2394.931640625, 2695.986328125, 407.8007507324219, 291.5983581542969, 257.27239990234375, 243.41110229492188, 242.23561096191406, 225.70010375976562, 206.6688690185547, 166.0556640625, 165.4250946044922, 156.55491638183594, 156.43548583984375, 150.90589904785156, 148.7733612060547, 146.5261688232422, 145.27120971679688, 139.36810302734375, 138.30148315429688, 128.0850067138672, 126.35157775878906, 125.1001968383789, 118.89143371582031, 116.0242691040039, 113.85027313232422, 110.44163513183594, 105.49567413330078, 100.3986587524414, 96.45559692382812, 96.27426147460938, 95.04065704345703, 94.55570983886719, 164.7950897216797, 331.7822265625, 135.8961944580078, 892.0358276367188, 432.22509765625, 618.4629516601562, 774.8765869140625, 873.0086059570312, 933.2239990234375, 1002.8389282226562, 248.49349975585938, 579.7279663085938, 651.57421875, 421.2061767578125, 262.6474609375, 256.8326416015625, 251.0885772705078, 250.18495178222656, 233.244384765625, 219.1450653076172, 203.02685546875, 200.69715881347656, 191.32728576660156, 179.01783752441406, 175.23681640625, 167.947998046875, 158.63705444335938, 157.84341430664062, 143.19281005859375, 142.2253875732422, 133.77883911132812, 130.74392700195312, 130.72109985351562, 130.01341247558594, 116.74662017822266, 114.35552978515625, 113.26835632324219, 106.69242858886719, 105.2420654296875, 103.66081237792969, 97.67096710205078, 94.48048400878906, 87.8959732055664, 218.66860961914062, 365.851318359375, 498.6361083984375, 610.8732299804688, 424.71929931640625, 545.3538208007812, 321.39874267578125, 523.7499389648438, 599.3265380859375, 417.6817321777344, 1752.6290283203125, 1307.280517578125, 1107.56103515625, 293.9078063964844, 242.4150848388672, 214.88424682617188, 171.27540588378906, 169.48721313476562, 118.2128677368164, 117.53606414794922, 109.46805572509766, 100.06124114990234, 86.68943786621094, 84.32072448730469, 83.2853775024414, 81.62562561035156, 80.36485290527344, 76.9629898071289, 72.9471206665039, 72.8115463256836, 70.64827728271484, 69.39173889160156, 68.73401641845703, 67.9283676147461, 66.25473022460938, 66.12545776367188, 65.00992584228516, 64.0787124633789, 62.08782196044922, 61.86006546020508, 61.58849334716797, 68.13996887207031, 103.20503234863281, 97.69981384277344], \"loglift\": [30.0, 29.0, 28.0, 27.0, 26.0, 25.0, 24.0, 23.0, 22.0, 21.0, 20.0, 19.0, 18.0, 17.0, 16.0, 15.0, 14.0, 13.0, 12.0, 11.0, 10.0, 9.0, 8.0, 7.0, 6.0, 5.0, 4.0, 3.0, 2.0, 1.0, 1.2684999704360962, 1.2684999704360962, 1.2684999704360962, 1.2683000564575195, 1.2683000564575195, 1.2683000564575195, 1.2682000398635864, 1.2680000066757202, 1.2680000066757202, 1.267699956893921, 1.267699956893921, 1.2676000595092773, 1.2676000595092773, 1.2676000595092773, 1.2674000263214111, 1.267199993133545, 1.267199993133545, 1.267199993133545, 1.2669999599456787, 1.266700029373169, 1.2660000324249268, 1.2660000324249268, 1.2660000324249268, 1.2660000324249268, 1.2659000158309937, 1.2654999494552612, 1.2653000354766846, 1.2653000354766846, 1.2651000022888184, 1.2651000022888184, 1.257699966430664, 1.26419997215271, 1.2538000345230103, 1.2623000144958496, 1.2497999668121338, 1.256600022315979, 1.2553000450134277, 1.2523000240325928, 1.250499963760376, 1.23580002784729, 1.2509000301361084, 1.2533999681472778, 1.2177000045776367, 1.2359999418258667, 1.2139999866485596, 1.1757999658584595, 1.201300024986267, 1.197700023651123, 1.2450000047683716, 1.184499979019165, 1.2213000059127808, 1.1053999662399292, 1.1837999820709229, 1.1277999877929688, 1.1612000465393066, 0.9376999735832214, 1.0749000310897827, 0.8687000274658203, 1.1426000595092773, 0.9366999864578247, 1.123900055885315, 1.166700005531311, 0.7612000107765198, 0.7706999778747559, 1.031000018119812, 2.5483999252319336, 2.5471999645233154, 2.546999931335449, 2.5469000339508057, 2.546799898147583, 2.5467000007629395, 2.5460000038146973, 2.5460000038146973, 2.5459001064300537, 2.5459001064300537, 2.545799970626831, 2.545599937438965, 2.5455000400543213, 2.5453999042510986, 2.5453999042510986, 2.5453999042510986, 2.5453999042510986, 2.545300006866455, 2.545300006866455, 2.545099973678589, 2.5450000762939453, 2.5450000762939453, 2.5448999404907227, 2.544800043106079, 2.544800043106079, 2.5443999767303467, 2.5441999435424805, 2.544100046157837, 2.5439999103546143, 2.5439999103546143, 2.53439998626709, 2.4451000690460205, 2.5309998989105225, 2.5178000926971436, 2.5092999935150146, 2.481100082397461, 2.4291000366210938, 2.470900058746338, 2.4674999713897705, 2.3759000301361084, 2.296299934387207, 1.9774999618530273, 2.4061999320983887, 1.7584999799728394, 1.7474000453948975, 2.073899984359741, 2.0480000972747803, 2.007499933242798, 1.8734999895095825, 1.8222999572753906, 1.7305999994277954, 1.8660000562667847, 2.203900098800659, 1.9903000593185425, 1.6535999774932861, 1.1821999549865723, 1.5913000106811523, 1.4831000566482544, 1.4537999629974365, 1.3942999839782715, 1.1269999742507935, 0.3287000060081482, 0.3431999981403351, 1.7802000045776367, -0.0038999998942017555, 2.551500082015991, 2.551100015640259, 2.5508999824523926, 2.550800085067749, 2.5506999492645264, 2.5504000186920166, 2.549999952316284, 2.5499000549316406, 2.5497000217437744, 2.5494000911712646, 2.5494000911712646, 2.5494000911712646, 2.549299955368042, 2.5492000579833984, 2.549099922180176, 2.5483999252319336, 2.5478999614715576, 2.5476999282836914, 2.547300100326538, 2.547300100326538, 2.5471999645233154, 2.547100067138672, 2.546999931335449, 2.5469000339508057, 2.546799898147583, 2.5467000007629395, 2.546600103378296, 2.546600103378296, 2.546600103378296, 2.546600103378296, 2.545799970626831, 2.495500087738037, 2.5183000564575195, 2.5090999603271484, 2.513000011444092, 2.4988999366760254, 2.449199914932251, 2.455699920654297, 2.3757998943328857, 2.446500062942505, 2.4625000953674316, 2.363600015640259, 2.351099967956543, 2.2620999813079834, 2.317500114440918, 2.122299909591675, 2.211199998855591, 2.0313000679016113, 2.0999999046325684, 2.364500045776367, 2.3970999717712402, 1.5618000030517578, 2.0559000968933105, 1.5010000467300415, 1.909999966621399, 0.8119999766349792, 1.6615999937057495, 1.903499960899353, 1.819700002670288, 1.374400019645691, 0.3693000078201294, 1.0444999933242798, 1.5927000045776367, 0.8228999972343445, 2.8101999759674072, 2.8099000453948975, 2.809499979019165, 2.809299945831299, 2.809000015258789, 2.8083999156951904, 2.808199882507324, 2.808000087738037, 2.808000087738037, 2.807800054550171, 2.807800054550171, 2.8076000213623047, 2.8069000244140625, 2.8066999912261963, 2.8066000938415527, 2.80649995803833, 2.8064000606536865, 2.8060998916625977, 2.8059000968933105, 2.8057000637054443, 2.8057000637054443, 2.8057000637054443, 2.8053998947143555, 2.805299997329712, 2.8048999309539795, 2.8046000003814697, 2.80430006980896, 2.80430006980896, 2.803999900817871, 2.8039000034332275, 2.7934999465942383, 2.7973999977111816, 2.7685999870300293, 2.7239999771118164, 2.7523000240325928, 2.6886000633239746, 2.6328999996185303, 2.6017000675201416, 2.751800060272217, 2.6658999919891357, 2.4177000522613525, 2.600100040435791, 2.2702999114990234, 2.252700090408325, 2.4874000549316406, 2.351799964904785, 2.158799886703491, 2.449899911880493, 2.245699882507324, 2.404400110244751, 2.345400094985962, 1.0819000005722046, 1.9976999759674072, 0.8446999788284302, 0.7892000079154968, 1.0915000438690186, 1.8379000425338745, 1.2475999593734741, 2.8206000328063965, 2.819999933242798, 2.819700002670288, 2.8196001052856445, 2.8196001052856445, 2.8192999362945557, 2.8187999725341797, 2.818700075149536, 2.8185999393463135, 2.81850004196167, 2.8183999061584473, 2.8183000087738037, 2.8178000450134277, 2.817699909210205, 2.8176000118255615, 2.817500114440918, 2.817199945449829, 2.816800117492676, 2.816800117492676, 2.816800117492676, 2.816699981689453, 2.816699981689453, 2.816499948501587, 2.8164000511169434, 2.8164000511169434, 2.8164000511169434, 2.8162999153137207, 2.816200017929077, 2.816200017929077, 2.8160998821258545, 2.8024001121520996, 2.7894999980926514, 2.7836999893188477, 2.7393999099731445, 2.7755000591278076, 2.6417999267578125, 2.5048999786376953, 2.5041000843048096, 2.5485000610351562, 2.7095000743865967, 2.65939998626709, 2.261199951171875, 2.3778998851776123, 2.413300037384033, 2.518899917602539, 1.754699945449829, 2.0190999507904053, 2.1735000610351562, 2.264400005340576, 2.1296000480651855, 1.8905999660491943, 2.2600998878479004, 1.2525999546051025, 0.8101999759674072, 1.8396999835968018, -0.33250001072883606, 1.9773999452590942, 1.2208000421524048, -0.45730000734329224, 0.32850000262260437, 2.960400104522705, 2.959700107574463, 2.9595999717712402, 2.9590001106262207, 2.9588000774383545, 2.9584999084472656, 2.958400011062622, 2.9579999446868896, 2.957900047302246, 2.9576001167297363, 2.9576001167297363, 2.95740008354187, 2.9570999145507812, 2.9567999839782715, 2.9565999507904053, 2.9565999507904053, 2.9563000202178955, 2.9560999870300293, 2.9560999870300293, 2.9560000896453857, 2.955899953842163, 2.955899953842163, 2.955899953842163, 2.955899953842163, 2.9558000564575195, 2.9556000232696533, 2.9556000232696533, 2.955399990081787, 2.955399990081787, 2.9553000926971436, 2.9498000144958496, 2.875999927520752, 2.6393001079559326, 2.8443000316619873, 2.700700044631958, 2.613300085067749, 2.3447999954223633, 2.727400064468384, 2.4876999855041504, 2.599100112915039, 2.3963000774383545, 2.295099973678589, 2.7339000701904297, 1.7510000467300415, 0.9650999903678894, 0.7049000263214111, 1.681399941444397, 1.8985999822616577, 1.4007999897003174, 3.05430006980896, 3.0527000427246094, 3.0522000789642334, 3.0515999794006348, 3.051500082015991, 3.051300048828125, 3.0511999130249023, 3.0511999130249023, 3.051100015640259, 3.0506999492645264, 3.0506999492645264, 3.050600051879883, 3.050600051879883, 3.05049991607666, 3.0504000186920166, 3.0504000186920166, 3.050299882888794, 3.050299882888794, 3.050299882888794, 3.050100088119507, 3.0499000549316406, 3.0499000549316406, 3.049799919128418, 3.0495998859405518, 3.0495998859405518, 3.0495998859405518, 3.049499988555908, 3.0492000579833984, 3.0492000579833984, 3.049099922180176, 3.1131999492645264, 3.11299991607666, 3.112600088119507, 3.1124000549316406, 3.1122000217437744, 3.1122000217437744, 3.1120998859405518, 3.111999988555908, 3.111999988555908, 3.1119000911712646, 3.1119000911712646, 3.1115000247955322, 3.1113998889923096, 3.111299991607666, 3.1110000610351562, 3.1110000610351562, 3.1110000610351562, 3.1108999252319336, 3.1103999614715576, 3.1103999614715576, 3.1103999614715576, 3.1103999614715576, 3.110300064086914, 3.109999895095825, 3.1098999977111816, 3.1094000339508057, 3.109299898147583, 3.109100103378296, 3.1089999675750732, 3.108799934387207, 3.102799892425537, 3.0181000232696533, 2.952899932861328, 2.9932000637054443, 2.9482998847961426, 2.849299907684326, 2.5467000007629395, 2.7558999061584473, 2.5102999210357666, 2.724400043487549, 2.164900064468384, 1.6176999807357788, 2.0690999031066895, 1.1287000179290771, 1.358199954032898, -0.1324000060558319, 1.0520999431610107, -0.14059999585151672, 1.3418999910354614, 3.2904000282287598, 3.2899999618530273, 3.289799928665161, 3.289400100708008, 3.2888998985290527, 3.2888998985290527, 3.2887001037597656, 3.288599967956543, 3.2883999347686768, 3.288300037384033, 3.2880001068115234, 3.2878000736236572, 3.2878000736236572, 3.2876999378204346, 3.287600040435791, 3.2874999046325684, 3.2874999046325684, 3.2871999740600586, 3.2871999740600586, 3.2871999740600586, 3.287100076675415, 3.2869999408721924, 3.286900043487549, 3.286900043487549, 3.2864999771118164, 3.2860000133514404, 3.2860000133514404, 3.2857000827789307, 3.285599946975708, 3.285399913787842, 3.254699945449829, 3.1635000705718994, 3.2483999729156494, 3.1830999851226807, 3.165299892425537, 3.0292000770568848, 1.929800033569336, 3.059499979019165, 3.0862998962402344, 1.4263999462127686, 2.4066998958587646, 1.7094000577926636, 2.789599895477295, 2.80430006980896, 2.6187000274658203, 1.5813000202178955, 2.0685999393463135, 3.3104000091552734, 3.309000015258789, 3.3087000846862793, 3.3083999156951904, 3.308300018310547, 3.308199882507324, 3.3080999851226807, 3.308000087738037, 3.3078999519348145, 3.307499885559082, 3.307300090789795, 3.306999921798706, 3.3069000244140625, 3.3066000938415527, 3.30649995803833, 3.3062000274658203, 3.3060998916625977, 3.305799961090088, 3.3055999279022217, 3.305500030517578, 3.305500030517578, 3.3053998947143555, 3.3053998947143555, 3.305299997329712, 3.3052000999450684, 3.305000066757202, 3.3048999309539795, 3.304800033569336, 3.3046000003814697, 3.3043999671936035, 3.2706000804901123, 3.208400011062622, 2.815500020980835, 2.854300022125244, 2.9981000423431396, 2.477299928665161, 2.710200071334839, 2.2428998947143555, 2.2279000282287598, 2.7644999027252197, 1.485200047492981, 1.7803000211715698, 0.7667999863624573, 0.9144999980926514, 0.22859999537467957, 1.6450999975204468, 3.4642999172210693, 3.4632999897003174, 3.463099956512451, 3.463099956512451, 3.462899923324585, 3.462599992752075, 3.462399959564209, 3.461899995803833, 3.461699962615967, 3.4616000652313232, 3.4616000652313232, 3.4614999294281006, 3.461400032043457, 3.460700035095215, 3.460700035095215, 3.460599899291992, 3.460599899291992, 3.4598000049591064, 3.4598000049591064, 3.459399938583374, 3.4593000411987305, 3.4590001106262207, 3.4586000442504883, 3.4586000442504883, 3.457900047302246, 3.45770001411438, 3.45770001411438, 3.4572999477386475, 3.456899881362915, 3.456899881362915, 3.376499891281128, 3.3513998985290527, 2.784899950027466, 3.0404000282287598, 3.0336999893188477, 2.5797998905181885, 2.6256000995635986, 2.9154000282287598, 1.7520999908447266, 2.191999912261963, 2.1375999450683594, 2.1786000728607178, 1.9220000505447388, 1.138800024986267, 2.3749001026153564, 3.504699945449829, 3.504699945449829, 3.504300117492676, 3.5039000511169434, 3.5027999877929688, 3.502700090408325, 3.502500057220459, 3.5023000240325928, 3.501499891281128, 3.500999927520752, 3.5006000995635986, 3.5004000663757324, 3.500200033187866, 3.500200033187866, 3.5000998973846436, 3.4997000694274902, 3.4995999336242676, 3.4995999336242676, 3.499300003051758, 3.4990999698638916, 3.499000072479248, 3.498699903488159, 3.4986000061035156, 3.498300075531006, 3.497999906539917, 3.49780011177063, 3.49780011177063, 3.4976000785827637, 3.497499942779541, 3.4972000122070312, 3.404400110244751, 3.30430006980896, 3.2114999294281006, 3.0678000450134277, 2.9828999042510986, 1.6475000381469727, 2.751300096511841, 3.0708999633789062, 3.0253000259399414, 2.7100000381469727, 0.8822000026702881, 0.1145000010728836, 1.2582000494003296, 3.6626999378204346, 3.6619999408721924, 3.661400079727173, 3.6610000133514404, 3.660900115966797, 3.660900115966797, 3.6598000526428223, 3.6593000888824463, 3.6593000888824463, 3.6589999198913574, 3.6586999893188477, 3.657900094985962, 3.657399892807007, 3.656899929046631, 3.6568000316619873, 3.6566998958587646, 3.656599998474121, 3.656399965286255, 3.6563000679016113, 3.6559998989105225, 3.6559998989105225, 3.655900001525879, 3.655100107192993, 3.654099941253662, 3.6540000438690186, 3.6538000106811523, 3.6538000106811523, 3.6533000469207764, 3.6531999111175537, 3.6528000831604004, 3.5920000076293945, 3.4563000202178955, 3.3828999996185303, 3.423099994659424, 3.1240999698638916, 3.4475998878479004, 3.3828999996185303, 3.070499897003174, 2.8547000885009766, 3.062000036239624, 3.353600025177002, 2.598400115966797, 2.369999885559082, 3.401099920272827, 2.9361000061035156, 3.0064001083374023, 2.177999973297119, 0.9110000133514404, 3.718600034713745, 3.7184998989105225, 3.7181999683380127, 3.7181999683380127, 3.7179999351501465, 3.717900037765503, 3.7177999019622803, 3.7177000045776367, 3.7170000076293945, 3.7165000438690186, 3.7160000801086426, 3.71589994430542, 3.71560001373291, 3.7155001163482666, 3.7155001163482666, 3.7153000831604004, 3.7151999473571777, 3.7149999141693115, 3.7147998809814453, 3.714400053024292, 3.7142999172210693, 3.714099884033203, 3.713900089263916, 3.71370005607605, 3.713599920272827, 3.7135000228881836, 3.7132999897003174, 3.7130000591278076, 3.712899923324585, 3.712599992752075, 3.702899932861328, 3.65939998626709, 3.675299882888794, 3.246500015258789, 3.0933001041412354, 2.7272000312805176, 3.317500114440918, 3.468899965286255, 2.850100040435791, 2.5311999320983887, 3.7576000690460205, 3.7560999393463135, 3.7560999393463135, 3.75600004196167, 3.7553999423980713, 3.7553000450134277, 3.755199909210205, 3.755000114440918, 3.7548999786376953, 3.7548000812530518, 3.7548000812530518, 3.754499912261963, 3.7541000843048096, 3.7535998821258545, 3.7535998821258545, 3.753499984741211, 3.753499984741211, 3.753499984741211, 3.7532999515533447, 3.753000020980835, 3.7528998851776123, 3.7523999214172363, 3.75219988822937, 3.7516000270843506, 3.751300096511841, 3.751300096511841, 3.7511000633239746, 3.7509000301361084, 3.750499963760376, 3.7504000663757324, 3.7369000911712646, 3.689199924468994, 3.6314001083374023, 3.667799949645996, 3.6594998836517334, 3.627000093460083, 3.5829999446868896, 3.4386000633239746, 3.3756000995635986, 1.8015999794006348, 0.8037999868392944, 0.5659000277519226, 1.6246999502182007, 1.0986000299453735, 3.358099937438965, 2.9498000144958496, 3.455199956893921, 2.497999906539917, 3.8854000568389893, 3.8845999240875244, 3.8845999240875244, 3.884500026702881, 3.8840999603271484, 3.8840999603271484, 3.884000062942505, 3.8835999965667725, 3.882999897003174, 3.8828999996185303, 3.8822999000549316, 3.8821001052856445, 3.881700038909912, 3.8812999725341797, 3.88100004196167, 3.88100004196167, 3.8808999061584473, 3.8808999061584473, 3.8808000087738037, 3.8791000843048096, 3.8791000843048096, 3.8785998821258545, 3.878499984741211, 3.8784000873565674, 3.878200054168701, 3.8773999214172363, 3.876499891281128, 3.876499891281128, 3.876300096511841, 3.876300096511841, 3.8417999744415283, 3.710900068283081, 3.75219988822937, 3.2218000888824463, 2.9790000915527344, 2.6428000926971436, 1.3490999937057495, 2.655600070953369, 2.15339994430542, 2.7665998935699463, 1.24590003490448, 2.427299976348877, 3.9096999168395996, 3.90939998626709, 3.90910005569458, 3.908600091934204, 3.9079999923706055, 3.9079999923706055, 3.9077999591827393, 3.907399892807007, 3.9072000980377197, 3.9065001010894775, 3.906399965286255, 3.906399965286255, 3.906100034713745, 3.9059998989105225, 3.9056999683380127, 3.905400037765503, 3.9047000408172607, 3.904599905014038, 3.9045000076293945, 3.9045000076293945, 3.9038000106811523, 3.9033000469207764, 3.9024999141693115, 3.902400016784668, 3.9021999835968018, 3.901599884033203, 3.9014999866485596, 3.9014999866485596, 3.9003000259399414, 3.900099992752075, 3.8903000354766846, 3.816999912261963, 3.539400100708008, 3.632200002670288, 3.490999937057495, 3.795099973678589, 2.8896000385284424, 3.496799945831299, 1.2551000118255615, 3.1189000606536865, 1.2582999467849731, 1.1066999435424805, 4.033899784088135, 4.032899856567383, 4.032400131225586, 4.032199859619141, 4.032199859619141, 4.031899929046631, 4.031499862670898, 4.030300140380859, 4.030200004577637, 4.029900074005127, 4.029900074005127, 4.029699802398682, 4.029600143432617, 4.0295000076293945, 4.029399871826172, 4.029099941253662, 4.0289998054504395, 4.028500080108643, 4.02839994430542, 4.028299808502197, 4.027900218963623, 4.027599811553955, 4.027500152587891, 4.027200222015381, 4.026800155639648, 4.026299953460693, 4.025899887084961, 4.025899887084961, 4.025700092315674, 4.025700092315674, 3.9995999336242676, 3.7780001163482666, 3.9433999061584473, 3.4611001014709473, 3.6273999214172363, 3.432499885559082, 3.3268001079559326, 3.0499000549316406, 2.9363999366760254, 2.5922000408172607, 3.445499897003174, 2.618000030517578, 2.487799882888794, 4.035999774932861, 4.034599781036377, 4.0345001220703125, 4.03439998626709, 4.03439998626709, 4.03410005569458, 4.03380012512207, 4.033400058746338, 4.033400058746338, 4.033100128173828, 4.032800197601318, 4.032700061798096, 4.032400131225586, 4.032100200653076, 4.0320000648498535, 4.031400203704834, 4.031300067901611, 4.030900001525879, 4.030700206756592, 4.030700206756592, 4.030700206756592, 4.029799938201904, 4.029600143432617, 4.0295000076293945, 4.0289998054504395, 4.028900146484375, 4.02869987487793, 4.02810001373291, 4.0278000831604, 4.0269999504089355, 3.970599889755249, 3.8482000827789307, 3.7427000999450684, 3.640199899673462, 3.5304999351501465, 3.2156999111175537, 3.448199987411499, 3.031899929046631, 2.8645999431610107, 2.997299909591675, 1.4872000217437744, 4.156199932098389, 4.156099796295166, 4.153600215911865, 4.1528000831604, 4.152299880981445, 4.151100158691406, 4.151000022888184, 4.148399829864502, 4.148399829864502, 4.147799968719482, 4.146900177001953, 4.145299911499023, 4.144999980926514, 4.144800186157227, 4.144599914550781, 4.144400119781494, 4.143799781799316, 4.143099784851074, 4.143099784851074, 4.142600059509277, 4.142399787902832, 4.142199993133545, 4.142099857330322, 4.14169979095459, 4.141600131988525, 4.14139986038208, 4.14109992980957, 4.140600204467773, 4.140600204467773, 4.140500068664551, 4.134099960327148, 3.780400037765503, 3.753200054168701], \"logprob\": [30.0, 29.0, 28.0, 27.0, 26.0, 25.0, 24.0, 23.0, 22.0, 21.0, 20.0, 19.0, 18.0, 17.0, 16.0, 15.0, 14.0, 13.0, 12.0, 11.0, 10.0, 9.0, 8.0, 7.0, 6.0, 5.0, 4.0, 3.0, 2.0, 1.0, -3.34060001373291, -3.8984999656677246, -4.057400226593018, -4.851600170135498, -4.943399906158447, -3.805999994277954, -5.2982001304626465, -5.646900177001953, -5.65880012512207, -5.986000061035156, -6.036900043487549, -6.065800189971924, -6.093900203704834, -6.129199981689453, -4.06279993057251, -6.407400131225586, -6.428299903869629, -6.431399822235107, -6.570400238037109, -6.723400115966797, -7.053800106048584, -7.055099964141846, -7.067800045013428, -7.075900077819824, -7.1072998046875, -7.22629976272583, -7.310100078582764, -7.3119001388549805, -7.348100185394287, -7.3694000244140625, -3.7995998859405518, -5.103499889373779, -4.256899833679199, -5.290900230407715, -4.379499912261963, -5.2052998542785645, -5.760000228881836, -5.628900051116943, -5.4654998779296875, -4.735899925231934, -5.597499847412109, -5.89709997177124, -4.421000003814697, -5.314599990844727, -4.648499965667725, -4.398399829864502, -4.918600082397461, -4.934100151062012, -5.743599891662598, -4.970099925994873, -5.467700004577637, -4.236499786376953, -5.082900047302246, -4.6442999839782715, -5.01800012588501, -3.9377999305725098, -4.722300052642822, -3.91510009765625, -5.110300064086914, -4.54580020904541, -5.104800224304199, -5.202099800109863, -4.829599857330322, -4.883399963378906, -5.086900234222412, -4.389999866485596, -5.402500152587891, -5.551700115203857, -5.602200031280518, -5.634099960327148, -5.683000087738037, -5.9257001876831055, -5.947800159454346, -5.956099987030029, -5.973400115966797, -6.004899978637695, -6.044300079345703, -6.082600116729736, -6.102499961853027, -6.105199813842773, -6.107699871063232, -6.118599891662598, -6.1350998878479, -6.143499851226807, -6.191199779510498, -6.208499908447266, -6.21019983291626, -6.246099948883057, -6.261600017547607, -6.276700019836426, -6.347899913787842, -6.397799968719482, -6.420000076293945, -6.433499813079834, -6.445700168609619, -4.450699806213379, -3.974100112915039, -6.088500022888184, -5.906499862670898, -5.786399841308594, -5.588900089263916, -5.397500038146973, -5.735599994659424, -5.753600120544434, -5.372900009155273, -5.276899814605713, -4.581999778747559, -5.775700092315674, -4.541999816894531, -4.871500015258789, -5.429599761962891, -5.444300174713135, -5.402299880981445, -5.287099838256836, -5.335000038146973, -5.2779998779296875, -5.413899898529053, -5.712900161743164, -5.565199851989746, -5.356800079345703, -5.071400165557861, -5.371300220489502, -5.364500045776367, -5.379300117492676, -5.398499965667725, -5.4096999168396, -5.2621002197265625, -5.3109002113342285, -5.593299865722656, -5.578000068664551, -4.051700115203857, -4.678100109100342, -4.853000164031982, -4.962800025939941, -5.093900203704834, -5.269700050354004, -5.521500110626221, -5.566299915313721, -5.6269001960754395, -5.758399963378906, -5.774099826812744, -5.777599811553955, -5.798600196838379, -5.844200134277344, -5.8769001960754395, -6.083099842071533, -6.218999862670898, -6.2733001708984375, -6.356500148773193, -6.369100093841553, -6.394100189208984, -6.4039998054504395, -6.418499946594238, -6.439700126647949, -6.473999977111816, -6.496099948883057, -6.496500015258789, -6.501500129699707, -6.506899833679199, -6.510300159454346, -4.128600120544434, -4.123700141906738, -5.184100151062012, -4.92549991607666, -5.164999961853027, -4.885700225830078, -4.890200138092041, -5.190499782562256, -4.230899810791016, -5.122099876403809, -5.323599815368652, -4.806700229644775, -4.786399841308594, -4.1620001792907715, -5.0366997718811035, -4.7484002113342285, -5.096199989318848, -4.7754998207092285, -4.941100120544434, -5.467299938201904, -5.522299766540527, -4.31689977645874, -5.092599868774414, -4.519499778747559, -4.956999778747559, -3.9718000888824463, -4.8454999923706055, -5.013999938964844, -4.973100185394287, -4.768499851226807, -4.50629997253418, -4.8069000244140625, -4.992599964141846, -5.087500095367432, -3.3643999099731445, -4.066199779510498, -4.552599906921387, -4.743500232696533, -5.002900123596191, -5.328499794006348, -5.411499977111816, -5.4842000007629395, -5.498899936676025, -5.55679988861084, -5.570499897003174, -5.617199897766113, -5.842299938201904, -5.8917999267578125, -5.935400009155273, -5.9475998878479, -5.970300197601318, -6.0482001304626465, -6.089000225067139, -6.122200012207031, -6.135200023651123, -6.13539981842041, -6.198800086975098, -6.201099872589111, -6.286399841308594, -6.332900047302246, -6.392199993133545, -6.393199920654297, -6.434000015258789, -6.448200225830078, -3.850100040435791, -5.304100036621094, -4.9182000160217285, -5.078700065612793, -5.673099994659424, -4.971399784088135, -4.570099830627441, -4.5680999755859375, -5.776299953460693, -5.40339994430542, -4.5619001388549805, -5.327700138092041, -4.176000118255615, -4.197800159454346, -5.261199951171875, -5.022600173950195, -4.697500228881836, -5.262599945068359, -4.973199844360352, -5.271999835968018, -5.23360013961792, -4.400700092315674, -5.18720006942749, -4.8094000816345215, -4.801599979400635, -5.209199905395508, -5.338799953460693, -5.307799816131592, -4.062900066375732, -4.679800033569336, -4.955599784851074, -4.9781999588012695, -5.007999897003174, -5.190000057220459, -5.435299873352051, -5.445000171661377, -5.510700225830078, -5.533899784088135, -5.58519983291626, -5.60890007019043, -5.767499923706055, -5.80679988861084, -5.826000213623047, -5.850900173187256, -5.939799785614014, -6.022500038146973, -6.026899814605713, -6.038599967956543, -6.05620002746582, -6.062099933624268, -6.094099998474121, -6.113500118255615, -6.1209001541137695, -6.123600006103516, -6.1407999992370605, -6.156700134277344, -6.163000106811523, -6.18720006942749, -4.990900039672852, -5.734799861907959, -5.79040002822876, -5.6554999351501465, -5.899099826812744, -5.275899887084961, -4.670100212097168, -4.813499927520752, -5.018199920654297, -5.6458001136779785, -5.591800212860107, -4.790800094604492, -5.054999828338623, -5.206200122833252, -5.519000053405762, -4.498799800872803, -4.910299777984619, -5.191500186920166, -5.299200057983398, -5.1834001541137695, -5.044000148773193, -5.376699924468994, -4.996300220489502, -4.9868998527526855, -5.348700046539307, -5.116300106048584, -5.45959997177124, -5.401400089263916, -5.332900047302246, -5.443600177764893, -3.9839999675750732, -4.728099822998047, -4.812900066375732, -5.1605000495910645, -5.215099811553955, -5.367000102996826, -5.402299880981445, -5.551499843597412, -5.57919979095459, -5.647299766540527, -5.674600124359131, -5.707900047302246, -5.80620002746582, -5.864699840545654, -5.90910005569458, -5.911399841308594, -5.97790002822876, -6.012599945068359, -6.026500225067139, -6.03439998626709, -6.052299976348877, -6.052700042724609, -6.0640997886657715, -6.071000099182129, -6.084099769592285, -6.111199855804443, -6.1255998611450195, -6.149400234222412, -6.151199817657471, -6.165599822998047, -5.18310022354126, -4.988999843597412, -4.604899883270264, -5.652900218963623, -5.4268999099731445, -5.295300006866455, -4.831999778747559, -5.701399803161621, -5.32919979095459, -5.54580020904541, -5.277900218963623, -5.1605000495910645, -5.764999866485596, -5.14139986038208, -4.625699996948242, -4.777599811553955, -5.3892998695373535, -5.5441999435424805, -5.455399990081787, -0.6284999847412109, -4.884399890899658, -5.118199825286865, -5.393099784851074, -5.412099838256836, -5.4953999519348145, -5.503799915313721, -5.510000228881836, -5.53879976272583, -5.672500133514404, -5.675000190734863, -5.68209981918335, -5.685200214385986, -5.724800109863281, -5.734399795532227, -5.734600067138672, -5.756400108337402, -5.764200210571289, -5.778800010681152, -5.826099872589111, -5.860599994659424, -5.872300148010254, -5.8881001472473145, -5.920199871063232, -5.929500102996826, -5.936500072479248, -5.950900077819824, -6.010200023651123, -6.011600017547607, -6.030300140380859, -4.00029993057251, -4.241199970245361, -4.542500019073486, -4.669600009918213, -4.820300102233887, -4.836299896240234, -4.860899925231934, -4.8983001708984375, -4.918099880218506, -4.957099914550781, -4.990799903869629, -5.146999835968018, -5.179800033569336, -5.240099906921387, -5.32289981842041, -5.326099872589111, -5.351600170135498, -5.382599830627441, -5.507500171661377, -5.5142998695373535, -5.519700050354004, -5.522299766540527, -5.560500144958496, -5.631400108337402, -5.656799793243408, -5.7596001625061035, -5.788599967956543, -5.833399772644043, -5.8491997718811035, -5.889900207519531, -4.936800003051758, -4.311200141906738, -3.504300117492676, -5.284200191497803, -5.315400123596191, -5.08489990234375, -4.741399765014648, -5.11269998550415, -4.84499979019165, -5.0914998054504395, -4.702099800109863, -4.402900218963623, -4.855999946594238, -4.75, -4.9197001457214355, -4.916200160980225, -5.071800231933594, -5.01609992980957, -5.165200233459473, -3.8905999660491943, -4.283299922943115, -4.423900127410889, -4.7230000495910645, -4.932300090789795, -4.954899787902832, -5.034599781036377, -5.070899963378906, -5.117000102996826, -5.1585001945495605, -5.258800029754639, -5.3221001625061035, -5.324399948120117, -5.355199813842773, -5.3831000328063965, -5.394000053405762, -5.417699813842773, -5.472099781036377, -5.473999977111816, -5.474999904632568, -5.494800090789795, -5.525700092315674, -5.546599864959717, -5.558899879455566, -5.648799896240234, -5.732999801635742, -5.744200229644775, -5.801400184631348, -5.821599960327148, -5.842400074005127, -5.491199970245361, -4.846799850463867, -5.5233001708984375, -5.0524001121521, -4.978400230407715, -5.05649995803833, -4.159200191497803, -5.368800163269043, -5.407599925994873, -4.36269998550415, -5.026199817657471, -4.797599792480469, -5.312600135803223, -5.382500171661377, -5.396500110626221, -5.286600112915039, -5.363999843597412, -3.607800006866455, -4.739999771118164, -4.890999794006348, -5.002500057220459, -5.039700031280518, -5.0802998542785645, -5.124100208282471, -5.162099838256836, -5.190299987792969, -5.3242998123168945, -5.365799903869629, -5.455900192260742, -5.472700119018555, -5.544099807739258, -5.565000057220459, -5.62529993057251, -5.646699905395508, -5.700300216674805, -5.73859977722168, -5.755799770355225, -5.770899772644043, -5.775400161743164, -5.785099983215332, -5.79640007019043, -5.815000057220459, -5.857999801635742, -5.860599994659424, -5.878699779510498, -5.914000034332275, -5.940299987792969, -5.276400089263916, -5.486599922180176, -4.395400047302246, -4.782800197601318, -5.436200141906738, -4.93179988861084, -5.326099872589111, -5.103600025177002, -5.159999847412109, -5.472799777984619, -5.121500015258789, -5.404799938201904, -5.253699779510498, -5.383500099182129, -5.42549991607666, -5.537799835205078, -3.199199914932251, -4.299600124359131, -4.4253997802734375, -4.450900077819824, -4.561299800872803, -4.691999912261963, -4.792500019073486, -4.992199897766113, -5.0381999015808105, -5.067299842834473, -5.085100173950195, -5.1128997802734375, -5.150100231170654, -5.312399864196777, -5.315899848937988, -5.338699817657471, -5.3420000076293945, -5.513299942016602, -5.52839994430542, -5.601799964904785, -5.6128997802734375, -5.674699783325195, -5.730199813842773, -5.735400199890137, -5.841100215911865, -5.874000072479248, -5.8769001960754395, -5.932700157165527, -5.976399898529053, -5.9766998291015625, -5.179999828338623, -5.192699909210205, -4.372300148010254, -5.085299968719482, -5.085299968719482, -4.312600135803223, -4.662399768829346, -5.0346999168396, -4.268400192260742, -4.818399906158447, -4.787600040435791, -4.878600120544434, -4.884799957275391, -4.739799976348877, -5.215799808502197, -3.3262999057769775, -3.3357999324798584, -3.8884999752044678, -4.192999839782715, -4.773900032043457, -4.802999973297119, -4.895999908447266, -4.956600189208984, -5.193900108337402, -5.312399864196777, -5.408599853515625, -5.458499908447266, -5.485899925231934, -5.499800205230713, -5.515699863433838, -5.592199802398682, -5.6041998863220215, -5.611100196838379, -5.646399974822998, -5.689499855041504, -5.707399845123291, -5.754300117492676, -5.771299839019775, -5.806700229644775, -5.854700088500977, -5.878600120544434, -5.879199981689453, -5.906700134277344, -5.912700176239014, -5.9542999267578125, -4.801300048828125, -3.947700023651123, -5.2266998291015625, -4.942399978637695, -5.404699802398682, -4.441500186920166, -5.305200099945068, -5.543000221252441, -5.521399974822998, -5.3942999839782715, -5.415800094604492, -5.524199962615967, -5.609600067138672, -3.607800006866455, -4.207099914550781, -4.512800216674805, -4.671999931335449, -4.684800148010254, -4.714600086212158, -5.042200088500977, -5.153500080108643, -5.17110013961792, -5.226200103759766, -5.290800094604492, -5.451300144195557, -5.534599781036377, -5.6016998291015625, -5.618899822235107, -5.639500141143799, -5.652100086212158, -5.677000045776367, -5.68720006942749, -5.7281999588012695, -5.729499816894531, -5.7399001121521, -5.837800025939941, -5.952000141143799, -5.963500022888184, -5.982699871063232, -5.990300178527832, -6.033299922943115, -6.050000190734863, -6.083199977874756, -5.130499839782715, -5.129799842834473, -4.9207000732421875, -5.396399974822998, -4.723999977111816, -5.522200107574463, -5.406199932098389, -5.010900020599365, -4.898900032043457, -5.168300151824951, -5.440800189971924, -4.844399929046631, -4.874199867248535, -5.522600173950195, -5.298699855804443, -5.369800090789795, -5.4257001876831055, -5.5081000328063965, -4.5005998611450195, -4.564199924468994, -4.666299819946289, -4.685500144958496, -4.74429988861084, -4.757599830627441, -4.815999984741211, -4.836400032043457, -5.022600173950195, -5.1493000984191895, -5.2484002113342285, -5.270500183105469, -5.338900089263916, -5.3506999015808105, -5.355000019073486, -5.383500099182129, -5.410900115966797, -5.446199893951416, -5.473899841308594, -5.527500152587891, -5.546599864959717, -5.580900192260742, -5.610300064086914, -5.634200096130371, -5.6433000564575195, -5.666299819946289, -5.683599948883057, -5.733399868011475, -5.737299919128418, -5.781899929046631, -4.172800064086914, -4.444399833679199, -5.2779998779296875, -5.2617998123168945, -5.171299934387207, -5.126800060272217, -5.480100154876709, -5.571800231933594, -5.481299877166748, -5.543600082397461, -4.235799789428711, -4.819499969482422, -4.836699962615967, -4.857999801635742, -5.006999969482422, -5.032599925994873, -5.066500186920166, -5.106100082397461, -5.120699882507324, -5.149600028991699, -5.150899887084961, -5.211299896240234, -5.298299789428711, -5.38129997253418, -5.385000228881836, -5.395899772644043, -5.398099899291992, -5.400000095367432, -5.425899982452393, -5.483099937438965, -5.490799903869629, -5.573299884796143, -5.591100215911865, -5.676199913024902, -5.711900234222412, -5.712800025939941, -5.743599891662598, -5.758500099182129, -5.803999900817871, -5.818399906158447, -4.514400005340576, -4.7133002281188965, -4.5578999519348145, -5.0177998542785645, -5.011099815368652, -4.857600212097168, -5.020299911499023, -4.630099773406982, -4.688700199127197, -3.987499952316284, -4.071800231933594, -4.217899799346924, -4.653200149536133, -4.752799987792969, -5.327899932861328, -5.296299934387207, -5.369800090789795, -5.368000030517578, -3.2214999198913574, -3.924299955368042, -3.9268999099731445, -4.0131001472473145, -4.226900100708008, -4.231200218200684, -4.268899917602539, -4.415900230407715, -4.634799957275391, -4.671199798583984, -4.83050012588501, -4.89169979095459, -4.992700099945068, -5.065100193023682, -5.118599891662598, -5.134799957275391, -5.140500068664551, -5.15310001373291, -5.16349983215332, -5.434599876403809, -5.445899963378906, -5.503300189971924, -5.52370023727417, -5.538400173187256, -5.560500144958496, -5.6595001220703125, -5.750699996948242, -5.751699924468994, -5.771500110626221, -5.774499893188477, -5.492599964141846, -4.982600212097168, -5.29040002822876, -5.013000011444092, -5.008600234985352, -5.0802998542785645, -4.96619987487793, -5.252999782562256, -5.25570011138916, -5.410299777984619, -5.373000144958496, -5.423299789428711, -3.688800096511841, -3.893199920654297, -4.056600093841553, -4.289100170135498, -4.5320000648498535, -4.545499801635742, -4.589000225067139, -4.7164998054504395, -4.78849983215332, -4.94379997253418, -4.96589994430542, -4.976200103759766, -5.043799877166748, -5.049600124359131, -5.111700057983398, -5.1717000007629395, -5.291299819946289, -5.301400184631348, -5.321899890899658, -5.328499794006348, -5.421599864959717, -5.494699954986572, -5.591400146484375, -5.604300022125244, -5.634799957275391, -5.69890022277832, -5.704899787902832, -5.709000110626221, -5.832099914550781, -5.8491997718811035, -4.999599933624268, -4.416999816894531, -4.535399913787842, -4.957399845123291, -4.703800201416016, -5.48360013961792, -4.320700168609619, -5.197800159454346, -4.59630012512207, -5.372499942779541, -5.236199855804443, -5.269499778747559, -4.230999946594238, -4.567399978637695, -4.6930999755859375, -4.748700141906738, -4.753600120544434, -4.8246002197265625, -4.913099765777588, -5.1331000328063965, -5.136899948120117, -5.192399978637695, -5.1930999755859375, -5.229400157928467, -5.24370002746582, -5.258999824523926, -5.2677001953125, -5.309500217437744, -5.317200183868408, -5.394499778747559, -5.408299922943115, -5.418300151824951, -5.469600200653076, -5.494200229644775, -5.513299942016602, -5.544000148773193, -5.590199947357178, -5.640200138092041, -5.680699825286865, -5.682600021362305, -5.695700168609619, -5.700799942016602, -5.171299934387207, -4.69320011138916, -5.420300006866455, -4.021100044250488, -4.5792999267578125, -4.415900230407715, -4.29610013961792, -4.453800201416016, -4.5005998611450195, -4.772900104522705, -5.314700126647949, -5.295199871063232, -5.308499813079834, -4.196599960327148, -4.670300006866455, -4.692800045013428, -4.7154998779296875, -4.719099998474121, -4.7895002365112305, -4.852099895477295, -4.928899765014648, -4.940499782562256, -4.988500118255615, -5.0553998947143555, -5.076900005340576, -5.11959981918335, -5.177000045776367, -5.182000160217285, -5.280099868774414, -5.286900043487549, -5.348599910736084, -5.371699810028076, -5.3719000816345215, -5.377399921417236, -5.485899925231934, -5.506700038909912, -5.51639986038208, -5.576700210571289, -5.59060001373291, -5.605800151824951, -5.665999889373779, -5.69950008392334, -5.772500038146973, -4.917500019073486, -4.525199890136719, -4.321100234985352, -4.220600128173828, -4.693699836730957, -4.758500099182129, -5.054800033569336, -4.982800006866455, -5.0152997970581055, -5.243599891662598, -5.3196001052856445, -2.943700075149536, -3.109600067138672, -4.438799858093262, -4.632199764251709, -4.753300189971924, -4.981299877166748, -4.991799831390381, -5.354700088500977, -5.360499858856201, -5.432300090789795, -5.5229997634887695, -5.668000221252441, -5.696100234985352, -5.708600044250488, -5.729000091552734, -5.744699954986572, -5.78849983215332, -5.842899799346924, -5.844699859619141, -5.87529993057251, -5.893499851226807, -5.903200149536133, -5.915200233459473, -5.940499782562256, -5.942500114440918, -5.959799766540527, -5.974400043487549, -6.006499767303467, -6.010200023651123, -6.014699935913086, -5.920000076293945, -5.85860013961792, -5.9405999183654785]}, \"token.table\": {\"Topic\": [20, 5, 11, 9, 4, 13, 15, 1, 3, 8, 1, 2, 3, 2, 3, 5, 14, 18, 13, 10, 11, 7, 20, 2, 5, 6, 18, 14, 3, 1, 2, 3, 4, 5, 6, 8, 9, 10, 13, 1, 6, 11, 13, 19, 19, 4, 5, 10, 11, 15, 4, 17, 19, 1, 4, 11, 8, 3, 10, 1, 2, 6, 8, 9, 12, 19, 13, 19, 1, 4, 19, 2, 6, 6, 6, 13, 19, 1, 9, 17, 2, 16, 10, 11, 16, 6, 11, 13, 14, 6, 3, 16, 19, 5, 3, 10, 11, 5, 7, 1, 5, 6, 12, 15, 1, 12, 9, 18, 1, 2, 3, 4, 8, 9, 10, 13, 9, 1, 17, 16, 1, 4, 16, 18, 14, 1, 20, 20, 4, 17, 17, 1, 2, 15, 15, 16, 1, 3, 8, 11, 2, 2, 4, 5, 6, 11, 6, 13, 17, 8, 12, 15, 13, 16, 12, 9, 5, 8, 15, 9, 9, 13, 17, 9, 19, 15, 7, 19, 17, 6, 8, 8, 15, 5, 8, 8, 20, 8, 8, 5, 9, 12, 18, 6, 17, 6, 5, 8, 1, 2, 8, 11, 14, 16, 15, 14, 19, 6, 9, 10, 11, 13, 14, 15, 18, 15, 16, 14, 17, 9, 2, 4, 6, 13, 8, 11, 1, 12, 14, 5, 4, 4, 4, 16, 7, 6, 14, 14, 2, 6, 12, 6, 13, 1, 4, 6, 13, 7, 15, 11, 3, 6, 17, 19, 12, 3, 4, 3, 13, 15, 17, 1, 4, 6, 8, 10, 10, 13, 15, 16, 2, 3, 15, 3, 5, 8, 3, 9, 15, 4, 19, 2, 3, 8, 2, 7, 5, 8, 10, 17, 19, 4, 2, 3, 10, 13, 14, 8, 5, 4, 5, 2, 3, 19, 5, 18, 1, 5, 8, 10, 18, 1, 1, 2, 6, 10, 11, 18, 8, 15, 6, 11, 3, 7, 11, 16, 12, 20, 5, 13, 18, 19, 3, 8, 10, 11, 6, 18, 2, 6, 13, 16, 2, 11, 11, 2, 4, 4, 9, 19, 12, 12, 1, 3, 9, 10, 20, 3, 8, 6, 9, 7, 5, 6, 3, 3, 4, 13, 9, 5, 3, 5, 15, 9, 12, 17, 20, 20, 1, 8, 9, 2, 17, 17, 12, 4, 19, 5, 8, 3, 5, 8, 9, 11, 5, 7, 19, 12, 4, 10, 14, 7, 2, 20, 5, 19, 5, 10, 20, 12, 7, 18, 3, 11, 11, 10, 17, 10, 17, 1, 5, 2, 3, 10, 16, 7, 15, 3, 4, 15, 6, 15, 8, 6, 12, 1, 4, 6, 11, 1, 4, 6, 13, 16, 1, 4, 11, 4, 2, 1, 3, 4, 10, 4, 13, 15, 1, 4, 6, 14, 7, 10, 5, 4, 5, 9, 10, 1, 2, 2, 3, 20, 6, 11, 14, 4, 9, 10, 7, 3, 19, 20, 2, 4, 10, 12, 19, 6, 6, 1, 2, 3, 6, 9, 10, 12, 19, 4, 5, 15, 10, 1, 2, 3, 4, 8, 10, 12, 16, 14, 5, 1, 2, 6, 13, 18, 15, 19, 19, 15, 4, 9, 1, 2, 3, 4, 18, 11, 13, 14, 16, 18, 3, 10, 5, 12, 6, 18, 11, 1, 2, 3, 4, 6, 10, 11, 2, 8, 10, 9, 19, 1, 3, 5, 8, 6, 1, 2, 3, 4, 12, 13, 6, 4, 1, 6, 12, 1, 9, 4, 1, 4, 5, 9, 12, 2, 6, 11, 13, 6, 2, 5, 6, 6, 16, 2, 5, 10, 14, 1, 2, 3, 6, 16, 18, 1, 13, 6, 1, 3, 10, 1, 8, 12, 3, 16, 9, 18, 1, 5, 1, 3, 8, 3, 1, 2, 5, 8, 9, 10, 11, 14, 19, 3, 5, 6, 9, 10, 13, 12, 2, 15, 16, 1, 5, 6, 8, 9, 11, 17, 1, 3, 5, 8, 9, 14, 15, 17, 7, 2, 4, 13, 6, 12, 15, 1, 15, 3, 10, 2, 11, 2, 3, 4, 6, 8, 10, 12, 18, 19, 7, 15, 2, 2, 3, 8, 18, 3, 9, 10, 11, 19, 8, 14, 15, 9, 5, 3, 8, 17, 4, 1, 2, 13, 13, 16, 13, 13, 13, 2, 11, 18, 4, 6, 14, 9, 15, 4, 13, 13, 20, 20, 15, 9, 20, 8, 13, 11, 12, 6, 13, 1, 2, 4, 12, 16, 1, 3, 4, 6, 20, 1, 6, 13, 11, 19, 1, 2, 5, 10, 11, 1, 2, 6, 9, 12, 12, 1, 10, 2, 20, 2, 8, 1, 5, 6, 13, 13, 13, 13, 14, 15, 2, 16, 13, 19, 19, 1, 4, 6, 13, 4, 5, 1, 3, 5, 8, 9, 12, 14, 15, 17, 11, 15, 2, 3, 5, 10, 12, 1, 4, 6, 13, 7, 8, 4, 18, 1, 3, 5, 16, 1, 9, 1, 4, 5, 8, 9, 10, 14, 18, 10, 7, 8, 3, 8, 19, 3, 5, 18, 1, 2, 4, 5, 16, 1, 4, 6, 10, 13, 9, 15, 1, 2, 3, 4, 6, 11, 13, 14, 10, 2, 8, 1, 3, 4, 5, 9, 12, 14, 16, 11, 2, 14, 4, 20, 1, 2, 3, 4, 5, 9, 10, 11, 19, 1, 8, 20, 17, 1, 2, 4, 11, 20, 9, 2, 10, 18, 2, 13, 8, 1, 3, 11, 15, 17, 11, 9, 7, 14, 15, 18, 3, 17, 9, 20, 6, 17, 2, 19, 2, 16, 10, 20, 20, 3, 8, 17, 7, 1, 8, 1, 2, 6, 9, 17, 18, 10, 4, 13, 4, 8, 8, 5, 10, 9, 2, 5, 6, 12, 17, 3, 14, 20, 1, 5, 3, 6, 13, 18, 6, 13, 1, 2, 3, 4, 5, 20, 10, 2, 9, 11, 18, 19, 2, 4, 3, 1, 3, 5, 8, 11, 3, 10, 12, 1, 2, 3, 5, 8, 10, 11, 12, 18, 12, 14, 1, 3, 5, 8, 9, 12, 14, 15, 17, 1, 3, 5, 8, 9, 14, 15, 17, 8, 17, 1, 14, 11, 1, 2, 3, 6, 8, 11, 12, 3, 14, 16, 1, 13, 2, 3, 4, 5, 8, 16, 18, 14, 14, 1, 5, 6, 8, 16, 8, 10, 15, 16, 10, 1, 2, 3, 8, 10, 1, 3, 5, 8, 9, 12, 14, 15, 17, 16, 9, 17, 19, 10, 14, 15, 5, 6, 19, 17, 13, 14, 11, 9, 13, 1, 18, 3, 8, 13, 16, 11, 6, 6, 1, 2, 4, 6, 13, 8, 4, 6, 9, 1, 2, 4, 12, 16, 11, 17, 18, 5, 5, 6, 11, 12, 16, 7, 7, 9, 10, 9, 1, 9, 12, 9, 12, 12, 18, 1, 2, 4, 12, 16, 6, 11, 13, 1, 6, 8, 11, 1, 2, 1, 2, 5, 8, 10, 14, 4, 5, 8, 18, 18, 3, 3, 11, 1, 11, 16, 6, 1, 5, 10, 1, 3, 8, 15, 5, 16, 3, 10, 13, 10, 3, 11, 6, 11, 13, 1, 2, 3, 10, 11, 10, 2, 6, 11, 19, 1, 2, 3, 13, 5, 20, 16, 1, 8, 12, 11, 2, 16, 1, 1, 1, 4, 2, 3, 14, 18, 3, 4, 10, 14, 16, 20, 4, 4, 13, 13, 16, 7, 3, 18, 2, 6, 8, 9, 10, 1, 3, 9, 10, 14, 14, 14, 2, 4, 16, 19, 17, 17, 1, 2, 13, 11, 7, 15, 12, 15, 18, 12, 4, 17, 3, 19, 1, 2, 4, 1, 3, 5, 8, 9, 15, 6, 1, 12, 13, 10, 5, 1, 4, 6, 3, 5, 10, 1, 10, 16, 1, 10, 14, 9, 8, 5, 4, 8, 13, 8, 11, 3, 6, 19, 11, 11, 1, 4, 6, 1, 4, 1, 5, 8, 12, 18, 3, 1, 2, 3, 6, 10, 12, 19, 1, 4, 11, 17, 6, 3, 3, 5, 8, 9, 2, 5, 17, 2, 10, 15, 18, 1, 3, 4, 6, 8, 10, 11, 13, 2, 18, 18, 6, 9, 10, 2, 12, 14, 14, 12, 5, 8, 15, 19, 10, 20, 16, 7, 13, 15, 17, 18, 19, 20, 5, 1, 5, 6, 10, 9, 15, 8, 3, 8, 10, 13, 6, 13, 1, 1, 1, 4, 9, 11, 13, 14, 15, 18, 1, 3, 4, 6, 10, 16, 10, 18, 1, 2, 14, 19, 14, 5, 8, 16, 4, 16, 9, 16, 18, 19, 1, 3, 4, 8, 10, 11, 13, 10, 12, 9, 1, 2, 8, 13, 15, 10, 2, 18, 14, 16, 17, 12, 1, 5, 6, 8, 7, 2, 6, 17, 18, 8, 11, 14, 12, 1, 2, 3, 8, 10, 13, 1, 3, 10, 20, 16, 13, 1, 3, 8, 10, 11, 1, 5, 6, 6, 11, 11, 17, 7, 4, 9, 19, 4, 12, 1, 3, 8, 10, 15, 1, 6, 3, 6, 13, 5, 8, 9, 9, 3, 5, 8, 9, 15, 1, 11, 1, 4, 1, 4, 13, 6, 17, 5, 12, 12, 1, 3, 5, 6, 9, 10, 19, 4, 11, 18, 9, 15, 5, 10, 12, 15, 6, 6, 12, 19, 17, 19, 12, 17, 2, 16, 18, 1, 4, 8, 13, 11, 13, 4, 13, 1, 3, 14, 7, 9, 6, 6, 6, 1, 5, 8, 10, 14, 15, 7, 15, 7, 13, 15, 17, 18, 19, 20, 5, 9, 18, 4, 1, 3, 5, 7, 8, 9, 12, 14, 15, 3, 18, 8, 15, 1, 2, 3, 4, 5, 8, 10, 11, 14, 18, 3, 11, 15, 15, 14, 1, 4, 11, 3, 5, 11, 16, 6, 16, 12, 10, 3, 4, 8, 10, 7, 8, 6, 13, 6, 18, 8, 2, 1, 3, 6, 13, 11, 18, 5, 1, 4, 6, 2, 6, 7, 2, 5, 1, 5, 9, 16, 14, 9, 3, 15, 12, 9, 5, 6, 13, 6, 16, 1, 3, 4, 16, 1, 3, 5, 6, 8, 10, 14, 4, 5, 1, 1, 3, 15, 16, 14, 20, 1, 2, 6, 9, 10, 12, 4, 6, 9, 13, 3, 17], \"Freq\": [0.9990204572677612, 0.9567269086837769, 0.0406331904232502, 0.996232807636261, 0.6972329020500183, 0.20183058083057404, 0.09879818558692932, 0.05406735837459564, 0.8285027742385864, 0.11449558287858963, 0.9991018176078796, 0.2880353033542633, 0.7116166353225708, 0.022001611068844795, 0.8996214270591736, 0.0476701594889164, 0.028113169595599174, 0.9912054538726807, 0.9880794286727905, 0.10373649001121521, 0.8914854526519775, 0.9932751059532166, 0.9830167889595032, 0.9952805638313293, 0.10850490629673004, 0.1145329549908638, 0.7715904712677002, 0.9944450855255127, 0.9983450770378113, 0.5391599535942078, 0.062157042324543, 0.17739200592041016, 0.0758921205997467, 0.0372476652264595, 0.009079118259251118, 0.04516279324889183, 0.0020951812621206045, 0.050749942660331726, 0.0009311916073784232, 0.22488199174404144, 0.5141718983650208, 0.1801239252090454, 0.06331628561019897, 0.016374902799725533, 0.9936252236366272, 0.06772671639919281, 0.851421594619751, 0.05079503729939461, 0.029025735333561897, 0.9961104393005371, 0.9958859086036682, 0.9958987236022949, 0.9931303262710571, 0.9825950860977173, 0.01724894531071186, 0.9905460476875305, 0.9965911507606506, 0.9612778425216675, 0.036814894527196884, 0.2891233563423157, 0.7080925107002258, 0.2652977705001831, 0.013348315842449665, 0.3704157769680023, 0.04004494845867157, 0.30867981910705566, 0.9969462752342224, 0.9930627346038818, 0.03989427164196968, 0.9588382244110107, 0.9943100214004517, 0.2014087438583374, 0.7963391542434692, 0.9939947724342346, 0.9983136653900146, 0.9939407110214233, 0.9967580437660217, 0.9988876581192017, 0.00013033502909820527, 0.0009123451891355217, 0.9610011577606201, 0.03540530428290367, 0.9936472773551941, 0.9958364963531494, 0.9988812208175659, 0.3500271141529083, 0.2029569000005722, 0.4456227421760559, 0.9960507154464722, 0.992927074432373, 0.22132264077663422, 0.17423272132873535, 0.6027510166168213, 0.9946367144584656, 0.8280753493309021, 0.15346886217594147, 0.017234472557902336, 0.9970096945762634, 0.9999707937240601, 0.7538290023803711, 0.20162197947502136, 0.015180950053036213, 0.02893868461251259, 0.9884341955184937, 0.9840009808540344, 0.015365412458777428, 0.9966039657592773, 0.9908238053321838, 0.1562425196170807, 0.1637222170829773, 0.18034376204013824, 0.1712019145488739, 0.050695713609457016, 0.07064156979322433, 0.18865454196929932, 0.017452621832489967, 0.9971553683280945, 0.9998204112052917, 0.9932581186294556, 0.9978668093681335, 0.4271564781665802, 0.5726054906845093, 0.9924227595329285, 0.9967635869979858, 0.9910494685173035, 0.9986124634742737, 0.9844650626182556, 0.9810620546340942, 0.9986168146133423, 0.9977657794952393, 0.98455411195755, 0.06457394361495972, 0.9343042373657227, 0.9896860718727112, 0.997050404548645, 0.9913827180862427, 0.15478436648845673, 0.2273596078157425, 0.3519578278064728, 0.26525288820266724, 0.996158242225647, 0.9967064261436462, 0.9959897994995117, 0.2988186180591583, 0.048743460327386856, 0.6506192684173584, 0.22746364772319794, 0.7676897644996643, 0.9883468747138977, 0.9989506006240845, 0.12219342589378357, 0.8767378330230713, 0.9967838525772095, 0.9990646839141846, 0.9923600554466248, 0.997134804725647, 0.8352930545806885, 0.076250821352005, 0.08664865791797638, 0.9948379397392273, 0.8976491093635559, 0.10000334680080414, 0.9893706440925598, 0.9959389567375183, 0.9946649074554443, 0.991693377494812, 0.9926427602767944, 0.9916698932647705, 0.9930194020271301, 0.11173872649669647, 0.886460542678833, 0.9947496056556702, 0.9939202666282654, 0.7288784980773926, 0.2704436182975769, 0.9951604604721069, 0.9925534725189209, 0.9963324666023254, 0.9975371360778809, 0.1858675181865692, 0.13992273807525635, 0.4510941803455353, 0.2192818969488144, 0.9969218969345093, 0.997235894203186, 0.9929865002632141, 0.9992033243179321, 0.9994311928749084, 0.39655792713165283, 0.5645380616188049, 0.02762538380920887, 0.01069369725883007, 0.9937894940376282, 0.9970188140869141, 0.9915846586227417, 0.9972877502441406, 0.9922053217887878, 0.14282222092151642, 0.22749538719654083, 0.33869269490242004, 0.037745874375104904, 0.14486253261566162, 0.025503968819975853, 0.08161269873380661, 0.9964554309844971, 0.9970535039901733, 0.9976836442947388, 0.9959361553192139, 0.9886935949325562, 0.9982081055641174, 0.02478036843240261, 0.3783136308193207, 0.5402120351791382, 0.05616883561015129, 0.5668845176696777, 0.43208786845207214, 0.9974244832992554, 0.01661636494100094, 0.9820271730422974, 0.9947652816772461, 0.9979845881462097, 0.9991883635520935, 0.9984264373779297, 0.9986686706542969, 0.9943749904632568, 0.03904881328344345, 0.9566959142684937, 0.997373104095459, 0.3341536223888397, 0.5691478252410889, 0.09508436173200607, 0.18857137858867645, 0.8039095997810364, 0.21907050907611847, 0.6748456954956055, 0.030520658940076828, 0.07460605353116989, 0.9941574931144714, 0.9978377223014832, 0.9970360994338989, 0.9967163801193237, 0.33540406823158264, 0.6595023274421692, 0.9881463646888733, 0.9963976740837097, 0.9993292093276978, 0.9976919889450073, 0.5364360213279724, 0.0828571543097496, 0.01964654214680195, 0.36047133803367615, 0.7884384989738464, 0.11373913288116455, 0.07706757634878159, 0.020341254770755768, 0.9958282709121704, 0.037361085414886475, 0.0709860622882843, 0.6687634587287903, 0.21669429540634155, 0.9987316727638245, 0.992830753326416, 0.9924355745315552, 0.5259518027305603, 0.08604280650615692, 0.38719263672828674, 0.17001068592071533, 0.510032057762146, 0.31709858775138855, 0.9989006519317627, 0.9929420351982117, 0.9968394637107849, 0.1494171917438507, 0.8475138545036316, 0.9951443076133728, 0.9936217069625854, 0.3799523115158081, 0.04582339525222778, 0.20429596304893494, 0.001909308135509491, 0.3646778464317322, 0.9944801926612854, 0.6058647036552429, 0.12230540066957474, 0.06794744729995728, 0.08040447533130646, 0.12230540066957474, 0.9969875812530518, 0.9955910444259644, 0.9975168704986572, 0.9972306489944458, 0.05083983764052391, 0.9486714005470276, 0.9936047792434692, 0.9979374408721924, 0.9867642521858215, 0.03894577920436859, 0.24742023646831512, 0.11111001670360565, 0.2290928214788437, 0.3734212815761566, 0.9998568892478943, 0.15037278831005096, 0.043656617403030396, 0.1552235186100006, 0.050124265253543854, 0.053358085453510284, 0.5465161800384521, 0.99815434217453, 0.9970741271972656, 0.7915892601013184, 0.20511984825134277, 0.9965824484825134, 0.9972926378250122, 0.03572731837630272, 0.9574921727180481, 0.9911490678787231, 0.9958850145339966, 0.9966810941696167, 0.030340710654854774, 0.9648345708847046, 0.9943143129348755, 0.3504441976547241, 0.15466532111167908, 0.34359195828437805, 0.15074974298477173, 0.9953528046607971, 0.984909176826477, 0.22955350577831268, 0.3459468185901642, 0.34486910700798035, 0.07975098490715027, 0.9945514798164368, 0.989495575428009, 0.9933363199234009, 0.9978412389755249, 0.9933055639266968, 0.11729934811592102, 0.8819172978401184, 0.9947748780250549, 0.9972954988479614, 0.9940658807754517, 0.0644022524356842, 0.31962600350379944, 0.03577902913093567, 0.5796203017234802, 0.9908238649368286, 0.00978673342615366, 0.9884600639343262, 0.9960481524467468, 0.9968384504318237, 0.9965305924415588, 0.9215469360351562, 0.07539929449558258, 0.9977557063102722, 0.25606808066368103, 0.7243068814277649, 0.019022200256586075, 0.9973300099372864, 0.997680127620697, 0.9980612397193909, 0.3170259892940521, 0.6822078227996826, 0.33072665333747864, 0.6462474465370178, 0.02090800553560257, 0.9923354387283325, 0.9969112277030945, 0.9996462464332581, 0.00020180604769848287, 0.9971500635147095, 0.9978233575820923, 0.9972314238548279, 0.9948132038116455, 0.9972659349441528, 0.9918009042739868, 0.996526300907135, 0.14841783046722412, 0.8510897755622864, 0.039449676871299744, 0.050995927304029465, 0.9083048105239868, 0.8801538944244385, 0.11786077916622162, 0.9973666667938232, 0.9974552392959595, 0.9949422478675842, 0.9914315938949585, 0.36514952778816223, 0.633449375629425, 0.9976857900619507, 0.9979293942451477, 0.9972215294837952, 0.9860966205596924, 0.1694677472114563, 0.8282052874565125, 0.9977533221244812, 0.9925444722175598, 0.9941625595092773, 0.9933167099952698, 0.9974442720413208, 0.9890503883361816, 0.9993303418159485, 0.9977949261665344, 0.997882068157196, 0.9951679110527039, 0.9899419546127319, 0.08797014504671097, 0.9106099009513855, 0.9847942590713501, 0.014482269063591957, 0.9942408204078674, 0.9984026551246643, 0.9591366648674011, 0.0357644185423851, 0.9936192035675049, 0.9874391555786133, 0.5857961177825928, 0.12999407947063446, 0.2830250859260559, 0.9928233027458191, 0.9911661148071289, 0.9982450008392334, 0.3476380407810211, 0.6466067433357239, 0.9186083674430847, 0.05219743773341179, 0.027262356132268906, 0.0016623387346044183, 0.41254597902297974, 0.06504103541374207, 0.08919913321733475, 0.02787472866475582, 0.4032544195652008, 0.9988033175468445, 0.9833890199661255, 0.01647867262363434, 0.994083046913147, 0.9966228604316711, 0.05167832225561142, 0.09187257289886475, 0.811267614364624, 0.04511599615216255, 0.987080454826355, 0.010412241332232952, 0.9950554966926575, 0.291340172290802, 0.6657258868217468, 0.04084207862615585, 0.9954593181610107, 0.9980883598327637, 0.9942818284034729, 0.9968249201774597, 0.999147891998291, 0.9968864917755127, 0.998148500919342, 0.9978551864624023, 0.9765358567237854, 0.022582819685339928, 0.9977689385414124, 0.9981946349143982, 0.9874876141548157, 0.9980173707008362, 0.21840669214725494, 0.7777408957481384, 0.12487394362688065, 0.325842946767807, 0.5482746362686157, 0.9941774606704712, 0.9940909147262573, 0.005497737787663937, 0.9920470118522644, 0.26890134811401367, 0.024949610233306885, 0.04712704196572304, 0.5932462811470032, 0.06376011669635773, 0.9981277585029602, 0.9986451268196106, 0.6394582390785217, 0.08850870281457901, 0.00583196897059679, 0.07890310883522034, 0.017838964238762856, 0.09091010689735413, 0.07272808253765106, 0.00583196897059679, 0.10200457274913788, 0.893882155418396, 0.9970061779022217, 0.9939953684806824, 0.9971611499786377, 0.3446948528289795, 0.32567721605300903, 0.26802995800971985, 0.020206250250339508, 0.017234742641448975, 0.02377205900847912, 0.9968064427375793, 0.9977811574935913, 0.9949027895927429, 0.05949631333351135, 0.47976815700531006, 0.22026294469833374, 0.22659234702587128, 0.013924669474363327, 0.879865825176239, 0.1182248666882515, 0.9959841966629028, 0.9957903623580933, 0.03173412010073662, 0.9639238715171814, 0.08648166060447693, 0.463581919670105, 0.20916494727134705, 0.13273929059505463, 0.10759927332401276, 0.26233547925949097, 0.7328737378120422, 0.9895681142807007, 0.08094413578510284, 0.9124611616134644, 0.9973836541175842, 0.9932140111923218, 0.995387077331543, 0.9996828436851501, 0.9952414035797119, 0.9950542449951172, 0.9950037002563477, 0.045842066407203674, 0.5718194246292114, 0.12787523865699768, 0.10616057366132736, 0.03739747405052185, 0.07600131630897522, 0.033778365701436996, 0.995339035987854, 0.09425342828035355, 0.9010627865791321, 0.9949254393577576, 0.9843302369117737, 0.8494543433189392, 0.07647989690303802, 0.04377815127372742, 0.03006451204419136, 0.997199535369873, 0.8814482688903809, 0.02033102512359619, 0.031808216124773026, 0.045252926647663116, 0.004918796010315418, 0.015412228181958199, 0.9965605735778809, 0.9969676733016968, 0.9504624009132385, 0.015790769830346107, 0.03371063247323036, 0.39180055260658264, 0.6064572334289551, 0.999747633934021, 0.823821485042572, 0.008315129205584526, 0.1338735818862915, 0.023490240797400475, 0.010186033323407173, 0.21692027151584625, 0.29834306240081787, 0.4127078950405121, 0.07209957391023636, 0.9969397187232971, 0.9988395571708679, 0.997921347618103, 0.9954379796981812, 0.9189951419830322, 0.08055592328310013, 0.20348598062992096, 0.14709830284118652, 0.11277536302804947, 0.5344571471214294, 0.31679457426071167, 0.448713481426239, 0.16217990219593048, 0.00047282769810408354, 0.07139698415994644, 0.9948017597198486, 0.9979881048202515, 0.9859417080879211, 0.9991812109947205, 0.9974401593208313, 0.9668076634407043, 0.03213378041982651, 0.995622456073761, 0.004045750480145216, 0.9928898215293884, 0.994162380695343, 0.9954496622085571, 0.9961968064308167, 0.9941229224205017, 0.9996733069419861, 0.9966210722923279, 0.5651049613952637, 0.3831374943256378, 0.05120692029595375, 0.9973040223121643, 0.08168870955705643, 0.1504109650850296, 0.39418044686317444, 0.14522437751293182, 0.03954770788550377, 0.09854511171579361, 0.0058349077589809895, 0.08428200334310532, 0.9935100674629211, 0.9935022592544556, 0.1947391927242279, 0.03279818221926689, 0.7687073349952698, 0.995441734790802, 0.9927148818969727, 0.9991264939308167, 0.09198139607906342, 0.9050968885421753, 0.9944143295288086, 0.30723685026168823, 0.2005573809146881, 0.17068713903427124, 0.025603070855140686, 0.2944353222846985, 0.9957512617111206, 0.995487630367279, 0.5162061452865601, 0.22145067155361176, 0.01711908169090748, 0.05157671868801117, 0.02611757256090641, 0.02721494995057583, 0.06979317963123322, 0.07023213058710098, 0.9966850280761719, 0.1225370243191719, 0.8104948997497559, 0.06476956605911255, 0.9950743317604065, 0.9947893023490906, 0.9919888973236084, 0.9994027018547058, 0.9970663785934448, 0.7911211848258972, 0.2081378698348999, 0.9959782958030701, 0.995681643486023, 0.3150845766067505, 0.48106664419174194, 0.010127718560397625, 0.0050638592801988125, 0.036009665578603745, 0.07314463704824448, 0.011253020726144314, 0.016879530623555183, 0.05120124667882919, 0.9949321746826172, 0.992875874042511, 0.998018205165863, 0.9953286051750183, 0.9019069075584412, 0.07580683380365372, 0.020409531891345978, 0.5939648151397705, 0.04393399879336357, 0.06960970908403397, 0.21396426856517792, 0.07816828042268753, 0.05844450369477272, 0.9392866492271423, 0.9981430172920227, 0.9977781176567078, 0.9961825013160706, 0.9941756725311279, 0.995974600315094, 0.9985848069190979, 0.9957140684127808, 0.13088981807231903, 0.8665808439254761, 0.9971375465393066, 0.785615086555481, 0.20921272039413452, 0.9953784942626953, 0.9987752437591553, 0.9986263513565063, 0.98532634973526, 0.01363773550838232, 0.9980364441871643, 0.22976811230182648, 0.0960848480463028, 0.6684163212776184, 0.9963043332099915, 0.9972087144851685, 0.9973151683807373, 0.9987905025482178, 0.996987521648407, 0.9893209338188171, 0.9904447793960571, 0.9960076212882996, 0.9938839673995972, 0.982979953289032, 0.9979148507118225, 0.9925661683082581, 0.9996822476387024, 0.9956483244895935, 0.7245962619781494, 0.27393272519111633, 0.9989563822746277, 0.02925381436944008, 0.2762860357761383, 0.6175805330276489, 0.07150932401418686, 0.9853692054748535, 0.0124888364225626, 0.0020294359419494867, 0.9963486194610596, 0.9832701683044434, 0.9970949292182922, 0.4796364903450012, 0.5180073976516724, 0.05945068970322609, 0.9329185485839844, 0.12778650224208832, 0.20161870121955872, 0.5007337927818298, 0.1590232104063034, 0.010412233881652355, 0.6016250848770142, 0.018194306641817093, 0.09339743852615356, 0.18073011934757233, 0.10552697628736496, 0.9943955540657043, 0.9952377080917358, 0.9962683320045471, 0.9996150732040405, 0.9843369126319885, 0.9823122620582581, 0.01398309227079153, 0.42117488384246826, 0.37437766790390015, 0.12117134034633636, 0.08273077756166458, 0.9974864721298218, 0.9950791597366333, 0.9936405420303345, 0.9944954514503479, 0.9908655881881714, 0.9957459568977356, 0.9937752485275269, 0.9922469854354858, 0.9971363544464111, 0.9888021945953369, 0.3084213137626648, 0.5685979723930359, 0.08787422627210617, 0.03446048125624657, 0.016833161935210228, 0.980914294719696, 0.6704069972038269, 0.17552529275417328, 0.04271165654063225, 0.03893854469060898, 0.011696655303239822, 0.010338334366679192, 0.007319842465221882, 0.04105148836970329, 0.0020374818705022335, 0.2576228976249695, 0.738519012928009, 0.28827330470085144, 0.6086662411689758, 0.0008029896998777986, 0.011241856031119823, 0.08993484824895859, 0.4575958549976349, 0.17754125595092773, 0.27782607078552246, 0.08542779833078384, 0.9977859258651733, 0.9960595965385437, 0.996951699256897, 0.9915289878845215, 0.63950514793396, 0.15154768526554108, 0.20837807655334473, 0.9977901577949524, 0.5858495831489563, 0.41297590732574463, 0.3705076575279236, 0.6286279559135437, 0.5727922320365906, 0.07175104320049286, 0.06931880861520767, 0.0972895547747612, 0.11066687107086182, 0.07783164083957672, 0.9966208934783936, 0.9961472749710083, 0.9992033839225769, 0.45224881172180176, 0.5470433235168457, 0.9881980419158936, 0.944976806640625, 0.032161373645067215, 0.022229183465242386, 0.9113341569900513, 0.07784347236156464, 0.005322630517184734, 0.005322630517184734, 0.9928421974182129, 0.17205815017223358, 0.5209705233573914, 0.2098270207643509, 0.022781219333410263, 0.07313970476388931, 0.158229798078537, 0.8393058180809021, 0.602652907371521, 0.157886803150177, 0.03371003642678261, 0.17921356856822968, 0.01547909900546074, 0.002063879743218422, 0.008943479508161545, 0.9936701059341431, 0.9965810775756836, 0.9978465437889099, 0.9957156181335449, 0.24077069759368896, 0.04579877480864525, 0.03402194753289223, 0.570521891117096, 0.017010973766446114, 0.06280975043773651, 0.017010973766446114, 0.010468291118741035, 0.9978426694869995, 0.9984835386276245, 0.9959772825241089, 0.9928025603294373, 0.999493420124054, 0.6077402234077454, 0.11008872091770172, 0.05711640790104866, 0.13999825716018677, 0.0007207117741927505, 0.002162135438993573, 0.04576519876718521, 0.02342313341796398, 0.01261245645582676, 0.9986918568611145, 0.9980413913726807, 0.9845665693283081, 0.9974362254142761, 0.6611548066139221, 0.1233564019203186, 0.20943965017795563, 0.005768464878201485, 0.9831658005714417, 0.9959295988082886, 0.969269871711731, 0.028761716559529305, 0.9964090585708618, 0.887484073638916, 0.11073776334524155, 0.9986280202865601, 0.28509989380836487, 0.3979671895503998, 0.27630501985549927, 0.04030975326895714, 0.9942489266395569, 0.9941955208778381, 0.9979936480522156, 0.9967393279075623, 0.019352830946445465, 0.9773179292678833, 0.9948991537094116, 0.9927603602409363, 0.9888709187507629, 0.997117817401886, 0.9799437522888184, 0.2409122884273529, 0.7566681504249573, 0.9965478181838989, 0.9941781759262085, 0.9979690313339233, 0.9947465658187866, 0.9971903562545776, 0.9865891933441162, 0.9897399544715881, 0.23077857494354248, 0.7680875062942505, 0.9944206476211548, 0.9967337250709534, 0.998615562915802, 0.9986955523490906, 0.5312836766242981, 0.01552452240139246, 0.10522176325321198, 0.09314713627099991, 0.013799576088786125, 0.24149256944656372, 0.996163547039032, 0.944406270980835, 0.05423954874277115, 0.9907203912734985, 0.9963361024856567, 0.9980199337005615, 0.9965912103652954, 0.9970390796661377, 0.9964006543159485, 0.14146634936332703, 0.6648918390274048, 0.0848798081278801, 0.1080288514494896, 0.9942064881324768, 0.9961435794830322, 0.9970274567604065, 0.9893940687179565, 0.9032609462738037, 0.09647548198699951, 0.9928714036941528, 0.4500691890716553, 0.5471893548965454, 0.9901835322380066, 0.18257588148117065, 0.8114483952522278, 0.24835266172885895, 0.33445605635643005, 0.12476207315921783, 0.2647533118724823, 0.02694392204284668, 0.9912252426147461, 0.9970331788063049, 0.7772158980369568, 0.1252385824918747, 0.07735323905944824, 0.009822634048759937, 0.011050463654100895, 0.054700590670108795, 0.9443049430847168, 0.9963648319244385, 0.5346415638923645, 0.30815330147743225, 0.031432222574949265, 0.11104093492031097, 0.01468795444816351, 0.9146063327789307, 0.03798199072480202, 0.04557839035987854, 0.10466928035020828, 0.2549467980861664, 0.1479807049036026, 0.34419459104537964, 0.07251382619142532, 0.006562337279319763, 0.03510850667953491, 0.0009843505686149001, 0.03346792235970497, 0.9975240230560303, 0.9888303279876709, 0.6075698733329773, 0.16172188520431519, 0.014465948566794395, 0.01520779263228178, 0.008160279132425785, 0.01520779263228178, 0.05489642173051834, 0.06231485679745674, 0.06046024709939957, 0.5962591767311096, 0.1807984858751297, 0.0008350969292223454, 0.05762168765068054, 0.025888003408908844, 0.008768517524003983, 0.05929188057780266, 0.07056568562984467, 0.10136619210243225, 0.8920224905014038, 0.9999435544013977, 0.9984591007232666, 0.9940650463104248, 0.322744756937027, 0.24129635095596313, 0.31446924805641174, 0.0365864522755146, 0.06097741797566414, 0.01567990705370903, 0.007839953526854515, 0.4403124451637268, 0.4193452000617981, 0.13890808820724487, 0.9986452460289001, 0.9940412640571594, 0.08441095054149628, 0.5003267526626587, 0.015347445383667946, 0.1550091952085495, 0.018416935577988625, 0.012277957051992416, 0.21179474890232086, 0.9967098832130432, 0.992056131362915, 0.3115284740924835, 0.44826561212539673, 0.0948130190372467, 0.1315772533416748, 0.013544716872274876, 0.29360073804855347, 0.25990885496139526, 0.4452142119407654, 0.9902851581573486, 0.9965705275535583, 0.4374068081378937, 0.38406452536582947, 0.1333557367324829, 0.03200537711381912, 0.012668794952332973, 0.7182738184928894, 0.11273689568042755, 0.0377168208360672, 0.03862665593624115, 0.01993367075920105, 0.0053763012401759624, 0.002894931472837925, 0.05202605202794075, 0.0124068483710289, 0.9931788444519043, 0.34065693616867065, 0.6561647057533264, 0.9956645965576172, 0.22571782767772675, 0.04635277017951012, 0.7255216240882874, 0.4345802366733551, 0.12468969076871872, 0.44008126854896545, 0.9978623986244202, 0.9968092441558838, 0.9973080158233643, 0.9934924244880676, 0.9990970492362976, 0.9913671612739563, 0.4360811412334442, 0.562757670879364, 0.2986319065093994, 0.6995576024055481, 0.9946457147598267, 0.9909654855728149, 0.9931542277336121, 0.9978241920471191, 0.9957094788551331, 0.6020949482917786, 0.10858003795146942, 0.13242705166339874, 0.13580961525440216, 0.02080271765589714, 0.9962512254714966, 0.057747434824705124, 0.14725595712661743, 0.7940272688865662, 0.2950405180454254, 0.5088026523590088, 0.1950681060552597, 0.15811574459075928, 0.8395192623138428, 0.9952439069747925, 0.9951967597007751, 0.9911719560623169, 0.9983986616134644, 0.4798181354999542, 0.021900411695241928, 0.025882305577397346, 0.4698633849620819, 0.9985708594322205, 0.9959520697593689, 0.996417224407196, 0.9970642328262329, 0.9969798922538757, 0.9931661486625671, 0.09618081897497177, 0.08549406379461288, 0.8175369501113892, 0.9983871579170227, 0.9973679780960083, 0.9880490899085999, 0.9905894994735718, 0.8229455947875977, 0.00453701987862587, 0.04990721866488457, 0.04292719066143036, 0.07922334969043732, 0.6959432363510132, 0.3023003339767456, 0.9918283820152283, 0.10826640576124191, 0.8908778429031372, 0.99543696641922, 0.9938227534294128, 0.9984644055366516, 0.9981537461280823, 0.02333306334912777, 0.2916632890701294, 0.5709308981895447, 0.05031191557645798, 0.03572875261306763, 0.026978854089975357, 0.993434488773346, 0.5235137939453125, 0.24031776189804077, 0.2363290786743164, 0.9893030524253845, 0.9974371194839478, 0.9967491626739502, 0.9945642352104187, 0.3434877395629883, 0.6549735069274902, 0.9938584566116333, 0.9947980642318726, 0.9868295788764954, 0.012651661410927773, 0.9929307699203491, 0.5866851210594177, 0.12204395979642868, 0.17281155288219452, 0.11834565550088882, 0.997382640838623, 0.9953177571296692, 0.8384037613868713, 0.16114167869091034, 0.9863540530204773, 0.9965649843215942, 0.9932794570922852, 0.9950438141822815, 0.38306909799575806, 0.5781837701797485, 0.03759089484810829, 0.002098281867802143, 0.40846553444862366, 0.23011156916618347, 0.07903528213500977, 0.2797709107398987, 0.9931915998458862, 0.4835771322250366, 0.008910131640732288, 0.5062574744224548, 0.9913842082023621, 0.048300307244062424, 0.841596245765686, 0.04683666303753853, 0.06293676793575287, 0.9983448386192322, 0.988854169845581, 0.9873155951499939, 0.9968675971031189, 0.9972468018531799, 0.9897483587265015, 0.9959240555763245, 0.671492874622345, 0.32564035058021545, 0.9983218908309937, 0.9995624423027039, 0.41696637868881226, 0.5824797749519348, 0.5818938612937927, 0.41712823510169983, 0.990188717842102, 0.9979479908943176, 0.3494817912578583, 0.1012783944606781, 0.09699902683496475, 0.16261601448059082, 0.28814417123794556, 0.9824792742729187, 0.994678795337677, 0.8851782083511353, 0.11382775753736496, 0.48303917050361633, 0.5139726996421814, 0.9957665801048279, 0.33315974473953247, 0.6640058755874634, 0.5055009126663208, 0.10164963454008102, 0.03846202418208122, 0.1584269106388092, 0.19597317278385162, 0.1658233106136322, 0.1000068411231041, 0.06239743158221245, 0.6094434261322021, 0.06239743158221245, 0.9945164322853088, 0.9948034882545471, 0.9970340728759766, 0.9985028505325317, 0.9873252511024475, 0.9898064136505127, 0.9962563514709473, 0.9959678053855896, 0.5278418064117432, 0.45356571674346924, 0.018225157633423805, 0.9990041851997375, 0.99819016456604, 0.993503212928772, 0.06471559405326843, 0.9313417673110962, 0.9925316572189331, 0.9946321249008179, 0.9937492609024048, 0.995772659778595, 0.9965093731880188, 0.9944836497306824, 0.2507988512516022, 0.6218437552452087, 0.12711723148822784, 0.11161547154188156, 0.4105250835418701, 0.09512682259082794, 0.1699599325656891, 0.20547394454479218, 0.006764574442058802, 0.9952201843261719, 0.9996905326843262, 0.9984713792800903, 0.9958944916725159, 0.9979933500289917, 0.9957855939865112, 0.7175964713096619, 0.17757780849933624, 0.10472537577152252, 0.855734646320343, 0.14233314990997314, 0.9920990467071533, 0.38763144612312317, 0.4345223605632782, 0.1771434098482132, 0.06099722534418106, 0.7319667339324951, 0.2033240795135498, 0.997610867023468, 0.9972538352012634, 0.9991635084152222, 0.994594395160675, 0.9981791973114014, 0.9903558492660522, 0.9985908269882202, 0.9963130950927734, 0.23736512660980225, 0.09003504365682602, 0.6711703538894653, 0.9984501004219055, 0.9981057643890381, 0.9468575119972229, 0.041273847222328186, 0.011760827153921127, 0.9680330753326416, 0.03179670497775078, 0.043933719396591187, 0.42969319224357605, 0.12108561396598816, 0.07072257250547409, 0.33325332403182983, 0.998295783996582, 0.12346719205379486, 0.06690340489149094, 0.6507876515388489, 0.08089229464530945, 0.024936722591519356, 0.029194211587309837, 0.02372029796242714, 0.15008461475372314, 0.8369125127792358, 0.011871099472045898, 0.9932127594947815, 0.9951779246330261, 0.9931591153144836, 0.9983360171318054, 0.19504375755786896, 0.1882399022579193, 0.6146146059036255, 0.9252486824989319, 0.0740198940038681, 0.9981197714805603, 0.2916593551635742, 0.11614752560853958, 0.09937066584825516, 0.4916912019252777, 0.24539661407470703, 0.5226629376411438, 0.03760623559355736, 0.059277623891830444, 0.1077195554971695, 0.026770539581775665, 0.9946931600570679, 0.9858130216598511, 0.9966642260551453, 0.991385281085968, 0.9939969182014465, 0.9885344505310059, 0.008595951832830906, 0.9965234398841858, 0.9224629402160645, 0.07511148601770401, 0.9978507161140442, 0.9979954361915588, 0.9961272478103638, 0.7387538552284241, 0.06254000961780548, 0.19739189743995667, 0.9946566224098206, 0.9927864670753479, 0.9863331317901611, 0.9987205266952515, 0.1550312042236328, 0.00968945026397705, 0.00968945026397705, 0.00968945026397705, 0.0387578010559082, 0.058136701583862305, 0.6879509687423706, 0.995540201663971, 0.17927363514900208, 0.6423971652984619, 0.06936182081699371, 0.10884470492601395, 0.9565706849098206, 0.036634620279073715, 0.9960451126098633, 0.8180468082427979, 0.16678623855113983, 0.014295963570475578, 0.9929943680763245, 0.4449498653411865, 0.5531257390975952, 0.9967864751815796, 0.9993074536323547, 0.9934968948364258, 0.005755552556365728, 0.2796432077884674, 0.11705995351076126, 0.0569041408598423, 0.37068983912467957, 0.175589919090271, 0.9858224391937256, 0.9978565573692322, 0.6360929012298584, 0.11827577650547028, 0.08870682865381241, 0.11250622570514679, 0.043992817401885986, 0.9993751645088196, 0.9869466423988342, 0.2513875663280487, 0.3208184242248535, 0.07421918958425522, 0.35194259881973267, 0.9914903044700623, 0.32085248827934265, 0.6777030229568481, 0.9975590705871582, 0.9917941093444824, 0.9891204833984375, 0.01804923452436924, 0.15041027963161469, 0.08623523265123367, 0.7440295219421387, 0.01249601785093546, 0.21118269860744476, 0.14495380222797394, 0.22492831945419312, 0.008747212588787079, 0.3361428678035736, 0.06123048812150955, 0.2507820427417755, 0.7465140223503113, 0.9950432181358337, 0.02594350464642048, 0.9014399647712708, 0.008905978873372078, 0.0638907179236412, 0.9947189688682556, 0.9934216737747192, 0.9978237152099609, 0.9860689640045166, 0.3041645586490631, 0.004055527504533529, 0.6894397139549255, 0.99775230884552, 0.9540184140205383, 0.011665296740829945, 0.03296714276075363, 0.0010143736144527793, 0.9978155493736267, 0.19991837441921234, 0.326020747423172, 0.45212310552597046, 0.01845400407910347, 0.2877458930015564, 0.08757483959197998, 0.6224068999290466, 0.9943104982376099, 0.0719122588634491, 0.4412480294704437, 0.30859434604644775, 0.1473153978586197, 0.026530735194683075, 0.0041890633292496204, 0.9821583032608032, 0.017715321853756905, 0.9955355525016785, 0.9954391717910767, 0.9978859424591064, 0.990471363067627, 0.16738997399806976, 0.3495955169200897, 0.2240530401468277, 0.0784965455532074, 0.18038609623908997, 0.9349809288978577, 0.00028706813463941216, 0.06459033489227295, 0.9929296970367432, 0.9956849217414856, 0.9984626770019531, 0.9941771030426025, 0.994641900062561, 0.2146865874528885, 0.227132186293602, 0.5538291931152344, 0.9931385517120361, 0.9996160268783569, 0.13077031075954437, 0.5080884695053101, 0.07079920917749405, 0.21656228601932526, 0.07329800724983215, 0.9880548119544983, 0.011719259433448315, 0.9984441995620728, 0.06588144600391388, 0.9300909638404846, 0.7611671686172485, 0.10490445047616959, 0.13174046576023102, 0.9959790706634521, 0.7483183145523071, 0.08677846193313599, 0.10584638267755508, 0.021013619378209114, 0.03774668648838997, 0.9991016387939453, 0.9949947595596313, 0.9192221760749817, 0.08053967356681824, 0.9814180731773376, 0.01845431514084339, 0.9914886355400085, 0.01832401193678379, 0.9803346395492554, 0.994310200214386, 0.9923689365386963, 0.9940943121910095, 0.8687703013420105, 0.0010137342615053058, 0.08272071927785873, 0.032844990491867065, 0.0012164812069386244, 0.013381293043494225, 0.9975348711013794, 0.26157626509666443, 0.18109124898910522, 0.5553464889526367, 0.0858992487192154, 0.9112789630889893, 0.969434916973114, 0.028606276959180832, 0.993722140789032, 0.9936552047729492, 0.9958108067512512, 0.09476468712091446, 0.9037315249443054, 0.9952636957168579, 0.989038348197937, 0.9943553805351257, 0.9922537207603455, 0.9914384484291077, 0.9956980347633362, 0.9863886833190918, 0.9925020933151245, 0.5112706422805786, 0.44382286071777344, 0.0016653765924274921, 0.04246710240840912, 0.9157953262329102, 0.08206051588058472, 0.917523980140686, 0.08186661452054977, 0.8651641011238098, 0.13443171977996826, 0.9933632016181946, 0.996034562587738, 0.9951716065406799, 0.9985940456390381, 0.9957361817359924, 0.9984903335571289, 0.007607241626828909, 0.7283933758735657, 0.07417060434818268, 0.0038036208134144545, 0.08367966115474701, 0.10174685716629028, 0.9949920773506165, 0.9917266368865967, 0.16376695036888123, 0.010235434398055077, 0.010235434398055077, 0.010235434398055077, 0.040941737592220306, 0.06141260266304016, 0.6653032302856445, 0.9963549375534058, 0.8140305280685425, 0.1819234937429428, 0.9949836134910583, 0.5240134596824646, 0.10847346484661102, 0.014848078601062298, 0.0008248932426795363, 0.04454423487186432, 0.15487371385097504, 0.002474679844453931, 0.008661379106342793, 0.1412629634141922, 0.9967772960662842, 0.9912493824958801, 0.9980166554450989, 0.9884517788887024, 0.24065187573432922, 0.01849433407187462, 0.37146544456481934, 0.0018043251475319266, 0.08345004171133041, 0.13735425472259521, 0.016915548592805862, 0.09765910357236862, 0.03202677145600319, 0.9942027926445007, 0.9087231159210205, 0.07132419943809509, 0.01981227658689022, 0.9949058890342712, 0.9939092397689819, 0.02218136191368103, 0.8650731444358826, 0.11090680956840515, 0.2932916283607483, 0.30949559807777405, 0.16203957796096802, 0.2317166030406952, 0.12275109440088272, 0.8752686977386475, 0.9917328953742981, 0.9958371520042419, 0.9577981233596802, 0.01282765343785286, 0.02886222116649151, 0.9952687621116638, 0.9952024221420288, 0.9989548921585083, 0.24214936792850494, 0.7544865012168884, 0.9956384301185608, 0.9936426877975464, 0.9954225420951843, 0.9963251352310181, 0.9316373467445374, 0.06826777756214142, 0.41537898778915405, 0.5834701061248779, 0.9939258694648743, 0.9968980550765991, 0.9954127669334412, 0.898310661315918, 0.062446147203445435, 0.03929537907242775, 0.22658559679985046, 0.7716735601425171, 0.9941718578338623, 0.03340879827737808, 0.962173342704773, 0.9676181674003601, 0.02772403135895729, 0.004208111669868231, 0.9940494894981384, 0.992225706577301, 0.9987603425979614, 0.999334990978241, 0.9936378002166748, 0.9961812496185303, 0.9956628084182739, 0.9988787174224854, 0.2402288317680359, 0.7538214921951294, 0.7057793736457825, 0.2919282019138336, 0.3019324541091919, 0.03522545471787453, 0.6320452690124512, 0.03019324690103531, 0.6078575253486633, 0.17869685590267181, 0.03919801861047745, 0.02478698268532753, 0.12710534036159515, 0.021904775872826576, 0.0002882207336369902, 0.9963658452033997, 0.9970089793205261, 0.9998506903648376, 0.9891436696052551, 0.010118609294295311, 0.0005952123319730163, 0.9886149764060974, 0.9939364194869995, 0.9870163202285767, 0.37049049139022827, 0.08294978737831116, 0.07153723388910294, 0.25636494159698486, 0.062351517379283905, 0.15615715086460114, 0.06579996645450592, 0.6235330104827881, 0.3101998269557953, 0.9934131503105164, 0.9935861229896545, 0.9940826892852783], \"Term\": [\"_\", \"absolutely\", \"absolutely\", \"accelerator\", \"accept\", \"accept\", \"accept\", \"access\", \"access\", \"access\", \"actually\", \"address\", \"address\", \"advance\", \"advance\", \"advance\", \"advance\", \"advertising\", \"advocate\", \"agency\", \"agency\", \"ahl\", \"ai\", \"aid\", \"air\", \"air\", \"air\", \"alan\", \"algorithm\", \"also\", \"also\", \"also\", \"also\", \"also\", \"also\", \"also\", \"also\", \"also\", \"also\", \"american\", \"american\", \"american\", \"american\", \"american\", \"amiga\", \"amount\", \"amount\", \"amount\", \"amount\", \"andrew\", \"animal\", \"announcement\", \"annual\", \"anything\", \"anything\", \"anywhere\", \"apple\", \"application\", \"application\", \"apply\", \"apply\", \"april\", \"april\", \"april\", \"april\", \"april\", \"arab\", \"archive\", \"argument\", \"argument\", \"arizona\", \"arm\", \"arm\", \"armenia\", \"armenian\", \"arrest\", \"art\", \"article\", \"article\", \"article\", \"associate\", \"associate\", \"astronomy\", \"atheism\", \"atheist\", \"attack\", \"attack\", \"attack\", \"audio\", \"aunt\", \"author\", \"author\", \"author\", \"auto\", \"available\", \"available\", \"available\", \"award\", \"ax\", \"back\", \"back\", \"back\", \"back\", \"backup\", \"bad\", \"bad\", \"ball\", \"bank\", \"base\", \"base\", \"base\", \"base\", \"base\", \"base\", \"base\", \"base\", \"baseball\", \"be\", \"beast\", \"belief\", \"believe\", \"believe\", \"believer\", \"benefit\", \"berkeley\", \"better\", \"bf\", \"bhi\", \"bible\", \"bike\", \"biker\", \"bill\", \"bill\", \"binary\", \"bios\", \"birth\", \"bit\", \"bit\", \"bit\", \"bit\", \"blank\", \"blind\", \"blindly\", \"block\", \"block\", \"block\", \"blood\", \"blood\", \"bmw\", \"board\", \"bob\", \"bob\", \"bomb\", \"book\", \"bos\", \"boston\", \"box\", \"box\", \"box\", \"boy\", \"brain\", \"brain\", \"brand\", \"brian\", \"brown\", \"bruce\", \"bs\", \"buf\", \"bug\", \"bus\", \"bus\", \"busmastere\", \"button\", \"buy\", \"buy\", \"byte\", \"c\", \"cable\", \"cache\", \"canada\", \"canada\", \"canada\", \"canada\", \"canadian\", \"cap\", \"captain\", \"car\", \"card\", \"case\", \"case\", \"case\", \"case\", \"case_western\", \"catholic\", \"caviar\", \"cd\", \"cdc\", \"center\", \"center\", \"center\", \"center\", \"center\", \"center\", \"center\", \"centre\", \"channel\", \"character\", \"charle\", \"chi\", \"chicago\", \"child\", \"child\", \"child\", \"child\", \"chip\", \"chip\", \"choice\", \"choose\", \"choose\", \"chris\", \"christ\", \"christian\", \"christianity\", \"church\", \"chz\", \"circle\", \"circle\", \"circuit\", \"city\", \"city\", \"city\", \"civilian\", \"civilian\", \"claim\", \"claim\", \"claim\", \"claim\", \"clark\", \"client\", \"clipper\", \"clipper_chip\", \"club\", \"club\", \"cluster\", \"coach\", \"code\", \"color\", \"com\", \"com\", \"com\", \"com\", \"come\", \"come\", \"come\", \"come\", \"comet\", \"command\", \"command\", \"command\", \"command\", \"community\", \"comp\", \"compression\", \"computer\", \"computer\", \"computer\", \"computer_science\", \"computer_science\", \"computer_science\", \"conclusion\", \"conference\", \"congress\", \"connect\", \"connect\", \"constitution\", \"consulting\", \"contact\", \"contact\", \"contact\", \"contact\", \"contact\", \"context\", \"control\", \"control\", \"control\", \"control\", \"control\", \"controller\", \"convert\", \"convince\", \"cool\", \"copy\", \"copy\", \"copyright\", \"corp\", \"correspond\", \"cost\", \"cost\", \"cost\", \"cost\", \"cost\", \"could\", \"cover\", \"cover\", \"cover\", \"cover\", \"cover\", \"cover\", \"cpu\", \"crash\", \"criminal\", \"criminal\", \"crypto\", \"cub\", \"culture\", \"culture\", \"cup\", \"cx\", \"cycle\", \"damage\", \"damage\", \"database\", \"datum\", \"datum\", \"datum\", \"datum\", \"daughter\", \"david_veal\", \"death\", \"death\", \"death\", \"death\", \"debate\", \"decrypt\", \"default\", \"defense\", \"definition\", \"dept\", \"dept\", \"description\", \"det\", \"detroit\", \"development\", \"development\", \"development\", \"development\", \"devguide\", \"device\", \"device\", \"devil\", \"diagnosis\", \"differential\", \"direct\", \"direct\", \"directory\", \"discussion\", \"discussion\", \"discussion\", \"disease\", \"disk\", \"display\", \"distribution\", \"distribution\", \"division\", \"division\", \"division\", \"dl\", \"dn\", \"do\", \"do\", \"doctor\", \"doctrine\", \"dod\", \"dog\", \"dollar\", \"doug\", \"draft\", \"drive\", \"drive\", \"driver\", \"driver\", \"driver\", \"drug\", \"drug\", \"drum\", \"ds\", \"dual\", \"duo\", \"earth\", \"earth\", \"eat\", \"echo\", \"economic\", \"ecs\", \"ed\", \"ed\", \"edge\", \"edition\", \"eeg\", \"egg\", \"ei\", \"el\", \"email\", \"encrypt\", \"encryption\", \"energy\", \"eng\", \"engine\", \"engine\", \"enough\", \"enough\", \"ensure\", \"entry\", \"environment\", \"environment\", \"eq\", \"eric\", \"error\", \"error\", \"error\", \"escape\", \"espn\", \"ethernet\", \"european\", \"european\", \"even\", \"even\", \"even\", \"even\", \"event\", \"event\", \"event\", \"event\", \"event\", \"everything\", \"evidence\", \"evidence\", \"evil\", \"examine\", \"exist\", \"exist\", \"exist\", \"exist\", \"existence\", \"existence\", \"expansion\", \"explain\", \"explain\", \"explain\", \"external\", \"ey\", \"facility\", \"fairly\", \"faith\", \"family\", \"fan\", \"faq\", \"far\", \"far\", \"father\", \"fax\", \"fb\", \"fbi\", \"feed\", \"feed\", \"field\", \"field\", \"field\", \"fij\", \"file\", \"file\", \"film\", \"final\", \"final\", \"final\", \"final\", \"final\", \"fire\", \"firearm\", \"first\", \"first\", \"first\", \"first\", \"first\", \"first\", \"first\", \"first\", \"fit\", \"fit\", \"fix\", \"flight\", \"folk\", \"follow\", \"follow\", \"follow\", \"follow\", \"follow\", \"follow\", \"font\", \"food\", \"foot\", \"force\", \"force\", \"force\", \"force\", \"force\", \"format\", \"format\", \"forum\", \"frame\", \"frank\", \"frank\", \"free\", \"free\", \"free\", \"free\", \"free\", \"freedom\", \"freedom\", \"frequency\", \"friday\", \"friday\", \"ftp\", \"fuel\", \"fun\", \"game\", \"gang\", \"gateway\", \"gay\", \"general\", \"general\", \"general\", \"general\", \"general\", \"general\", \"general\", \"generally\", \"generate\", \"generate\", \"george\", \"gerald\", \"get\", \"get\", \"get\", \"get\", \"girl\", \"give\", \"give\", \"give\", \"give\", \"give\", \"give\", \"glock\", \"gm\", \"go\", \"go\", \"go\", \"goal\", \"goal\", \"god\", \"good\", \"good\", \"good\", \"good\", \"good\", \"government\", \"government\", \"government\", \"government\", \"govt\", \"grant\", \"graphic\", \"greece\", \"greek\", \"greek\", \"ground\", \"ground\", \"ground\", \"ground\", \"group\", \"group\", \"group\", \"group\", \"group\", \"guarantee\", \"guess\", \"guilty\", \"gun\", \"happy\", \"hardware\", \"hardware\", \"have\", \"have\", \"hawk\", \"hd\", \"headache\", \"health\", \"health_care\", \"hear\", \"helmet\", \"help\", \"help\", \"help\", \"hi\", \"high\", \"high\", \"high\", \"high\", \"high\", \"high\", \"high\", \"high\", \"hill\", \"hint\", \"hit\", \"hit\", \"hit\", \"hitachi\", \"hizbollah\", \"hockey\", \"hole\", \"hole\", \"holy\", \"home\", \"home\", \"home\", \"home\", \"home\", \"homosexual\", \"honda\", \"host\", \"host\", \"host\", \"host\", \"host\", \"host\", \"host\", \"host\", \"houston\", \"human\", \"human\", \"human\", \"husband\", \"ice\", \"icon\", \"ill\", \"illinoi\", \"image\", \"image\", \"immediately\", \"implement\", \"include\", \"include\", \"include\", \"include\", \"include\", \"include\", \"include\", \"include\", \"include\", \"index\", \"indiana\", \"individual\", \"industry\", \"info\", \"info\", \"info\", \"information\", \"information\", \"information\", \"information\", \"information\", \"input\", \"input\", \"instal\", \"insurance\", \"intel\", \"intergraph\", \"internal\", \"internet\", \"interpretation\", \"involve\", \"involve\", \"iran\", \"islam\", \"islam\", \"islamic\", \"israel\", \"israeli\", \"issue\", \"issue\", \"item\", \"jam\", \"jam\", \"jam\", \"jason\", \"jeff\", \"jesus\", \"jew\", \"jewish\", \"jh\", \"jl\", \"joseph\", \"josh\", \"jpl\", \"jumper\", \"justice\", \"key\", \"keyboard\", \"kill\", \"kill\", \"kind\", \"king\", \"king\", \"king\", \"king\", \"know\", \"know\", \"know\", \"koresh\", \"l\", \"lack\", \"land\", \"land\", \"language\", \"language\", \"large\", \"large\", \"large\", \"large\", \"large\", \"last\", \"last\", \"last\", \"last\", \"last\", \"last_night\", \"laugh\", \"launch\", \"law\", \"ld\", \"league\", \"league\", \"leave\", \"leave\", \"leave\", \"leave\", \"lebanese\", \"lebanese_resistance\", \"lebanon\", \"leg\", \"legitimate\", \"letter\", \"lewis\", \"liar\", \"library\", \"libxmu\", \"life\", \"life\", \"life\", \"life\", \"light\", \"light\", \"line\", \"line\", \"line\", \"line\", \"line\", \"line\", \"line\", \"line\", \"line\", \"link\", \"link\", \"list\", \"list\", \"list\", \"list\", \"list\", \"live\", \"live\", \"live\", \"live\", \"lk\", \"localtalk\", \"logic\", \"logo\", \"look\", \"look\", \"look\", \"lord\", \"lose\", \"lose\", \"love\", \"love\", \"low\", \"low\", \"low\", \"low\", \"low\", \"low\", \"ltd\", \"m\", \"mac\", \"machine\", \"machine\", \"magellan\", \"mail\", \"mail\", \"mail\", \"make\", \"make\", \"make\", \"make\", \"male\", \"man\", \"man\", \"man\", \"man\", \"man\", \"manager\", \"manager\", \"many\", \"many\", \"many\", \"many\", \"many\", \"many\", \"many\", \"map\", \"mar\", \"march\", \"maria\", \"mark\", \"mark\", \"mark\", \"mark\", \"mark\", \"mark\", \"mark\", \"mark\", \"mark_baker\", \"master\", \"material\", \"matthew\", \"max\", \"may\", \"may\", \"may\", \"may\", \"may\", \"may\", \"may\", \"may\", \"may\", \"maybe\", \"mb\", \"mc\", \"md\", \"mean\", \"mean\", \"mean\", \"mean\", \"medford\", \"medical\", \"meet\", \"meet\", \"meg\", \"member\", \"member\", \"memory\", \"message\", \"message\", \"message\", \"message\", \"metal\", \"methodology\", \"mhz\", \"mi\", \"michael\", \"michael\", \"michigan\", \"microsoft\", \"mid\", \"migraine\", \"mil\", \"mile\", \"mile\", \"militia\", \"miller\", \"minor\", \"mirror\", \"mission\", \"mj\", \"mk\", \"mode\", \"mode\", \"modem\", \"mon\", \"money\", \"monitor\", \"month\", \"month\", \"month\", \"month\", \"month\", \"month\", \"moon\", \"moral\", \"moral\", \"morality\", \"motherboard\", \"motif\", \"motorcycle\", \"mount\", \"mouse\", \"move\", \"move\", \"move\", \"move\", \"mri\", \"ms\", \"msg\", \"mu\", \"much\", \"much\", \"multi\", \"murder\", \"murder\", \"murray\", \"muslim\", \"muslim\", \"must\", \"must\", \"must\", \"must\", \"must\", \"mv\", \"nasa\", \"national\", \"national\", \"national\", \"national\", \"national\", \"nature\", \"nature\", \"nec\", \"need\", \"need\", \"need\", \"need\", \"need\", \"network\", \"network\", \"network\", \"new\", \"new\", \"new\", \"new\", \"new\", \"new\", \"new\", \"new\", \"new\", \"nhl\", \"nj\", \"nntp_poste\", \"nntp_poste\", \"nntp_poste\", \"nntp_poste\", \"nntp_poste\", \"nntp_poste\", \"nntp_poste\", \"nntp_poste\", \"nntp_poste\", \"nntp_posting\", \"nntp_posting\", \"nntp_posting\", \"nntp_posting\", \"nntp_posting\", \"nntp_posting\", \"nntp_posting\", \"nntp_posting\", \"noise\", \"noise\", \"not\", \"notice\", \"nsa\", \"number\", \"number\", \"number\", \"number\", \"number\", \"number\", \"number\", \"object\", \"object\", \"object\", \"obviously\", \"occupy\", \"offer\", \"offer\", \"offer\", \"offer\", \"offer\", \"offer\", \"offer\", \"ohio_state\", \"oil\", \"old\", \"old\", \"old\", \"old\", \"old\", \"option\", \"option\", \"option\", \"optional\", \"orbit\", \"order\", \"order\", \"order\", \"order\", \"order\", \"organization\", \"organization\", \"organization\", \"organization\", \"organization\", \"organization\", \"organization\", \"organization\", \"organization\", \"origin\", \"originator\", \"originator\", \"pa\", \"package\", \"package\", \"package\", \"page\", \"page\", \"page\", \"pain\", \"palestinian\", \"pat\", \"patent\", \"patient\", \"patrol\", \"pay\", \"pay\", \"pc\", \"pc\", \"peace\", \"pegasus\", \"pem\", \"pen\", \"penguin\", \"people\", \"people\", \"people\", \"people\", \"people\", \"performance\", \"period\", \"period\", \"period\", \"person\", \"person\", \"person\", \"peter\", \"peter\", \"pgp\", \"phil\", \"philosophy\", \"physical\", \"pick\", \"pick\", \"pick\", \"pick\", \"pin\", \"pit\", \"pitcher\", \"pittsburgh\", \"plane\", \"plate\", \"play\", \"play\", \"play\", \"player\", \"playoff\", \"plenty\", \"plug\", \"point\", \"point\", \"point\", \"point\", \"point\", \"police\", \"police\", \"policy_research\", \"population\", \"population\", \"port\", \"positive\", \"possibility\", \"possibly\", \"power\", \"power\", \"power\", \"power\", \"power\", \"power\", \"prayer\", \"price\", \"price\", \"price\", \"primary\", \"print\", \"printer\", \"privacy\", \"private\", \"private\", \"prize\", \"pro\", \"probably\", \"probably\", \"probe\", \"problem\", \"problem\", \"problem\", \"problem\", \"procedure\", \"processor\", \"program\", \"program\", \"progress\", \"project\", \"properly\", \"proposal\", \"protect\", \"protect\", \"protect\", \"provide\", \"provide\", \"provide\", \"provide\", \"provide\", \"pub\", \"public\", \"public\", \"public\", \"publication\", \"purpose\", \"purpose\", \"purpose\", \"purpose\", \"quality\", \"r\", \"radius\", \"raise\", \"ram\", \"ranger\", \"rational\", \"reality\", \"reality\", \"realize\", \"really\", \"reason\", \"reason\", \"receive\", \"receive\", \"receiver\", \"recommend\", \"reference\", \"reference\", \"reference\", \"reference\", \"reference\", \"regional\", \"reject\", \"religion\", \"religion\", \"religious\", \"religious\", \"rent\", \"replace\", \"replace\", \"report\", \"report\", \"report\", \"report\", \"report\", \"research\", \"research\", \"research\", \"research\", \"research\", \"reserve_university\", \"resistance\", \"resource\", \"revelation\", \"reward\", \"ri\", \"ride\", \"rider\", \"right\", \"right\", \"right\", \"ripem\", \"rlk\", \"rob\", \"robert\", \"robert\", \"rochester\", \"roger\", \"ron\", \"route\", \"rsa\", \"rt\", \"rule\", \"rule\", \"rule\", \"run\", \"run\", \"run\", \"run\", \"run\", \"run\", \"russia\", \"s\", \"sale\", \"satan\", \"satellite\", \"saturn\", \"say\", \"say\", \"say\", \"scan\", \"scan\", \"sci\", \"science\", \"science\", \"science\", \"scientific\", \"scientific\", \"scientific\", \"score\", \"scott\", \"screen\", \"scripture\", \"scsi\", \"sea\", \"season\", \"secret\", \"section\", \"section\", \"section\", \"secure\", \"security\", \"see\", \"see\", \"see\", \"seem\", \"seem\", \"sell\", \"sell\", \"sell\", \"sell\", \"sell\", \"seller\", \"send\", \"send\", \"send\", \"send\", \"send\", \"send\", \"send\", \"sense\", \"sense\", \"sense\", \"sensitive\", \"serdar_argic\", \"serial\", \"serial_number\", \"series\", \"series\", \"series\", \"serious\", \"serious\", \"server\", \"service\", \"service\", \"service\", \"service\", \"set\", \"set\", \"set\", \"set\", \"set\", \"set\", \"sex\", \"shai_guday\", \"shall\", \"ship\", \"shipping\", \"shoot\", \"shoot\", \"shuttle\", \"sign\", \"sign\", \"signal\", \"sin\", \"sink\", \"size\", \"size\", \"size\", \"sj\", \"sky\", \"sl\", \"slave\", \"sld\", \"sld\", \"sld\", \"sld\", \"sld\", \"sld\", \"sld\", \"slip\", \"small\", \"small\", \"small\", \"small\", \"smith\", \"smith\", \"socket\", \"software\", \"software\", \"software\", \"software_engineer\", \"soldier\", \"soldier\", \"somebody\", \"someone\", \"something\", \"something\", \"sometimes\", \"sometimes\", \"sometimes\", \"sometimes\", \"sometimes\", \"sony\", \"sort\", \"source\", \"source\", \"source\", \"source\", \"source\", \"space\", \"speaker\", \"special\", \"special\", \"special\", \"special\", \"specify\", \"speed\", \"speed\", \"sphere\", \"spirit\", \"spring\", \"st\", \"st\", \"st\", \"st\", \"standard\", \"standard\", \"standard\", \"standard\", \"standard\", \"standard\", \"standard\", \"star\", \"star\", \"stat\", \"state\", \"state\", \"state\", \"state\", \"statistic\", \"status\", \"step\", \"stereo\", \"steve\", \"steve\", \"steve\", \"steven\", \"still\", \"still\", \"still\", \"still\", \"stl\", \"street\", \"street\", \"street\", \"street\", \"suggestion\", \"suggestion\", \"suggestion\", \"super\", \"support\", \"support\", \"support\", \"support\", \"support\", \"support\", \"sure\", \"sure\", \"surface\", \"sw\", \"syndrome\", \"syrian\", \"system\", \"system\", \"system\", \"system\", \"system\", \"take\", \"take\", \"take\", \"tank\", \"tap\", \"tape\", \"taste\", \"tb\", \"te\", \"te\", \"te\", \"teach\", \"team\", \"technology\", \"technology\", \"technology\", \"technology\", \"technology\", \"tell\", \"tell\", \"telnet\", \"terrorist\", \"terrorist\", \"test\", \"test\", \"test\", \"texas\", \"thank\", \"thank\", \"thank\", \"thank\", \"thank\", \"there\", \"thi\", \"thing\", \"thing\", \"think\", \"think\", \"thinking_machine\", \"thomas\", \"thomas\", \"though\", \"ticket\", \"tie\", \"time\", \"time\", \"time\", \"time\", \"time\", \"time\", \"title\", \"together\", \"together\", \"together\", \"tom\", \"tom\", \"tool\", \"tool\", \"tor\", \"toronto\", \"town\", \"trade\", \"trade\", \"translation\", \"transmission\", \"transmit\", \"trap\", \"travel\", \"trial\", \"trivial\", \"truck\", \"true\", \"true\", \"true\", \"true\", \"trust\", \"trust\", \"truth\", \"truth\", \"try\", \"try\", \"tube\", \"tufts_university\", \"tumor\", \"turk\", \"turkey\", \"turkish\", \"type\", \"type\", \"type\", \"type\", \"type\", \"type\", \"tyre\", \"uk\", \"umu\", \"umu\", \"umu\", \"umu\", \"umu\", \"umu\", \"umu\", \"unit\", \"univ\", \"univ\", \"universe\", \"university\", \"university\", \"university\", \"university\", \"university\", \"university\", \"university\", \"university\", \"university\", \"unix\", \"unlikely\", \"upgrade\", \"urbana\", \"use\", \"use\", \"use\", \"use\", \"use\", \"use\", \"use\", \"use\", \"use\", \"usenet\", \"user\", \"user\", \"user\", \"utility\", \"uunet\", \"valid\", \"valid\", \"valid\", \"value\", \"value\", \"value\", \"value\", \"van\", \"van\", \"vancouver\", \"vehicle\", \"version\", \"version\", \"version\", \"vertical\", \"vesa\", \"video\", \"village\", \"village\", \"violence\", \"visible\", \"vlb\", \"vote\", \"want\", \"want\", \"war\", \"war\", \"warrant\", \"warranty\", \"wave\", \"way\", \"way\", \"way\", \"weapon\", \"weapon\", \"weekly\", \"weight\", \"weight\", \"well\", \"well\", \"well\", \"widget\", \"william\", \"win\", \"window\", \"window_manager\", \"wing\", \"winner\", \"wire\", \"withdraw\", \"withdraw\", \"woman\", \"woman\", \"word\", \"word\", \"word\", \"word\", \"work\", \"work\", \"work\", \"work\", \"work\", \"work\", \"work\", \"worship\", \"worth\", \"would\", \"write\", \"write\", \"write\", \"writer\", \"xterm\", \"xv\", \"year\", \"year\", \"year\", \"year\", \"year\", \"year\", \"young\", \"young\", \"young\", \"youth\", \"zip\", \"zone\"]}, \"R\": 30, \"lambda.step\": 0.01, \"plot.opts\": {\"xlab\": \"PC1\", \"ylab\": \"PC2\"}, \"topic.order\": [4, 15, 14, 11, 10, 17, 5, 7, 18, 19, 20, 1, 6, 3, 12, 2, 16, 13, 9, 8]};\n",
              "\n",
              "function LDAvis_load_lib(url, callback){\n",
              "  var s = document.createElement('script');\n",
              "  s.src = url;\n",
              "  s.async = true;\n",
              "  s.onreadystatechange = s.onload = callback;\n",
              "  s.onerror = function(){console.warn(\"failed to load library \" + url);};\n",
              "  document.getElementsByTagName(\"head\")[0].appendChild(s);\n",
              "}\n",
              "\n",
              "if(typeof(LDAvis) !== \"undefined\"){\n",
              "   // already loaded: just create the visualization\n",
              "   !function(LDAvis){\n",
              "       new LDAvis(\"#\" + \"ldavis_el1271402344151689928031115488\", ldavis_el1271402344151689928031115488_data);\n",
              "   }(LDAvis);\n",
              "}else if(typeof define === \"function\" && define.amd){\n",
              "   // require.js is available: use it to load d3/LDAvis\n",
              "   require.config({paths: {d3: \"https://cdnjs.cloudflare.com/ajax/libs/d3/3.5.5/d3.min\"}});\n",
              "   require([\"d3\"], function(d3){\n",
              "      window.d3 = d3;\n",
              "      LDAvis_load_lib(\"https://cdn.rawgit.com/bmabey/pyLDAvis/files/ldavis.v1.0.0.js\", function(){\n",
              "        new LDAvis(\"#\" + \"ldavis_el1271402344151689928031115488\", ldavis_el1271402344151689928031115488_data);\n",
              "      });\n",
              "    });\n",
              "}else{\n",
              "    // require.js not available: dynamically load d3 & LDAvis\n",
              "    LDAvis_load_lib(\"https://cdnjs.cloudflare.com/ajax/libs/d3/3.5.5/d3.min.js\", function(){\n",
              "         LDAvis_load_lib(\"https://cdn.rawgit.com/bmabey/pyLDAvis/files/ldavis.v1.0.0.js\", function(){\n",
              "                 new LDAvis(\"#\" + \"ldavis_el1271402344151689928031115488\", ldavis_el1271402344151689928031115488_data);\n",
              "            })\n",
              "         });\n",
              "}\n",
              "</script>"
            ],
            "text/plain": [
              "PreparedData(topic_coordinates=              x         y  topics  cluster       Freq\n",
              "topic                                                \n",
              "3     -0.302004 -0.004834       1        1  28.122383\n",
              "14    -0.172304  0.119750       2        1   7.815711\n",
              "13    -0.171614 -0.186781       3        1   7.792873\n",
              "10    -0.187777  0.195854       4        1   6.017332\n",
              "9     -0.106181 -0.142495       5        1   5.953559\n",
              "16    -0.070583  0.187612       6        1   5.176433\n",
              "4      0.180301  0.038642       7        1   4.715446\n",
              "6     -0.090356 -0.232339       8        1   4.442491\n",
              "17     0.021598 -0.058459       9        1   3.720680\n",
              "18    -0.033587 -0.052879      10        1   3.648006\n",
              "19    -0.032828  0.019982      11        1   3.127818\n",
              "0      0.057175 -0.013807      12        1   3.003820\n",
              "5     -0.000171  0.235547      13        1   2.563962\n",
              "2      0.098475 -0.065427      14        1   2.421031\n",
              "11     0.070174 -0.121619      15        1   2.329650\n",
              "1      0.094369  0.081209      16        1   2.052339\n",
              "15     0.137440 -0.039800      17        1   2.002169\n",
              "12     0.138754 -0.005688      18        1   1.766240\n",
              "8      0.159894  0.018935      19        1   1.762640\n",
              "7      0.209227  0.026599      20        1   1.565411, topic_info=      Category          Freq   Term         Total  loglift  logprob\n",
              "5531   Default  39848.000000     ax  39848.000000  30.0000  30.0000\n",
              "80     Default  15779.000000    not  15779.000000  29.0000  29.0000\n",
              "63     Default   9910.000000     do   9910.000000  28.0000  28.0000\n",
              "238    Default  10080.000000  write  10080.000000  27.0000  27.0000\n",
              "383    Default   9033.000000  would   9033.000000  26.0000  26.0000\n",
              "...        ...           ...    ...           ...      ...      ...\n",
              "24546  Topic20     60.850754    ecs     61.860065   4.1406  -6.0102\n",
              "11808  Topic20     60.579182     jl     61.588493   4.1405  -6.0147\n",
              "68658  Topic20     66.599068      l     68.139969   4.1341  -5.9200\n",
              "70018  Topic20     70.816444    sld    103.205032   3.7804  -5.8586\n",
              "70049  Topic20     65.239204    umu     97.699814   3.7532  -5.9406\n",
              "\n",
              "[988 rows x 6 columns], token_table=      Topic      Freq         Term\n",
              "term                              \n",
              "5523     20  0.999020            _\n",
              "6731      5  0.956727   absolutely\n",
              "6731     11  0.040633   absolutely\n",
              "7109      9  0.996233  accelerator\n",
              "1630      4  0.697233       accept\n",
              "...     ...       ...          ...\n",
              "730       6  0.623533        young\n",
              "730       9  0.310200        young\n",
              "6933     13  0.993413        youth\n",
              "6800      3  0.993586          zip\n",
              "2675     17  0.994083         zone\n",
              "\n",
              "[1645 rows x 3 columns], R=30, lambda_step=0.01, plot_opts={'xlab': 'PC1', 'ylab': 'PC2'}, topic_order=[4, 15, 14, 11, 10, 17, 5, 7, 18, 19, 20, 1, 6, 3, 12, 2, 16, 13, 9, 8])"
            ]
          },
          "metadata": {
            "tags": []
          },
          "execution_count": 16
        }
      ]
    },
    {
      "cell_type": "code",
      "metadata": {
        "id": "DMZjx6YUmAIy",
        "colab_type": "code",
        "colab": {}
      },
      "source": [
        ""
      ],
      "execution_count": 0,
      "outputs": []
    }
  ]
}
